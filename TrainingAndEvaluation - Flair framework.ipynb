{
 "cells": [
  {
   "cell_type": "markdown",
   "id": "6ceeef59",
   "metadata": {
    "papermill": {
     "duration": 0.022895,
     "end_time": "2022-05-28T07:47:25.182340",
     "exception": false,
     "start_time": "2022-05-28T07:47:25.159445",
     "status": "completed"
    },
    "tags": []
   },
   "source": [
    "For entailment, we need to use [DataPairCorpus](https://github.com/flairNLP/flair/blob/v0.11/flair/datasets/text_text.py#L198=) and [TextPairClassifier](https://github.com/flairNLP/flair/blob/v0.11/flair/models/pairwise_classification_model.py#L10=).\n",
    "\n",
    "Example of NLI here: https://github.com/flairNLP/flair/issues/2536\n",
    "\n",
    "## Global Variables"
   ]
  },
  {
   "cell_type": "code",
   "execution_count": 1,
   "id": "3f594f05",
   "metadata": {
    "execution": {
     "iopub.execute_input": "2022-05-28T07:47:25.235797Z",
     "iopub.status.busy": "2022-05-28T07:47:25.234963Z",
     "iopub.status.idle": "2022-05-28T07:47:25.238595Z",
     "shell.execute_reply": "2022-05-28T07:47:25.238090Z",
     "shell.execute_reply.started": "2022-05-28T07:45:38.745140Z"
    },
    "papermill": {
     "duration": 0.0338,
     "end_time": "2022-05-28T07:47:25.238729",
     "exception": false,
     "start_time": "2022-05-28T07:47:25.204929",
     "status": "completed"
    },
    "tags": []
   },
   "outputs": [],
   "source": [
    "BATCH_SIZE = 8\n",
    "LEARNING_RATE = 1e-3\n",
    "EPOCHS = 20\n",
    "BINARY_CLASS = False\n",
    "EMBEDDING = 'flair' # glove | elmo | flair"
   ]
  },
  {
   "cell_type": "markdown",
   "id": "9ec0786b",
   "metadata": {
    "papermill": {
     "duration": 0.020664,
     "end_time": "2022-05-28T07:47:25.280467",
     "exception": false,
     "start_time": "2022-05-28T07:47:25.259803",
     "status": "completed"
    },
    "tags": []
   },
   "source": [
    "## Set Main Paths"
   ]
  },
  {
   "cell_type": "code",
   "execution_count": 2,
   "id": "5f8e4b5a",
   "metadata": {
    "execution": {
     "iopub.execute_input": "2022-05-28T07:47:25.329584Z",
     "iopub.status.busy": "2022-05-28T07:47:25.328913Z",
     "iopub.status.idle": "2022-05-28T07:47:25.332612Z",
     "shell.execute_reply": "2022-05-28T07:47:25.333184Z",
     "shell.execute_reply.started": "2022-05-28T07:45:38.780766Z"
    },
    "papermill": {
     "duration": 0.032102,
     "end_time": "2022-05-28T07:47:25.333358",
     "exception": false,
     "start_time": "2022-05-28T07:47:25.301256",
     "status": "completed"
    },
    "tags": []
   },
   "outputs": [
    {
     "name": "stdout",
     "output_type": "stream",
     "text": [
      "Platform: kaggle\n"
     ]
    }
   ],
   "source": [
    "import os\n",
    "\n",
    "try:\n",
    "    from google.colab import drive\n",
    "    drive.mount('/content/drive')\n",
    "except:\n",
    "    pass\n",
    "\n",
    "if os.path.isdir('/content/drive'): # Google Drive\n",
    "    save_dir = '/content/drive/MyDrive/models'\n",
    "    corpus_folder = '/content/drive/MyDrive/data/cpca/'\n",
    "    platform = 'colab'\n",
    "elif os.path.isdir('/kaggle/working'): # Kaggle\n",
    "    save_dir = '/kaggle/working'\n",
    "    corpus_folder = '../input/riposte/cpca/'\n",
    "    platform = 'kaggle'\n",
    "else: # Others\n",
    "    save_dir = './'\n",
    "    corpus_folder = './data/cpca/'\n",
    "    platform = 'other'\n",
    "\n",
    "corpus_folder = f'{corpus_folder}/sampled'\n",
    "print(f'Platform: {platform}')"
   ]
  },
  {
   "cell_type": "markdown",
   "id": "74777e9c",
   "metadata": {
    "papermill": {
     "duration": 0.02127,
     "end_time": "2022-05-28T07:47:25.377495",
     "exception": false,
     "start_time": "2022-05-28T07:47:25.356225",
     "status": "completed"
    },
    "tags": []
   },
   "source": [
    "## Install Requirements\n",
    "\n",
    "There are problems to use ELMo with latest versions of Flair. Related open issues:\n",
    "\n",
    "* https://github.com/flairNLP/flair/issues/1729\n",
    "* https://github.com/flairNLP/flair/issues/2647#issuecomment-1050891147=\n",
    "\n",
    "For the rest, we prefer to use the latest version."
   ]
  },
  {
   "cell_type": "code",
   "execution_count": 3,
   "id": "d2196955",
   "metadata": {
    "execution": {
     "iopub.execute_input": "2022-05-28T07:47:25.424552Z",
     "iopub.status.busy": "2022-05-28T07:47:25.423782Z",
     "iopub.status.idle": "2022-05-28T07:48:07.135061Z",
     "shell.execute_reply": "2022-05-28T07:48:07.135529Z",
     "shell.execute_reply.started": "2022-05-28T07:45:38.794546Z"
    },
    "papermill": {
     "duration": 41.737085,
     "end_time": "2022-05-28T07:48:07.135704",
     "exception": false,
     "start_time": "2022-05-28T07:47:25.398619",
     "status": "completed"
    },
    "tags": []
   },
   "outputs": [
    {
     "name": "stdout",
     "output_type": "stream",
     "text": [
      "Collecting flair\r\n",
      "  Downloading flair-0.11.3-py3-none-any.whl (401 kB)\r\n",
      "     |████████████████████████████████| 401 kB 261 kB/s            \r\n",
      "\u001b[?25hRequirement already satisfied: hyperopt>=0.2.7 in /opt/conda/lib/python3.7/site-packages (from flair) (0.2.7)\r\n",
      "Requirement already satisfied: deprecated>=1.2.4 in /opt/conda/lib/python3.7/site-packages (from flair) (1.2.13)\r\n",
      "Requirement already satisfied: transformers>=4.0.0 in /opt/conda/lib/python3.7/site-packages (from flair) (4.16.2)\r\n",
      "Requirement already satisfied: lxml in /opt/conda/lib/python3.7/site-packages (from flair) (4.8.0)\r\n",
      "Requirement already satisfied: tabulate in /opt/conda/lib/python3.7/site-packages (from flair) (0.8.9)\r\n",
      "Collecting bpemb>=0.3.2\r\n",
      "  Downloading bpemb-0.3.3-py3-none-any.whl (19 kB)\r\n",
      "Collecting segtok>=1.5.7\r\n",
      "  Downloading segtok-1.5.11-py3-none-any.whl (24 kB)\r\n",
      "Requirement already satisfied: matplotlib>=2.2.3 in /opt/conda/lib/python3.7/site-packages (from flair) (3.5.1)\r\n",
      "Collecting mpld3==0.3\r\n",
      "  Downloading mpld3-0.3.tar.gz (788 kB)\r\n",
      "     |████████████████████████████████| 788 kB 4.3 MB/s            \r\n",
      "\u001b[?25h  Preparing metadata (setup.py) ... \u001b[?25l-\b \bdone\r\n",
      "\u001b[?25hCollecting conllu>=4.0\r\n",
      "  Downloading conllu-4.4.2-py2.py3-none-any.whl (15 kB)\r\n",
      "Requirement already satisfied: regex in /opt/conda/lib/python3.7/site-packages (from flair) (2021.11.10)\r\n",
      "Requirement already satisfied: more-itertools in /opt/conda/lib/python3.7/site-packages (from flair) (8.12.0)\r\n",
      "Requirement already satisfied: scikit-learn>=0.21.3 in /opt/conda/lib/python3.7/site-packages (from flair) (1.0.1)\r\n",
      "Requirement already satisfied: tqdm>=4.26.0 in /opt/conda/lib/python3.7/site-packages (from flair) (4.62.3)\r\n",
      "Requirement already satisfied: sqlitedict>=1.6.0 in /opt/conda/lib/python3.7/site-packages (from flair) (2.0.0)\r\n",
      "Requirement already satisfied: huggingface-hub in /opt/conda/lib/python3.7/site-packages (from flair) (0.4.0)\r\n",
      "Collecting gdown==4.4.0\r\n",
      "  Downloading gdown-4.4.0.tar.gz (14 kB)\r\n",
      "  Installing build dependencies ... \u001b[?25l-\b \b\\\b \b|\b \b/\b \b-\b \b\\\b \bdone\r\n",
      "\u001b[?25h  Getting requirements to build wheel ... \u001b[?25l-\b \b\\\b \b|\b \b/\b \b-\b \bdone\r\n",
      "\u001b[?25h  Preparing metadata (pyproject.toml) ... \u001b[?25l-\b \b\\\b \b|\b \b/\b \b-\b \bdone\r\n",
      "\u001b[?25hCollecting ftfy\r\n",
      "  Downloading ftfy-6.1.1-py3-none-any.whl (53 kB)\r\n",
      "     |████████████████████████████████| 53 kB 1.3 MB/s             \r\n",
      "\u001b[?25hCollecting wikipedia-api\r\n",
      "  Downloading Wikipedia-API-0.5.4.tar.gz (18 kB)\r\n",
      "  Preparing metadata (setup.py) ... \u001b[?25l-\b \bdone\r\n",
      "\u001b[?25hCollecting sentencepiece==0.1.95\r\n",
      "  Downloading sentencepiece-0.1.95-cp37-cp37m-manylinux2014_x86_64.whl (1.2 MB)\r\n",
      "     |████████████████████████████████| 1.2 MB 11.5 MB/s            \r\n",
      "\u001b[?25hCollecting langdetect\r\n",
      "  Downloading langdetect-1.0.9.tar.gz (981 kB)\r\n",
      "     |████████████████████████████████| 981 kB 28.6 MB/s            \r\n",
      "\u001b[?25h  Preparing metadata (setup.py) ... \u001b[?25l-\b \bdone\r\n",
      "\u001b[?25hCollecting pptree\r\n",
      "  Downloading pptree-3.1.tar.gz (3.0 kB)\r\n",
      "  Preparing metadata (setup.py) ... \u001b[?25l-\b \bdone\r\n",
      "\u001b[?25hRequirement already satisfied: gensim>=3.4.0 in /opt/conda/lib/python3.7/site-packages (from flair) (4.0.1)\r\n",
      "Collecting konoha<5.0.0,>=4.0.0\r\n",
      "  Downloading konoha-4.6.5-py3-none-any.whl (20 kB)\r\n",
      "Requirement already satisfied: python-dateutil>=2.6.1 in /opt/conda/lib/python3.7/site-packages (from flair) (2.8.2)\r\n",
      "Requirement already satisfied: torch!=1.8,>=1.5.0 in /opt/conda/lib/python3.7/site-packages (from flair) (1.9.1)\r\n",
      "Requirement already satisfied: janome in /opt/conda/lib/python3.7/site-packages (from flair) (0.4.2)\r\n",
      "Requirement already satisfied: beautifulsoup4 in /opt/conda/lib/python3.7/site-packages (from gdown==4.4.0->flair) (4.10.0)\r\n",
      "Requirement already satisfied: six in /opt/conda/lib/python3.7/site-packages (from gdown==4.4.0->flair) (1.16.0)\r\n",
      "Requirement already satisfied: filelock in /opt/conda/lib/python3.7/site-packages (from gdown==4.4.0->flair) (3.6.0)\r\n",
      "Requirement already satisfied: requests[socks] in /opt/conda/lib/python3.7/site-packages (from gdown==4.4.0->flair) (2.26.0)\r\n",
      "Requirement already satisfied: numpy in /opt/conda/lib/python3.7/site-packages (from bpemb>=0.3.2->flair) (1.20.3)\r\n",
      "Requirement already satisfied: wrapt<2,>=1.10 in /opt/conda/lib/python3.7/site-packages (from deprecated>=1.2.4->flair) (1.13.3)\r\n",
      "Requirement already satisfied: smart-open>=1.8.1 in /opt/conda/lib/python3.7/site-packages (from gensim>=3.4.0->flair) (5.2.1)\r\n",
      "Requirement already satisfied: scipy>=0.18.1 in /opt/conda/lib/python3.7/site-packages (from gensim>=3.4.0->flair) (1.7.3)\r\n",
      "Requirement already satisfied: cloudpickle in /opt/conda/lib/python3.7/site-packages (from hyperopt>=0.2.7->flair) (2.0.0)\r\n",
      "Requirement already satisfied: py4j in /opt/conda/lib/python3.7/site-packages (from hyperopt>=0.2.7->flair) (0.10.9.4)\r\n",
      "Requirement already satisfied: networkx>=2.2 in /opt/conda/lib/python3.7/site-packages (from hyperopt>=0.2.7->flair) (2.6.3)\r\n",
      "Requirement already satisfied: future in /opt/conda/lib/python3.7/site-packages (from hyperopt>=0.2.7->flair) (0.18.2)\r\n",
      "Collecting overrides<4.0.0,>=3.0.0\r\n",
      "  Downloading overrides-3.1.0.tar.gz (11 kB)\r\n",
      "  Preparing metadata (setup.py) ... \u001b[?25l-\b \bdone\r\n",
      "\u001b[?25hCollecting importlib-metadata<4.0.0,>=3.7.0\r\n",
      "  Downloading importlib_metadata-3.10.1-py3-none-any.whl (14 kB)\r\n",
      "Requirement already satisfied: pillow>=6.2.0 in /opt/conda/lib/python3.7/site-packages (from matplotlib>=2.2.3->flair) (8.2.0)\r\n",
      "Requirement already satisfied: packaging>=20.0 in /opt/conda/lib/python3.7/site-packages (from matplotlib>=2.2.3->flair) (21.3)\r\n",
      "Requirement already satisfied: cycler>=0.10 in /opt/conda/lib/python3.7/site-packages (from matplotlib>=2.2.3->flair) (0.11.0)\r\n",
      "Requirement already satisfied: fonttools>=4.22.0 in /opt/conda/lib/python3.7/site-packages (from matplotlib>=2.2.3->flair) (4.28.4)\r\n",
      "Requirement already satisfied: kiwisolver>=1.0.1 in /opt/conda/lib/python3.7/site-packages (from matplotlib>=2.2.3->flair) (1.3.2)\r\n",
      "Requirement already satisfied: pyparsing>=2.2.1 in /opt/conda/lib/python3.7/site-packages (from matplotlib>=2.2.3->flair) (3.0.6)\r\n",
      "Requirement already satisfied: threadpoolctl>=2.0.0 in /opt/conda/lib/python3.7/site-packages (from scikit-learn>=0.21.3->flair) (3.0.0)\r\n",
      "Requirement already satisfied: joblib>=0.11 in /opt/conda/lib/python3.7/site-packages (from scikit-learn>=0.21.3->flair) (1.1.0)\r\n",
      "Requirement already satisfied: typing-extensions in /opt/conda/lib/python3.7/site-packages (from torch!=1.8,>=1.5.0->flair) (4.1.1)\r\n",
      "Requirement already satisfied: sacremoses in /opt/conda/lib/python3.7/site-packages (from transformers>=4.0.0->flair) (0.0.49)\r\n",
      "Requirement already satisfied: tokenizers!=0.11.3,>=0.10.1 in /opt/conda/lib/python3.7/site-packages (from transformers>=4.0.0->flair) (0.11.6)\r\n",
      "Requirement already satisfied: pyyaml>=5.1 in /opt/conda/lib/python3.7/site-packages (from transformers>=4.0.0->flair) (6.0)\r\n",
      "Requirement already satisfied: wcwidth>=0.2.5 in /opt/conda/lib/python3.7/site-packages (from ftfy->flair) (0.2.5)\r\n",
      "Requirement already satisfied: zipp>=0.5 in /opt/conda/lib/python3.7/site-packages (from importlib-metadata<4.0.0,>=3.7.0->konoha<5.0.0,>=4.0.0->flair) (3.6.0)\r\n",
      "Requirement already satisfied: certifi>=2017.4.17 in /opt/conda/lib/python3.7/site-packages (from requests[socks]->gdown==4.4.0->flair) (2021.10.8)\r\n",
      "Requirement already satisfied: idna<4,>=2.5 in /opt/conda/lib/python3.7/site-packages (from requests[socks]->gdown==4.4.0->flair) (3.1)\r\n",
      "Requirement already satisfied: charset-normalizer~=2.0.0 in /opt/conda/lib/python3.7/site-packages (from requests[socks]->gdown==4.4.0->flair) (2.0.9)\r\n",
      "Requirement already satisfied: urllib3<1.27,>=1.21.1 in /opt/conda/lib/python3.7/site-packages (from requests[socks]->gdown==4.4.0->flair) (1.26.7)\r\n",
      "Requirement already satisfied: soupsieve>1.2 in /opt/conda/lib/python3.7/site-packages (from beautifulsoup4->gdown==4.4.0->flair) (2.3.1)\r\n",
      "Requirement already satisfied: PySocks!=1.5.7,>=1.5.6 in /opt/conda/lib/python3.7/site-packages (from requests[socks]->gdown==4.4.0->flair) (1.7.1)\r\n",
      "Requirement already satisfied: click in /opt/conda/lib/python3.7/site-packages (from sacremoses->transformers>=4.0.0->flair) (8.0.3)\r\n",
      "Building wheels for collected packages: gdown, mpld3, langdetect, pptree, wikipedia-api, overrides\r\n",
      "  Building wheel for gdown (pyproject.toml) ... \u001b[?25l-\b \b\\\b \b|\b \b/\b \b-\b \b\\\b \b|\b \b/\b \bdone\r\n",
      "\u001b[?25h  Created wheel for gdown: filename=gdown-4.4.0-py3-none-any.whl size=14759 sha256=024e0d923c1246cc7da053f34af9bed3aa026afc8e546e540ab1ed1f0423870f\r\n",
      "  Stored in directory: /root/.cache/pip/wheels/fb/c3/0e/c4d8ff8bfcb0461afff199471449f642179b74968c15b7a69c\r\n",
      "  Building wheel for mpld3 (setup.py) ... \u001b[?25l-\b \b\\\b \bdone\r\n",
      "\u001b[?25h  Created wheel for mpld3: filename=mpld3-0.3-py3-none-any.whl size=116702 sha256=3a905dd3f5fc3e7f4f128721d1ad4d5b5867e48247f2f76964c1f210c5bb5a2a\r\n",
      "  Stored in directory: /root/.cache/pip/wheels/26/70/6a/1c79e59951a41b4045497da187b2724f5659ca64033cf4548e\r\n",
      "  Building wheel for langdetect (setup.py) ... \u001b[?25l-\b \b\\\b \b|\b \b/\b \bdone\r\n",
      "\u001b[?25h  Created wheel for langdetect: filename=langdetect-1.0.9-py3-none-any.whl size=993242 sha256=4d610ffc5bdfa5c4d0846013a32a948049260d28f83d35aff95ab9789e59d363\r\n",
      "  Stored in directory: /root/.cache/pip/wheels/c5/96/8a/f90c59ed25d75e50a8c10a1b1c2d4c402e4dacfa87f3aff36a\r\n",
      "  Building wheel for pptree (setup.py) ... \u001b[?25l-\b \bdone\r\n",
      "\u001b[?25h  Created wheel for pptree: filename=pptree-3.1-py3-none-any.whl size=4629 sha256=a98e21a51f7119e8a676e1e436849e0de3102dde26aa6af7842f76ab2227cfc0\r\n",
      "  Stored in directory: /root/.cache/pip/wheels/9e/e8/7d/a9c3c19b4722608a0d8b05a38c36bc3f230c43becd2a46794b\r\n",
      "  Building wheel for wikipedia-api (setup.py) ... \u001b[?25l-\b \bdone\r\n",
      "\u001b[?25h  Created wheel for wikipedia-api: filename=Wikipedia_API-0.5.4-py3-none-any.whl size=13475 sha256=bd08d4dd422232fb26a4171ff8e0c88e6fead7b3e9f780785a40b79cdada8518\r\n",
      "  Stored in directory: /root/.cache/pip/wheels/d3/24/56/58ba93cf78be162451144e7a9889603f437976ef1ae7013d04\r\n",
      "  Building wheel for overrides (setup.py) ... \u001b[?25l-\b \bdone\r\n",
      "\u001b[?25h  Created wheel for overrides: filename=overrides-3.1.0-py3-none-any.whl size=10186 sha256=4661b44196f4fdf084c6a5d95f7f8282c1276944a6d42264d4634cd66b02a2cd\r\n",
      "  Stored in directory: /root/.cache/pip/wheels/3a/0d/38/01a9bc6e20dcfaf0a6a7b552d03137558ba1c38aea47644682\r\n",
      "Successfully built gdown mpld3 langdetect pptree wikipedia-api overrides\r\n",
      "Installing collected packages: importlib-metadata, sentencepiece, overrides, wikipedia-api, segtok, pptree, mpld3, langdetect, konoha, gdown, ftfy, conllu, bpemb, flair\r\n",
      "  Attempting uninstall: importlib-metadata\r\n",
      "    Found existing installation: importlib-metadata 4.11.3\r\n",
      "    Uninstalling importlib-metadata-4.11.3:\r\n",
      "      Successfully uninstalled importlib-metadata-4.11.3\r\n",
      "  Attempting uninstall: sentencepiece\r\n",
      "    Found existing installation: sentencepiece 0.1.96\r\n",
      "    Uninstalling sentencepiece-0.1.96:\r\n",
      "      Successfully uninstalled sentencepiece-0.1.96\r\n",
      "  Attempting uninstall: mpld3\r\n",
      "    Found existing installation: mpld3 0.5.7\r\n",
      "    Uninstalling mpld3-0.5.7:\r\n",
      "      Successfully uninstalled mpld3-0.5.7\r\n",
      "\u001b[31mERROR: pip's dependency resolver does not currently take into account all the packages that are installed. This behaviour is the source of the following dependency conflicts.\r\n",
      "markdown 3.3.6 requires importlib-metadata>=4.4; python_version < \"3.10\", but you have importlib-metadata 3.10.1 which is incompatible.\r\n",
      "ibis-framework 2.1.1 requires importlib-metadata<5,>=4; python_version < \"3.8\", but you have importlib-metadata 3.10.1 which is incompatible.\r\n",
      "gym 0.23.1 requires importlib-metadata>=4.10.0; python_version < \"3.10\", but you have importlib-metadata 3.10.1 which is incompatible.\r\n",
      "arviz 0.11.4 requires typing-extensions<4,>=3.7.4.3, but you have typing-extensions 4.1.1 which is incompatible.\u001b[0m\r\n",
      "Successfully installed bpemb-0.3.3 conllu-4.4.2 flair-0.11.3 ftfy-6.1.1 gdown-4.4.0 importlib-metadata-3.10.1 konoha-4.6.5 langdetect-1.0.9 mpld3-0.3 overrides-3.1.0 pptree-3.1 segtok-1.5.11 sentencepiece-0.1.95 wikipedia-api-0.5.4\r\n",
      "\u001b[33mWARNING: Running pip as the 'root' user can result in broken permissions and conflicting behaviour with the system package manager. It is recommended to use a virtual environment instead: https://pip.pypa.io/warnings/venv\u001b[0m\r\n"
     ]
    }
   ],
   "source": [
    "if EMBEDDING == 'elmo':\n",
    "    !pip install allennlp==0.9.0\n",
    "!pip install flair"
   ]
  },
  {
   "cell_type": "markdown",
   "id": "b44a730c",
   "metadata": {
    "papermill": {
     "duration": 0.055344,
     "end_time": "2022-05-28T07:48:07.246673",
     "exception": false,
     "start_time": "2022-05-28T07:48:07.191329",
     "status": "completed"
    },
    "tags": []
   },
   "source": [
    "# Flair Extension\n",
    "\n",
    "Flair does not support multi-label corpus in data-pair datasets. So we will create specific dataset and corpus classes. The code is based on [DataPairDataset](https://github.com/flairNLP/flair/blob/v0.11/flair/datasets/text_text.py#L312-L444=) class to support multi-label, and scores."
   ]
  },
  {
   "cell_type": "code",
   "execution_count": 4,
   "id": "85a6d6a8",
   "metadata": {
    "execution": {
     "iopub.execute_input": "2022-05-28T07:48:07.377012Z",
     "iopub.status.busy": "2022-05-28T07:48:07.364476Z",
     "iopub.status.idle": "2022-05-28T07:48:14.722802Z",
     "shell.execute_reply": "2022-05-28T07:48:14.723595Z",
     "shell.execute_reply.started": "2022-05-28T07:46:26.545902Z"
    },
    "papermill": {
     "duration": 7.422239,
     "end_time": "2022-05-28T07:48:14.723775",
     "exception": false,
     "start_time": "2022-05-28T07:48:07.301536",
     "status": "completed"
    },
    "tags": []
   },
   "outputs": [],
   "source": [
    "from flair.datasets  import DataPairDataset\n",
    "from flair.data import Sentence, TextPair\n",
    "from pathlib import Path\n",
    "from typing import List, Union\n",
    "\n",
    "class DataPairMultilabelDataset(DataPairDataset):\n",
    "    def __init__(\n",
    "        self,\n",
    "        path_to_data: Union[str, Path],\n",
    "        columns: List[int] = [0, 1, 2],\n",
    "        max_tokens_per_doc=-1,\n",
    "        max_chars_per_doc=-1,\n",
    "        use_tokenizer=True,\n",
    "        in_memory: bool = True,\n",
    "        label_type: str = None,\n",
    "        skip_first_line: bool = False,\n",
    "        separator: str = \"\\t\",\n",
    "        encoding: str = \"utf-8\",\n",
    "        label: bool = True,\n",
    "    ):\n",
    "        \"\"\"\n",
    "        Creates a Dataset for pairs of sentences/paragraphs. The file needs to be in a column format,\n",
    "        where each line has a column for the first sentence/paragraph, the second sentence/paragraph and the label\n",
    "        seperated by e.g. '\\t' (just like in the glue RTE-dataset https://gluebenchmark.com/tasks) .\n",
    "        For each data pair we create a flair.data.DataPair object.\n",
    "        :param path_to_data: path to the data file\n",
    "        :param columns: list of integers that indicate the respective columns. The first entry is the column\n",
    "        for the first sentence, the second for the second sentence and the third for the label. Default [0,1,2]\n",
    "        :param max_tokens_per_doc: If set, shortens sentences to this maximum number of tokens\n",
    "        :param max_chars_per_doc: If set, shortens sentences to this maximum number of characters\n",
    "        :param use_tokenizer: Whether or not to use in-built tokenizer\n",
    "        :param in_memory: If True, data will be saved in list of flair.data.DataPair objects, other wise we use lists with simple strings which needs less space\n",
    "        :param label_type: Name of the label of the data pairs\n",
    "        :param skip_first_line: If True, first line of data file will be ignored\n",
    "        :param separator: Separator between columns in the data file\n",
    "        :param encoding: Encoding of the data file\n",
    "        :param label: If False, the dataset expects unlabeled data\n",
    "        \"\"\"\n",
    "\n",
    "        path_to_data = Path(path_to_data)\n",
    "\n",
    "        # stop if file does not exist\n",
    "        assert path_to_data.exists()\n",
    "\n",
    "        self.in_memory = in_memory\n",
    "\n",
    "        self.use_tokenizer = use_tokenizer\n",
    "\n",
    "        self.max_tokens_per_doc = max_tokens_per_doc\n",
    "\n",
    "        self.label = label\n",
    "\n",
    "        assert label_type is not None\n",
    "        self.label_type = label_type\n",
    "\n",
    "        self.total_data_count: int = 0\n",
    "\n",
    "        if self.in_memory:\n",
    "            self.data_pairs: List[DataPair] = []\n",
    "        else:\n",
    "            self.first_elements: List[str] = []\n",
    "            self.second_elements: List[str] = []\n",
    "            self.labels: List[Optional[str], float] = []\n",
    "\n",
    "        with open(str(path_to_data), encoding=encoding) as source_file:\n",
    "\n",
    "            source_line = source_file.readline()\n",
    "\n",
    "            if skip_first_line:\n",
    "                header_line = source_line.strip().split(separator)\n",
    "                source_line = source_file.readline()\n",
    "\n",
    "            while source_line:\n",
    "\n",
    "                source_line_list = source_line.strip().split(separator)\n",
    "\n",
    "                first_element = source_line_list[columns[0]]\n",
    "                second_element = source_line_list[columns[1]]\n",
    "\n",
    "                if self.label:\n",
    "                    pair_labels = []\n",
    "                    for column in columns[2:]:\n",
    "                        score = float(source_line_list[column])\n",
    "                        if score > 0:\n",
    "                            label: Optional[str] = header_line[column]\n",
    "                            pair_labels.append([label, score])\n",
    "                else:\n",
    "                    pair_labels = None\n",
    "\n",
    "                if max_chars_per_doc > 0:\n",
    "                    first_element = first_element[:max_chars_per_doc]\n",
    "                    second_element = second_element[:max_chars_per_doc]\n",
    "\n",
    "                if self.in_memory:\n",
    "                    data_pair = self._make_data_pair(first_element, second_element, pair_labels)\n",
    "                    self.data_pairs.append(data_pair)\n",
    "                else:\n",
    "                    self.first_elements.append(first_element)\n",
    "                    self.second_elements.append(second_element)\n",
    "                    if self.label:\n",
    "                        self.labels.append(pair_labels)\n",
    "\n",
    "                self.total_data_count += 1\n",
    "\n",
    "                source_line = source_file.readline()\n",
    "\n",
    "    # create a DataPair object from strings\n",
    "    def _make_data_pair(self, first_element: str, second_element: str, labels: str = None):\n",
    "\n",
    "        first_sentence = Sentence(first_element, use_tokenizer=self.use_tokenizer)\n",
    "        second_sentence = Sentence(second_element, use_tokenizer=self.use_tokenizer)\n",
    "\n",
    "        if self.max_tokens_per_doc > 0:\n",
    "            first_sentence.tokens = first_sentence.tokens[: self.max_tokens_per_doc]\n",
    "            second_sentence.tokens = second_sentence.tokens[: self.max_tokens_per_doc]\n",
    "\n",
    "        data_pair = TextPair(first_sentence, second_sentence)\n",
    "\n",
    "        if labels:\n",
    "            for label, score in labels:\n",
    "                data_pair.add_label(typename=self.label_type, value=label, score=score)\n",
    "\n",
    "        return data_pair"
   ]
  },
  {
   "cell_type": "markdown",
   "id": "ca04d30e",
   "metadata": {
    "papermill": {
     "duration": 0.054409,
     "end_time": "2022-05-28T07:48:14.833841",
     "exception": false,
     "start_time": "2022-05-28T07:48:14.779432",
     "status": "completed"
    },
    "tags": []
   },
   "source": []
  },
  {
   "cell_type": "code",
   "execution_count": 5,
   "id": "f1cf04d9",
   "metadata": {
    "execution": {
     "iopub.execute_input": "2022-05-28T07:48:14.961405Z",
     "iopub.status.busy": "2022-05-28T07:48:14.959758Z",
     "iopub.status.idle": "2022-05-28T07:48:14.961979Z",
     "shell.execute_reply": "2022-05-28T07:48:14.962419Z",
     "shell.execute_reply.started": "2022-05-28T07:46:36.991339Z"
    },
    "papermill": {
     "duration": 0.071933,
     "end_time": "2022-05-28T07:48:14.962556",
     "exception": false,
     "start_time": "2022-05-28T07:48:14.890623",
     "status": "completed"
    },
    "tags": []
   },
   "outputs": [],
   "source": [
    "from flair.data import Corpus\n",
    "from flair.datasets.base import find_train_dev_test_files\n",
    "\n",
    "class DataPairMultilabelCorpus(Corpus):\n",
    "    def __init__(\n",
    "        self,\n",
    "        data_folder: Union[str, Path],\n",
    "        columns: List[int] = [0, 1, 2],\n",
    "        train_file=None,\n",
    "        test_file=None,\n",
    "        dev_file=None,\n",
    "        use_tokenizer: bool = True,\n",
    "        max_tokens_per_doc=-1,\n",
    "        max_chars_per_doc=-1,\n",
    "        in_memory: bool = True,\n",
    "        label_type: str = None,\n",
    "        autofind_splits=True,\n",
    "        sample_missing_splits: bool = True,\n",
    "        skip_first_line: bool = False,\n",
    "        separator: str = \"\\t\",\n",
    "        encoding: str = \"utf-8\",\n",
    "    ):\n",
    "        \"\"\"\n",
    "        Corpus for tasks involving pairs of sentences or paragraphs. The data files are expected to be in column format where each line has a colmun\n",
    "        for the first sentence/paragraph, the second sentence/paragraph and the labels, respectively. The columns must be separated by a given separator (default: '\\t').\n",
    "        :param data_folder: base folder with the task data\n",
    "        :param columns: List that indicates the columns for the first sentence (first entry in the list), the second sentence (second entry) and label (last entry).\n",
    "                        default = [0,1,2]\n",
    "        :param train_file: the name of the train file\n",
    "        :param test_file: the name of the test file, if None, dev data is sampled from train (if sample_missing_splits is true)\n",
    "        :param dev_file: the name of the dev file, if None, dev data is sampled from train (if sample_missing_splits is true)\n",
    "        :param use_tokenizer: Whether or not to use in-built tokenizer\n",
    "        :param max_tokens_per_doc: If set, shortens sentences to this maximum number of tokens\n",
    "        :param max_chars_per_doc: If set, shortens sentences to this maximum number of characters\n",
    "        :param in_memory: If True, data will be saved in list of flair.data.DataPair objects, other wise we use lists with simple strings which needs less space\n",
    "        :param label_type: Name of the label of the data pairs\n",
    "        :param autofind_splits: If True, train/test/dev files will be automatically identified in the given data_folder\n",
    "        :param sample_missing_splits: If True, a missing train/test/dev file will be sampled from the available data\n",
    "        :param skip_first_line: If True, first line of data files will be ignored\n",
    "        :param separator: Separator between columns in data files\n",
    "        :param encoding: Encoding of data files\n",
    "        :return: a Corpus with annotated train, dev and test data\n",
    "        \"\"\"\n",
    "\n",
    "        # find train, dev and test files if not specified\n",
    "        dev_file, test_file, train_file = find_train_dev_test_files(\n",
    "            data_folder,\n",
    "            dev_file,\n",
    "            test_file,\n",
    "            train_file,\n",
    "            autofind_splits=autofind_splits,\n",
    "        )\n",
    "\n",
    "        # create DataPairDataset for train, test and dev file, if they are given\n",
    "\n",
    "        train = (\n",
    "            DataPairMultilabelDataset(\n",
    "                train_file,\n",
    "                columns=columns,\n",
    "                use_tokenizer=use_tokenizer,\n",
    "                max_tokens_per_doc=max_tokens_per_doc,\n",
    "                max_chars_per_doc=max_chars_per_doc,\n",
    "                in_memory=in_memory,\n",
    "                label_type=label_type,\n",
    "                skip_first_line=skip_first_line,\n",
    "                separator=separator,\n",
    "                encoding=encoding,\n",
    "            )\n",
    "            if train_file is not None\n",
    "            else None\n",
    "        )\n",
    "\n",
    "        test = (\n",
    "            DataPairMultilabelDataset(\n",
    "                test_file,\n",
    "                columns=columns,\n",
    "                use_tokenizer=use_tokenizer,\n",
    "                max_tokens_per_doc=max_tokens_per_doc,\n",
    "                max_chars_per_doc=max_chars_per_doc,\n",
    "                in_memory=in_memory,\n",
    "                label_type=label_type,\n",
    "                skip_first_line=skip_first_line,\n",
    "                separator=separator,\n",
    "                encoding=encoding,\n",
    "            )\n",
    "            if test_file is not None\n",
    "            else None\n",
    "        )\n",
    "\n",
    "        dev = (\n",
    "            DataPairMultilabelDataset(\n",
    "                dev_file,\n",
    "                columns=columns,\n",
    "                use_tokenizer=use_tokenizer,\n",
    "                max_tokens_per_doc=max_tokens_per_doc,\n",
    "                max_chars_per_doc=max_chars_per_doc,\n",
    "                in_memory=in_memory,\n",
    "                label_type=label_type,\n",
    "                skip_first_line=skip_first_line,\n",
    "                separator=separator,\n",
    "                encoding=encoding,\n",
    "            )\n",
    "            if dev_file is not None\n",
    "            else None\n",
    "        )\n",
    "\n",
    "        super(DataPairMultilabelCorpus, self).__init__(\n",
    "            train,\n",
    "            dev,\n",
    "            test,\n",
    "            sample_missing_splits=sample_missing_splits,\n",
    "            name=str(data_folder),\n",
    "        )"
   ]
  },
  {
   "cell_type": "markdown",
   "id": "01aa4d95",
   "metadata": {
    "papermill": {
     "duration": 0.05498,
     "end_time": "2022-05-28T07:48:15.073008",
     "exception": false,
     "start_time": "2022-05-28T07:48:15.018028",
     "status": "completed"
    },
    "tags": []
   },
   "source": [
    "## Load the Corpus"
   ]
  },
  {
   "cell_type": "code",
   "execution_count": 6,
   "id": "1c1616c2",
   "metadata": {
    "execution": {
     "iopub.execute_input": "2022-05-28T07:48:15.189315Z",
     "iopub.status.busy": "2022-05-28T07:48:15.188436Z",
     "iopub.status.idle": "2022-05-28T07:48:15.856229Z",
     "shell.execute_reply": "2022-05-28T07:48:15.856734Z",
     "shell.execute_reply.started": "2022-05-28T07:46:37.012415Z"
    },
    "papermill": {
     "duration": 0.727525,
     "end_time": "2022-05-28T07:48:15.856888",
     "exception": false,
     "start_time": "2022-05-28T07:48:15.129363",
     "status": "completed"
    },
    "tags": []
   },
   "outputs": [
    {
     "name": "stdout",
     "output_type": "stream",
     "text": [
      "topic\tclaim\tpremise\t<begging>\t<hasty>\t<none>\t<questionable_cause>\t<red_herring>\ttypes\r\n",
      "To Tip or Not to Tip\tNot to tip\tRaise prices to actually provide something like a living wage to servers so they don't have to rely on unreliable tips.\t1\t1\t0\t0\t1\t<red_herring>,<hasty>,<begging>\r\n",
      "Is the Bar Too Low to Get Into Law School?\tThe bar is not too low to get into law school\tI attended a night school and if the ABA raised the bar I wouldn't have a California license.\t1\t1\t0\t1\t1\t<red_herring>,<questionable_cause>,<hasty>,<begging>\r\n",
      "Should It Be Illegal to Declaw Your Cat?\tIt should be illegal to declaw your cat\tDeclawing is painful, inhumane and often leads to biting and refusal to use a litter box.\t0\t1\t0\t1\t0\t<questionable_cause>,<hasty>\r\n",
      "Should Guns Be Permitted on College Campuses?\tGuns should not be permitted on college campuses\tTeenagers may not have the best capacity for well thought out decisions and should not have free access to guns.\t1\t1\t0\t1\t0\t<questionable_cause>,<hasty>,<begging>\r\n"
     ]
    }
   ],
   "source": [
    "!head -5 ../input/riposte/cpca/topic/train_multi.csv"
   ]
  },
  {
   "cell_type": "code",
   "execution_count": 7,
   "id": "bd7c0499",
   "metadata": {
    "execution": {
     "iopub.execute_input": "2022-05-28T07:48:15.970211Z",
     "iopub.status.busy": "2022-05-28T07:48:15.969442Z",
     "iopub.status.idle": "2022-05-28T07:48:16.594412Z",
     "shell.execute_reply": "2022-05-28T07:48:16.593885Z",
     "shell.execute_reply.started": "2022-05-28T07:46:37.812850Z"
    },
    "papermill": {
     "duration": 0.682421,
     "end_time": "2022-05-28T07:48:16.594546",
     "exception": false,
     "start_time": "2022-05-28T07:48:15.912125",
     "status": "completed"
    },
    "tags": []
   },
   "outputs": [
    {
     "name": "stdout",
     "output_type": "stream",
     "text": [
      "2022-05-28 07:48:15,972 Reading data from ../input/riposte/cpca/sampled\n",
      "2022-05-28 07:48:15,972 Train: ../input/riposte/cpca/sampled/train_multi.csv\n",
      "2022-05-28 07:48:15,974 Dev: ../input/riposte/cpca/sampled/dev_multi.csv\n",
      "2022-05-28 07:48:15,975 Test: ../input/riposte/cpca/sampled/test_multi.csv\n",
      "2022-05-28 07:48:16,536 Computing label dictionary. Progress:\n"
     ]
    },
    {
     "name": "stderr",
     "output_type": "stream",
     "text": [
      "999it [00:00, 37856.17it/s]"
     ]
    },
    {
     "name": "stdout",
     "output_type": "stream",
     "text": [
      "2022-05-28 07:48:16,586 Dictionary created for label 'entailment' with 6 values: <begging> (seen 730 times), <hasty> (seen 659 times), <questionable_cause> (seen 482 times), <red_herring> (seen 384 times), <none> (seen 36 times)\n"
     ]
    },
    {
     "name": "stderr",
     "output_type": "stream",
     "text": [
      "\n"
     ]
    }
   ],
   "source": [
    "from flair.datasets  import DataPairCorpus\n",
    "\n",
    "label_type = 'entailment'\n",
    "\n",
    "corpus = DataPairMultilabelCorpus(\n",
    "    corpus_folder,\n",
    "    train_file='train_multi.csv',\n",
    "    dev_file='dev_multi.csv',\n",
    "    test_file='test_multi.csv',\n",
    "    skip_first_line=True,\n",
    "    # Original columns:\n",
    "    # topic, claim, premise, begging, hasty, none, quesitonable_cause, red_herring, types\n",
    "    columns=[1, 2, 3, 4, 5, 6, 7],\n",
    "    label_type=label_type,\n",
    ")\n",
    "\n",
    "label_dictionary = corpus.make_label_dictionary(label_type=label_type)"
   ]
  },
  {
   "cell_type": "code",
   "execution_count": 8,
   "id": "be9ee26c",
   "metadata": {
    "execution": {
     "iopub.execute_input": "2022-05-28T07:48:16.715912Z",
     "iopub.status.busy": "2022-05-28T07:48:16.715348Z",
     "iopub.status.idle": "2022-05-28T07:48:16.718807Z",
     "shell.execute_reply": "2022-05-28T07:48:16.718093Z",
     "shell.execute_reply.started": "2022-05-28T07:46:38.881005Z"
    },
    "papermill": {
     "duration": 0.065802,
     "end_time": "2022-05-28T07:48:16.718951",
     "exception": false,
     "start_time": "2022-05-28T07:48:16.653149",
     "status": "completed"
    },
    "tags": []
   },
   "outputs": [
    {
     "name": "stdout",
     "output_type": "stream",
     "text": [
      "DataPair: 'Sentence: \"It is fair to rate professors online\"' + 'Sentence: \"Students have a good perspective on their professors .\"' → <begging> (1.0)\n"
     ]
    }
   ],
   "source": [
    "print(corpus.train[0])"
   ]
  },
  {
   "cell_type": "markdown",
   "id": "a9ab7a91",
   "metadata": {
    "papermill": {
     "duration": 0.058041,
     "end_time": "2022-05-28T07:48:16.836014",
     "exception": false,
     "start_time": "2022-05-28T07:48:16.777973",
     "status": "completed"
    },
    "tags": []
   },
   "source": [
    "Change the label to binary format to simplify the task: Fallacy true/false.\n",
    "\n",
    "In this multi-label corpus, using the `<none>` column will be enough."
   ]
  },
  {
   "cell_type": "code",
   "execution_count": 9,
   "id": "c613c812",
   "metadata": {
    "execution": {
     "iopub.execute_input": "2022-05-28T07:48:17.005862Z",
     "iopub.status.busy": "2022-05-28T07:48:17.004945Z",
     "iopub.status.idle": "2022-05-28T07:48:17.011111Z",
     "shell.execute_reply": "2022-05-28T07:48:17.011711Z",
     "shell.execute_reply.started": "2022-05-28T07:46:38.890072Z"
    },
    "papermill": {
     "duration": 0.11757,
     "end_time": "2022-05-28T07:48:17.011906",
     "exception": false,
     "start_time": "2022-05-28T07:48:16.894336",
     "status": "completed"
    },
    "tags": []
   },
   "outputs": [],
   "source": [
    "if BINARY_CLASS:\n",
    "    corpus = DataPairCorpus(\n",
    "        corpus_folder,\n",
    "        train_file='train_multi.csv',\n",
    "        dev_file='dev_multi.csv',\n",
    "        test_file='test_multi.csv',\n",
    "        skip_first_line=True,\n",
    "        # Original columns:\n",
    "        # topic, claim, premise, begging, hasty, none, quesitonable_cause, red_herring, types\n",
    "        columns=[1, 2, 5],\n",
    "        label_type=label_type,\n",
    "    )\n",
    "\n",
    "    label_dictionary = corpus.make_label_dictionary(label_type=label_type)"
   ]
  },
  {
   "cell_type": "markdown",
   "id": "65bd095a",
   "metadata": {
    "papermill": {
     "duration": 0.106196,
     "end_time": "2022-05-28T07:48:17.234537",
     "exception": false,
     "start_time": "2022-05-28T07:48:17.128341",
     "status": "completed"
    },
    "tags": []
   },
   "source": [
    "Check the corpus structure:"
   ]
  },
  {
   "cell_type": "code",
   "execution_count": 10,
   "id": "3b31cf14",
   "metadata": {
    "execution": {
     "iopub.execute_input": "2022-05-28T07:48:17.441251Z",
     "iopub.status.busy": "2022-05-28T07:48:17.440334Z",
     "iopub.status.idle": "2022-05-28T07:48:17.444899Z",
     "shell.execute_reply": "2022-05-28T07:48:17.444149Z",
     "shell.execute_reply.started": "2022-05-28T07:46:38.901608Z"
    },
    "papermill": {
     "duration": 0.107816,
     "end_time": "2022-05-28T07:48:17.445052",
     "exception": false,
     "start_time": "2022-05-28T07:48:17.337236",
     "status": "completed"
    },
    "tags": []
   },
   "outputs": [
    {
     "name": "stdout",
     "output_type": "stream",
     "text": [
      "DataPair: 'Sentence: \"It is fair to rate professors online\"' + 'Sentence: \"Students have a good perspective on their professors .\"' → <begging> (1.0)\n"
     ]
    }
   ],
   "source": [
    "print(corpus.train[0])"
   ]
  },
  {
   "cell_type": "markdown",
   "id": "0c100c18",
   "metadata": {
    "papermill": {
     "duration": 0.096291,
     "end_time": "2022-05-28T07:48:17.648858",
     "exception": false,
     "start_time": "2022-05-28T07:48:17.552567",
     "status": "completed"
    },
    "tags": []
   },
   "source": [
    "## Train the Model\n",
    "\n",
    "**FIX:** Fix for flair >= 0.10 to allow the model complete the evaluation correctly with PairCorpus:"
   ]
  },
  {
   "cell_type": "code",
   "execution_count": 11,
   "id": "48b3a8a7",
   "metadata": {
    "execution": {
     "iopub.execute_input": "2022-05-28T07:48:17.850208Z",
     "iopub.status.busy": "2022-05-28T07:48:17.849314Z",
     "iopub.status.idle": "2022-05-28T07:48:17.851609Z",
     "shell.execute_reply": "2022-05-28T07:48:17.850948Z",
     "shell.execute_reply.started": "2022-05-28T07:46:38.915883Z"
    },
    "papermill": {
     "duration": 0.106803,
     "end_time": "2022-05-28T07:48:17.851772",
     "exception": false,
     "start_time": "2022-05-28T07:48:17.744969",
     "status": "completed"
    },
    "tags": []
   },
   "outputs": [],
   "source": [
    "from flair.data import DataPair\n",
    "\n",
    "def to_original_text(self):\n",
    "    return f\"{self.first.to_original_text()} || {self.second.to_original_text()}\"\n",
    "DataPair.to_original_text = to_original_text"
   ]
  },
  {
   "cell_type": "markdown",
   "id": "e6142e1d",
   "metadata": {
    "papermill": {
     "duration": 0.099022,
     "end_time": "2022-05-28T07:48:18.047759",
     "exception": false,
     "start_time": "2022-05-28T07:48:17.948737",
     "status": "completed"
    },
    "tags": []
   },
   "source": [
    "Create the embeddings:"
   ]
  },
  {
   "cell_type": "code",
   "execution_count": 12,
   "id": "aa3ee711",
   "metadata": {
    "execution": {
     "iopub.execute_input": "2022-05-28T07:48:18.251713Z",
     "iopub.status.busy": "2022-05-28T07:48:18.250885Z",
     "iopub.status.idle": "2022-05-28T07:48:47.886346Z",
     "shell.execute_reply": "2022-05-28T07:48:47.885797Z",
     "shell.execute_reply.started": "2022-05-28T07:46:38.929974Z"
    },
    "papermill": {
     "duration": 29.742566,
     "end_time": "2022-05-28T07:48:47.886523",
     "exception": false,
     "start_time": "2022-05-28T07:48:18.143957",
     "status": "completed"
    },
    "tags": []
   },
   "outputs": [
    {
     "name": "stdout",
     "output_type": "stream",
     "text": [
      "2022-05-28 07:48:19,361 https://flair.informatik.hu-berlin.de/resources/embeddings/flair/news-forward-0.4.1.pt not found in cache, downloading to /tmp/tmplb7v3gt7\n"
     ]
    },
    {
     "name": "stderr",
     "output_type": "stream",
     "text": [
      "100%|██████████| 73034624/73034624 [00:09<00:00, 8009318.46B/s]"
     ]
    },
    {
     "name": "stdout",
     "output_type": "stream",
     "text": [
      "2022-05-28 07:48:29,581 copying /tmp/tmplb7v3gt7 to cache at /root/.flair/embeddings/news-forward-0.4.1.pt\n"
     ]
    },
    {
     "name": "stderr",
     "output_type": "stream",
     "text": [
      "\n"
     ]
    },
    {
     "name": "stdout",
     "output_type": "stream",
     "text": [
      "2022-05-28 07:48:29,660 removing temp file /tmp/tmplb7v3gt7\n",
      "2022-05-28 07:48:37,019 https://flair.informatik.hu-berlin.de/resources/embeddings/flair/news-backward-0.4.1.pt not found in cache, downloading to /tmp/tmp0krwtmz1\n"
     ]
    },
    {
     "name": "stderr",
     "output_type": "stream",
     "text": [
      "100%|██████████| 73034575/73034575 [00:09<00:00, 7716543.20B/s]"
     ]
    },
    {
     "name": "stdout",
     "output_type": "stream",
     "text": [
      "2022-05-28 07:48:47,563 copying /tmp/tmp0krwtmz1 to cache at /root/.flair/embeddings/news-backward-0.4.1.pt\n",
      "2022-05-28 07:48:47,643 removing temp file /tmp/tmp0krwtmz1\n"
     ]
    },
    {
     "name": "stderr",
     "output_type": "stream",
     "text": [
      "\n"
     ]
    }
   ],
   "source": [
    "# Pick embeddings:\n",
    "# We need to split this into ifs because of the issue with allenlp mentioned above\n",
    "if EMBEDDING.lower() == 'glove':\n",
    "    from flair.embeddings import WordEmbeddings\n",
    "    word_embeddings = [WordEmbeddings('glove')]\n",
    "elif EMBEDDING.lower() == 'elmo':\n",
    "    from flair.embeddings import ELMoEmbeddings\n",
    "    word_embeddings = [ELMoEmbeddings()]\n",
    "elif EMBEDDING.lower() == 'flair':\n",
    "    from flair.embeddings import FlairEmbeddings\n",
    "    word_embeddings = [FlairEmbeddings('news-forward'), FlairEmbeddings('news-backward')]\n",
    "else:\n",
    "    raise Exception(f'Unknown embedding: {EMBEDDING}')"
   ]
  },
  {
   "cell_type": "markdown",
   "id": "7f9aec03",
   "metadata": {
    "papermill": {
     "duration": 0.093283,
     "end_time": "2022-05-28T07:48:48.087739",
     "exception": false,
     "start_time": "2022-05-28T07:48:47.994456",
     "status": "completed"
    },
    "tags": []
   },
   "source": [
    "Create the model and classifier:"
   ]
  },
  {
   "cell_type": "code",
   "execution_count": 13,
   "id": "4a704f18",
   "metadata": {
    "execution": {
     "iopub.execute_input": "2022-05-28T07:48:48.273039Z",
     "iopub.status.busy": "2022-05-28T07:48:48.272301Z",
     "iopub.status.idle": "2022-05-28T07:48:48.305152Z",
     "shell.execute_reply": "2022-05-28T07:48:48.304750Z",
     "shell.execute_reply.started": "2022-05-28T07:46:55.046400Z"
    },
    "papermill": {
     "duration": 0.127751,
     "end_time": "2022-05-28T07:48:48.305297",
     "exception": false,
     "start_time": "2022-05-28T07:48:48.177546",
     "status": "completed"
    },
    "tags": []
   },
   "outputs": [],
   "source": [
    "from flair.embeddings import DocumentRNNEmbeddings\n",
    "from flair.models import TextPairClassifier\n",
    "from flair.trainers import ModelTrainer\n",
    "\n",
    "# LSTM model\n",
    "document_embeddings = DocumentRNNEmbeddings(\n",
    "    word_embeddings,\n",
    "    hidden_size=512,\n",
    "    reproject_words=True,\n",
    "    reproject_words_dimension=256,\n",
    "    rnn_type='LSTM',\n",
    ")\n",
    "\n",
    "# Use text pair classification model\n",
    "classifier = TextPairClassifier(\n",
    "    document_embeddings=document_embeddings,\n",
    "    label_type=label_type,\n",
    "    label_dictionary=label_dictionary,\n",
    ")\n",
    "\n",
    "# Initialize trainer and train the model\n",
    "trainer = ModelTrainer(classifier, corpus)"
   ]
  },
  {
   "cell_type": "markdown",
   "id": "78df3861",
   "metadata": {
    "papermill": {
     "duration": 0.08941,
     "end_time": "2022-05-28T07:48:48.484370",
     "exception": false,
     "start_time": "2022-05-28T07:48:48.394960",
     "status": "completed"
    },
    "tags": []
   },
   "source": [
    "For first tries, we can search for the best learning rate with the following:"
   ]
  },
  {
   "cell_type": "code",
   "execution_count": 14,
   "id": "40b6faa4",
   "metadata": {
    "execution": {
     "iopub.execute_input": "2022-05-28T07:48:48.668268Z",
     "iopub.status.busy": "2022-05-28T07:48:48.667493Z",
     "iopub.status.idle": "2022-05-28T07:49:00.173013Z",
     "shell.execute_reply": "2022-05-28T07:49:00.173436Z",
     "shell.execute_reply.started": "2022-05-28T07:46:55.048799Z"
    },
    "papermill": {
     "duration": 11.600188,
     "end_time": "2022-05-28T07:49:00.173586",
     "exception": false,
     "start_time": "2022-05-28T07:48:48.573398",
     "status": "completed"
    },
    "tags": []
   },
   "outputs": [
    {
     "name": "stdout",
     "output_type": "stream",
     "text": [
      "2022-05-28 07:48:59,329 ----------------------------------------------------------------------------------------------------\n",
      "2022-05-28 07:48:59,330 loss diverged - stopping early!\n",
      "2022-05-28 07:48:59,334 ----------------------------------------------------------------------------------------------------\n",
      "2022-05-28 07:48:59,335 learning rate finder finished - plot /kaggle/working/riposte_class/learning_rate.tsv\n",
      "2022-05-28 07:48:59,336 ----------------------------------------------------------------------------------------------------\n",
      "2022-05-28 07:48:59,932 Learning_rate plots are saved in /kaggle/working/riposte_class/learning_rate.png\n"
     ]
    },
    {
     "data": {
      "image/png": "[encoded data removed]",
      "text/plain": [
       "<Figure size 432x288 with 1 Axes>"
      ]
     },
     "metadata": {
      "needs_background": "light"
     },
     "output_type": "display_data"
    }
   ],
   "source": [
    "from torch.optim.adam import Adam\n",
    "learning_rate_tsv = trainer.find_learning_rate(f'{save_dir}/riposte_class', Adam)\n",
    "\n",
    "from flair.visual.training_curves import Plotter\n",
    "plotter = Plotter()\n",
    "plotter.plot_learning_rate(learning_rate_tsv)"
   ]
  },
  {
   "cell_type": "markdown",
   "id": "07e0984d",
   "metadata": {
    "papermill": {
     "duration": 0.093702,
     "end_time": "2022-05-28T07:49:00.361880",
     "exception": false,
     "start_time": "2022-05-28T07:49:00.268178",
     "status": "completed"
    },
    "tags": []
   },
   "source": [
    "Train the model:"
   ]
  },
  {
   "cell_type": "code",
   "execution_count": 15,
   "id": "a69f3b60",
   "metadata": {
    "execution": {
     "iopub.execute_input": "2022-05-28T07:49:00.558388Z",
     "iopub.status.busy": "2022-05-28T07:49:00.557546Z",
     "iopub.status.idle": "2022-05-28T07:53:06.696843Z",
     "shell.execute_reply": "2022-05-28T07:53:06.696114Z",
     "shell.execute_reply.started": "2022-05-28T07:46:55.051795Z"
    },
    "papermill": {
     "duration": 246.239321,
     "end_time": "2022-05-28T07:53:06.697010",
     "exception": false,
     "start_time": "2022-05-28T07:49:00.457689",
     "status": "completed"
    },
    "tags": []
   },
   "outputs": [
    {
     "name": "stdout",
     "output_type": "stream",
     "text": [
      "2022-05-28 07:49:00,557 ----------------------------------------------------------------------------------------------------\n",
      "2022-05-28 07:49:00,559 Model: \"TextPairClassifier(\n",
      "  (decoder): Linear(in_features=512, out_features=6, bias=True)\n",
      "  (dropout): Dropout(p=0.0, inplace=False)\n",
      "  (locked_dropout): LockedDropout(p=0.0)\n",
      "  (word_dropout): WordDropout(p=0.0)\n",
      "  (loss_function): CrossEntropyLoss()\n",
      "  (document_embeddings): DocumentRNNEmbeddings(\n",
      "    (embeddings): StackedEmbeddings(\n",
      "      (list_embedding_0): FlairEmbeddings(\n",
      "        (lm): LanguageModel(\n",
      "          (drop): Dropout(p=0.05, inplace=False)\n",
      "          (encoder): Embedding(300, 100)\n",
      "          (rnn): LSTM(100, 2048)\n",
      "          (decoder): Linear(in_features=2048, out_features=300, bias=True)\n",
      "        )\n",
      "      )\n",
      "      (list_embedding_1): FlairEmbeddings(\n",
      "        (lm): LanguageModel(\n",
      "          (drop): Dropout(p=0.05, inplace=False)\n",
      "          (encoder): Embedding(300, 100)\n",
      "          (rnn): LSTM(100, 2048)\n",
      "          (decoder): Linear(in_features=2048, out_features=300, bias=True)\n",
      "        )\n",
      "      )\n",
      "    )\n",
      "    (word_reprojection_map): Linear(in_features=4096, out_features=256, bias=True)\n",
      "    (rnn): LSTM(256, 512, batch_first=True)\n",
      "    (dropout): Dropout(p=0.5, inplace=False)\n",
      "  )\n",
      "  (weights): None\n",
      "  (weight_tensor) None\n",
      ")\"\n",
      "2022-05-28 07:49:00,560 ----------------------------------------------------------------------------------------------------\n",
      "2022-05-28 07:49:00,562 Corpus: \"Corpus: 999 train + 135 dev + 135 test sentences\"\n",
      "2022-05-28 07:49:00,563 ----------------------------------------------------------------------------------------------------\n",
      "2022-05-28 07:49:00,564 Parameters:\n",
      "2022-05-28 07:49:00,565  - learning_rate: \"0.001000\"\n",
      "2022-05-28 07:49:00,566  - mini_batch_size: \"8\"\n",
      "2022-05-28 07:49:00,567  - patience: \"3\"\n",
      "2022-05-28 07:49:00,568  - anneal_factor: \"0.5\"\n",
      "2022-05-28 07:49:00,569  - max_epochs: \"20\"\n",
      "2022-05-28 07:49:00,570  - shuffle: \"True\"\n",
      "2022-05-28 07:49:00,570  - train_with_dev: \"False\"\n",
      "2022-05-28 07:49:00,571  - batch_growth_annealing: \"False\"\n",
      "2022-05-28 07:49:00,572 ----------------------------------------------------------------------------------------------------\n",
      "2022-05-28 07:49:00,573 Model training base path: \"/kaggle/working/riposte_class\"\n",
      "2022-05-28 07:49:00,574 ----------------------------------------------------------------------------------------------------\n",
      "2022-05-28 07:49:00,574 Device: cuda:0\n",
      "2022-05-28 07:49:00,575 ----------------------------------------------------------------------------------------------------\n",
      "2022-05-28 07:49:00,576 Embeddings storage mode: cpu\n",
      "2022-05-28 07:49:00,576 ----------------------------------------------------------------------------------------------------\n",
      "2022-05-28 07:49:01,555 epoch 1 - iter 12/125 - loss 0.95609248 - samples/sec: 98.24 - lr: 0.001000\n",
      "2022-05-28 07:49:02,716 epoch 1 - iter 24/125 - loss 0.69950575 - samples/sec: 82.77 - lr: 0.001000\n",
      "2022-05-28 07:49:03,745 epoch 1 - iter 36/125 - loss 0.61313914 - samples/sec: 93.43 - lr: 0.001000\n",
      "2022-05-28 07:49:04,761 epoch 1 - iter 48/125 - loss 0.58095208 - samples/sec: 94.73 - lr: 0.001000\n",
      "2022-05-28 07:49:05,755 epoch 1 - iter 60/125 - loss 0.54556253 - samples/sec: 96.67 - lr: 0.001000\n",
      "2022-05-28 07:49:06,741 epoch 1 - iter 72/125 - loss 0.53464960 - samples/sec: 97.57 - lr: 0.001000\n",
      "2022-05-28 07:49:07,761 epoch 1 - iter 84/125 - loss 0.51723000 - samples/sec: 94.23 - lr: 0.001000\n",
      "2022-05-28 07:49:08,880 epoch 1 - iter 96/125 - loss 0.49859106 - samples/sec: 85.87 - lr: 0.001000\n",
      "2022-05-28 07:49:09,915 epoch 1 - iter 108/125 - loss 0.49696103 - samples/sec: 92.95 - lr: 0.001000\n",
      "2022-05-28 07:49:10,936 epoch 1 - iter 120/125 - loss 0.48501142 - samples/sec: 94.12 - lr: 0.001000\n",
      "2022-05-28 07:49:11,322 ----------------------------------------------------------------------------------------------------\n",
      "2022-05-28 07:49:11,323 EPOCH 1 done: loss 0.4875 - lr 0.001000\n"
     ]
    },
    {
     "name": "stderr",
     "output_type": "stream",
     "text": [
      "100%|██████████| 17/17 [00:01<00:00, 11.90it/s]"
     ]
    },
    {
     "name": "stdout",
     "output_type": "stream",
     "text": [
      "2022-05-28 07:49:12,757 Evaluating as a multi-label problem: True\n",
      "2022-05-28 07:49:12,782 DEV : loss 0.20571310818195343 - f1-score (micro avg)  0.4656\n",
      "2022-05-28 07:49:12,790 BAD EPOCHS (no improvement): 0\n",
      "2022-05-28 07:49:12,791 saving best model\n"
     ]
    },
    {
     "name": "stderr",
     "output_type": "stream",
     "text": [
      "\n"
     ]
    },
    {
     "name": "stdout",
     "output_type": "stream",
     "text": [
      "2022-05-28 07:49:13,185 ----------------------------------------------------------------------------------------------------\n",
      "2022-05-28 07:49:14,264 epoch 2 - iter 12/125 - loss 0.39476802 - samples/sec: 89.19 - lr: 0.001000\n",
      "2022-05-28 07:49:15,297 epoch 2 - iter 24/125 - loss 0.37088353 - samples/sec: 93.12 - lr: 0.001000\n",
      "2022-05-28 07:49:16,273 epoch 2 - iter 36/125 - loss 0.41324471 - samples/sec: 98.46 - lr: 0.001000\n",
      "2022-05-28 07:49:17,260 epoch 2 - iter 48/125 - loss 0.39650744 - samples/sec: 97.65 - lr: 0.001000\n",
      "2022-05-28 07:49:18,298 epoch 2 - iter 60/125 - loss 0.38751326 - samples/sec: 92.65 - lr: 0.001000\n",
      "2022-05-28 07:49:19,280 epoch 2 - iter 72/125 - loss 0.38536692 - samples/sec: 97.88 - lr: 0.001000\n",
      "2022-05-28 07:49:20,237 epoch 2 - iter 84/125 - loss 0.37253697 - samples/sec: 100.73 - lr: 0.001000\n",
      "2022-05-28 07:49:21,324 epoch 2 - iter 96/125 - loss 0.38479612 - samples/sec: 88.64 - lr: 0.001000\n",
      "2022-05-28 07:49:22,347 epoch 2 - iter 108/125 - loss 0.37838172 - samples/sec: 93.98 - lr: 0.001000\n",
      "2022-05-28 07:49:23,372 epoch 2 - iter 120/125 - loss 0.38215608 - samples/sec: 93.86 - lr: 0.001000\n",
      "2022-05-28 07:49:23,797 ----------------------------------------------------------------------------------------------------\n",
      "2022-05-28 07:49:23,798 EPOCH 2 done: loss 0.3806 - lr 0.001000\n"
     ]
    },
    {
     "name": "stderr",
     "output_type": "stream",
     "text": [
      "100%|██████████| 17/17 [00:01<00:00, 11.68it/s]"
     ]
    },
    {
     "name": "stdout",
     "output_type": "stream",
     "text": [
      "2022-05-28 07:49:25,260 Evaluating as a multi-label problem: True\n",
      "2022-05-28 07:49:25,290 DEV : loss 0.1925327181816101 - f1-score (micro avg)  0.4656\n",
      "2022-05-28 07:49:25,301 BAD EPOCHS (no improvement): 0\n",
      "2022-05-28 07:49:25,304 ----------------------------------------------------------------------------------------------------\n"
     ]
    },
    {
     "name": "stderr",
     "output_type": "stream",
     "text": [
      "\n"
     ]
    },
    {
     "name": "stdout",
     "output_type": "stream",
     "text": [
      "2022-05-28 07:49:26,320 epoch 3 - iter 12/125 - loss 0.34458310 - samples/sec: 94.83 - lr: 0.001000\n",
      "2022-05-28 07:49:27,343 epoch 3 - iter 24/125 - loss 0.29767789 - samples/sec: 93.98 - lr: 0.001000\n",
      "2022-05-28 07:49:28,355 epoch 3 - iter 36/125 - loss 0.27479632 - samples/sec: 95.07 - lr: 0.001000\n",
      "2022-05-28 07:49:29,332 epoch 3 - iter 48/125 - loss 0.31022240 - samples/sec: 98.35 - lr: 0.001000\n",
      "2022-05-28 07:49:30,396 epoch 3 - iter 60/125 - loss 0.30235463 - samples/sec: 90.39 - lr: 0.001000\n",
      "2022-05-28 07:49:31,398 epoch 3 - iter 72/125 - loss 0.31466708 - samples/sec: 96.00 - lr: 0.001000\n",
      "2022-05-28 07:49:32,498 epoch 3 - iter 84/125 - loss 0.31809447 - samples/sec: 87.34 - lr: 0.001000\n",
      "2022-05-28 07:49:33,454 epoch 3 - iter 96/125 - loss 0.33091853 - samples/sec: 100.65 - lr: 0.001000\n",
      "2022-05-28 07:49:34,446 epoch 3 - iter 108/125 - loss 0.33179192 - samples/sec: 96.88 - lr: 0.001000\n",
      "2022-05-28 07:49:35,557 epoch 3 - iter 120/125 - loss 0.33011033 - samples/sec: 86.55 - lr: 0.001000\n",
      "2022-05-28 07:49:36,227 ----------------------------------------------------------------------------------------------------\n",
      "2022-05-28 07:49:36,228 EPOCH 3 done: loss 0.3322 - lr 0.001000\n"
     ]
    },
    {
     "name": "stderr",
     "output_type": "stream",
     "text": [
      "100%|██████████| 17/17 [00:01<00:00, 11.92it/s]"
     ]
    },
    {
     "name": "stdout",
     "output_type": "stream",
     "text": [
      "2022-05-28 07:49:37,660 Evaluating as a multi-label problem: True\n",
      "2022-05-28 07:49:37,682 DEV : loss 0.17083603143692017 - f1-score (micro avg)  0.4656\n",
      "2022-05-28 07:49:37,689 BAD EPOCHS (no improvement): 0\n",
      "2022-05-28 07:49:37,690 ----------------------------------------------------------------------------------------------------\n"
     ]
    },
    {
     "name": "stderr",
     "output_type": "stream",
     "text": [
      "\n"
     ]
    },
    {
     "name": "stdout",
     "output_type": "stream",
     "text": [
      "2022-05-28 07:49:38,703 epoch 4 - iter 12/125 - loss 0.39396431 - samples/sec: 95.00 - lr: 0.001000\n",
      "2022-05-28 07:49:39,659 epoch 4 - iter 24/125 - loss 0.32217662 - samples/sec: 100.56 - lr: 0.001000\n",
      "2022-05-28 07:49:40,711 epoch 4 - iter 36/125 - loss 0.30682221 - samples/sec: 91.41 - lr: 0.001000\n",
      "2022-05-28 07:49:41,727 epoch 4 - iter 48/125 - loss 0.32139620 - samples/sec: 94.62 - lr: 0.001000\n",
      "2022-05-28 07:49:42,760 epoch 4 - iter 60/125 - loss 0.32980017 - samples/sec: 93.08 - lr: 0.001000\n",
      "2022-05-28 07:49:43,785 epoch 4 - iter 72/125 - loss 0.32223157 - samples/sec: 93.81 - lr: 0.001000\n",
      "2022-05-28 07:49:44,779 epoch 4 - iter 84/125 - loss 0.31641744 - samples/sec: 96.75 - lr: 0.001000\n",
      "2022-05-28 07:49:45,802 epoch 4 - iter 96/125 - loss 0.31475413 - samples/sec: 93.94 - lr: 0.001000\n",
      "2022-05-28 07:49:46,913 epoch 4 - iter 108/125 - loss 0.31252877 - samples/sec: 86.58 - lr: 0.001000\n",
      "2022-05-28 07:49:47,987 epoch 4 - iter 120/125 - loss 0.31143708 - samples/sec: 89.46 - lr: 0.001000\n",
      "2022-05-28 07:49:48,404 ----------------------------------------------------------------------------------------------------\n",
      "2022-05-28 07:49:48,405 EPOCH 4 done: loss 0.3098 - lr 0.001000\n"
     ]
    },
    {
     "name": "stderr",
     "output_type": "stream",
     "text": [
      "100%|██████████| 17/17 [00:01<00:00, 11.93it/s]"
     ]
    },
    {
     "name": "stdout",
     "output_type": "stream",
     "text": [
      "2022-05-28 07:49:49,837 Evaluating as a multi-label problem: True\n",
      "2022-05-28 07:49:49,858 DEV : loss 0.13965269923210144 - f1-score (micro avg)  0.4656\n",
      "2022-05-28 07:49:49,864 BAD EPOCHS (no improvement): 0\n",
      "2022-05-28 07:49:49,865 ----------------------------------------------------------------------------------------------------\n"
     ]
    },
    {
     "name": "stderr",
     "output_type": "stream",
     "text": [
      "\n"
     ]
    },
    {
     "name": "stdout",
     "output_type": "stream",
     "text": [
      "2022-05-28 07:49:50,947 epoch 5 - iter 12/125 - loss 0.27419080 - samples/sec: 89.02 - lr: 0.001000\n",
      "2022-05-28 07:49:52,048 epoch 5 - iter 24/125 - loss 0.31448764 - samples/sec: 87.29 - lr: 0.001000\n",
      "2022-05-28 07:49:53,170 epoch 5 - iter 36/125 - loss 0.32670727 - samples/sec: 85.81 - lr: 0.001000\n",
      "2022-05-28 07:49:54,198 epoch 5 - iter 48/125 - loss 0.32488187 - samples/sec: 93.52 - lr: 0.001000\n",
      "2022-05-28 07:49:55,100 epoch 5 - iter 60/125 - loss 0.31373440 - samples/sec: 106.57 - lr: 0.001000\n",
      "2022-05-28 07:49:56,124 epoch 5 - iter 72/125 - loss 0.31976960 - samples/sec: 93.91 - lr: 0.001000\n",
      "2022-05-28 07:49:57,083 epoch 5 - iter 84/125 - loss 0.31612270 - samples/sec: 100.28 - lr: 0.001000\n",
      "2022-05-28 07:49:58,104 epoch 5 - iter 96/125 - loss 0.32033304 - samples/sec: 94.15 - lr: 0.001000\n",
      "2022-05-28 07:49:59,135 epoch 5 - iter 108/125 - loss 0.31834133 - samples/sec: 93.38 - lr: 0.001000\n",
      "2022-05-28 07:50:00,141 epoch 5 - iter 120/125 - loss 0.31717688 - samples/sec: 95.48 - lr: 0.001000\n",
      "2022-05-28 07:50:00,559 ----------------------------------------------------------------------------------------------------\n",
      "2022-05-28 07:50:00,560 EPOCH 5 done: loss 0.3216 - lr 0.001000\n"
     ]
    },
    {
     "name": "stderr",
     "output_type": "stream",
     "text": [
      "100%|██████████| 17/17 [00:01<00:00, 11.88it/s]"
     ]
    },
    {
     "name": "stdout",
     "output_type": "stream",
     "text": [
      "2022-05-28 07:50:01,998 Evaluating as a multi-label problem: True\n",
      "2022-05-28 07:50:02,020 DEV : loss 0.17154286801815033 - f1-score (micro avg)  0.4656\n",
      "2022-05-28 07:50:02,028 BAD EPOCHS (no improvement): 1\n",
      "2022-05-28 07:50:02,029 ----------------------------------------------------------------------------------------------------\n"
     ]
    },
    {
     "name": "stderr",
     "output_type": "stream",
     "text": [
      "\n"
     ]
    },
    {
     "name": "stdout",
     "output_type": "stream",
     "text": [
      "2022-05-28 07:50:03,005 epoch 6 - iter 12/125 - loss 0.30382820 - samples/sec: 98.53 - lr: 0.001000\n",
      "2022-05-28 07:50:04,029 epoch 6 - iter 24/125 - loss 0.31070770 - samples/sec: 93.96 - lr: 0.001000\n",
      "2022-05-28 07:50:05,207 epoch 6 - iter 36/125 - loss 0.29797282 - samples/sec: 81.68 - lr: 0.001000\n",
      "2022-05-28 07:50:06,191 epoch 6 - iter 48/125 - loss 0.31147080 - samples/sec: 97.74 - lr: 0.001000\n",
      "2022-05-28 07:50:07,258 epoch 6 - iter 60/125 - loss 0.30902839 - samples/sec: 90.03 - lr: 0.001000\n",
      "2022-05-28 07:50:08,230 epoch 6 - iter 72/125 - loss 0.32121753 - samples/sec: 98.98 - lr: 0.001000\n",
      "2022-05-28 07:50:09,201 epoch 6 - iter 84/125 - loss 0.30667161 - samples/sec: 98.97 - lr: 0.001000\n",
      "2022-05-28 07:50:10,230 epoch 6 - iter 96/125 - loss 0.30180072 - samples/sec: 93.46 - lr: 0.001000\n",
      "2022-05-28 07:50:11,204 epoch 6 - iter 108/125 - loss 0.29579717 - samples/sec: 98.66 - lr: 0.001000\n",
      "2022-05-28 07:50:12,291 epoch 6 - iter 120/125 - loss 0.28953249 - samples/sec: 88.45 - lr: 0.001000\n",
      "2022-05-28 07:50:12,688 ----------------------------------------------------------------------------------------------------\n",
      "2022-05-28 07:50:12,689 EPOCH 6 done: loss 0.2899 - lr 0.001000\n"
     ]
    },
    {
     "name": "stderr",
     "output_type": "stream",
     "text": [
      "100%|██████████| 17/17 [00:01<00:00, 11.88it/s]"
     ]
    },
    {
     "name": "stdout",
     "output_type": "stream",
     "text": [
      "2022-05-28 07:50:14,129 Evaluating as a multi-label problem: True\n",
      "2022-05-28 07:50:14,167 DEV : loss 0.13565702736377716 - f1-score (micro avg)  0.4656\n",
      "2022-05-28 07:50:14,179 BAD EPOCHS (no improvement): 0\n",
      "2022-05-28 07:50:14,182 ----------------------------------------------------------------------------------------------------\n"
     ]
    },
    {
     "name": "stderr",
     "output_type": "stream",
     "text": [
      "\n"
     ]
    },
    {
     "name": "stdout",
     "output_type": "stream",
     "text": [
      "2022-05-28 07:50:15,320 epoch 7 - iter 12/125 - loss 0.28428508 - samples/sec: 84.59 - lr: 0.001000\n",
      "2022-05-28 07:50:16,308 epoch 7 - iter 24/125 - loss 0.25561324 - samples/sec: 97.32 - lr: 0.001000\n",
      "2022-05-28 07:50:17,392 epoch 7 - iter 36/125 - loss 0.25012025 - samples/sec: 88.80 - lr: 0.001000\n",
      "2022-05-28 07:50:18,405 epoch 7 - iter 48/125 - loss 0.26160943 - samples/sec: 94.87 - lr: 0.001000\n",
      "2022-05-28 07:50:19,392 epoch 7 - iter 60/125 - loss 0.27476484 - samples/sec: 97.44 - lr: 0.001000\n",
      "2022-05-28 07:50:20,402 epoch 7 - iter 72/125 - loss 0.27603127 - samples/sec: 95.17 - lr: 0.001000\n",
      "2022-05-28 07:50:21,386 epoch 7 - iter 84/125 - loss 0.27958366 - samples/sec: 97.78 - lr: 0.001000\n",
      "2022-05-28 07:50:22,417 epoch 7 - iter 96/125 - loss 0.27516935 - samples/sec: 93.21 - lr: 0.001000\n",
      "2022-05-28 07:50:23,375 epoch 7 - iter 108/125 - loss 0.27023978 - samples/sec: 100.43 - lr: 0.001000\n",
      "2022-05-28 07:50:24,347 epoch 7 - iter 120/125 - loss 0.27543636 - samples/sec: 98.93 - lr: 0.001000\n",
      "2022-05-28 07:50:24,768 ----------------------------------------------------------------------------------------------------\n",
      "2022-05-28 07:50:24,769 EPOCH 7 done: loss 0.2757 - lr 0.001000\n"
     ]
    },
    {
     "name": "stderr",
     "output_type": "stream",
     "text": [
      "100%|██████████| 17/17 [00:01<00:00, 11.74it/s]"
     ]
    },
    {
     "name": "stdout",
     "output_type": "stream",
     "text": [
      "2022-05-28 07:50:26,223 Evaluating as a multi-label problem: True\n",
      "2022-05-28 07:50:26,244 DEV : loss 0.11697835475206375 - f1-score (micro avg)  0.4656\n",
      "2022-05-28 07:50:26,253 BAD EPOCHS (no improvement): 0\n",
      "2022-05-28 07:50:26,254 ----------------------------------------------------------------------------------------------------\n"
     ]
    },
    {
     "name": "stderr",
     "output_type": "stream",
     "text": [
      "\n"
     ]
    },
    {
     "name": "stdout",
     "output_type": "stream",
     "text": [
      "2022-05-28 07:50:27,233 epoch 8 - iter 12/125 - loss 0.24474518 - samples/sec: 98.23 - lr: 0.001000\n",
      "2022-05-28 07:50:28,209 epoch 8 - iter 24/125 - loss 0.26990345 - samples/sec: 98.47 - lr: 0.001000\n",
      "2022-05-28 07:50:29,299 epoch 8 - iter 36/125 - loss 0.28661304 - samples/sec: 88.17 - lr: 0.001000\n",
      "2022-05-28 07:50:30,289 epoch 8 - iter 48/125 - loss 0.26782006 - samples/sec: 97.12 - lr: 0.001000\n",
      "2022-05-28 07:50:31,372 epoch 8 - iter 60/125 - loss 0.26124561 - samples/sec: 88.75 - lr: 0.001000\n",
      "2022-05-28 07:50:32,474 epoch 8 - iter 72/125 - loss 0.26571914 - samples/sec: 87.42 - lr: 0.001000\n",
      "2022-05-28 07:50:33,470 epoch 8 - iter 84/125 - loss 0.27034975 - samples/sec: 96.59 - lr: 0.001000\n",
      "2022-05-28 07:50:34,469 epoch 8 - iter 96/125 - loss 0.27445324 - samples/sec: 96.20 - lr: 0.001000\n",
      "2022-05-28 07:50:35,575 epoch 8 - iter 108/125 - loss 0.27344693 - samples/sec: 86.93 - lr: 0.001000\n",
      "2022-05-28 07:50:36,574 epoch 8 - iter 120/125 - loss 0.26501733 - samples/sec: 96.23 - lr: 0.001000\n",
      "2022-05-28 07:50:37,016 ----------------------------------------------------------------------------------------------------\n",
      "2022-05-28 07:50:37,017 EPOCH 8 done: loss 0.2646 - lr 0.001000\n"
     ]
    },
    {
     "name": "stderr",
     "output_type": "stream",
     "text": [
      "100%|██████████| 17/17 [00:01<00:00, 11.90it/s]"
     ]
    },
    {
     "name": "stdout",
     "output_type": "stream",
     "text": [
      "2022-05-28 07:50:38,452 Evaluating as a multi-label problem: True\n",
      "2022-05-28 07:50:38,473 DEV : loss 0.1335631012916565 - f1-score (micro avg)  0.4656\n",
      "2022-05-28 07:50:38,479 BAD EPOCHS (no improvement): 1\n",
      "2022-05-28 07:50:38,480 ----------------------------------------------------------------------------------------------------\n"
     ]
    },
    {
     "name": "stderr",
     "output_type": "stream",
     "text": [
      "\n"
     ]
    },
    {
     "name": "stdout",
     "output_type": "stream",
     "text": [
      "2022-05-28 07:50:39,421 epoch 9 - iter 12/125 - loss 0.28550708 - samples/sec: 102.30 - lr: 0.001000\n",
      "2022-05-28 07:50:40,540 epoch 9 - iter 24/125 - loss 0.27849954 - samples/sec: 85.88 - lr: 0.001000\n",
      "2022-05-28 07:50:41,598 epoch 9 - iter 36/125 - loss 0.26121785 - samples/sec: 90.93 - lr: 0.001000\n",
      "2022-05-28 07:50:42,539 epoch 9 - iter 48/125 - loss 0.26217714 - samples/sec: 102.19 - lr: 0.001000\n",
      "2022-05-28 07:50:43,502 epoch 9 - iter 60/125 - loss 0.25800285 - samples/sec: 99.82 - lr: 0.001000\n",
      "2022-05-28 07:50:44,569 epoch 9 - iter 72/125 - loss 0.25477623 - samples/sec: 90.09 - lr: 0.001000\n",
      "2022-05-28 07:50:45,574 epoch 9 - iter 84/125 - loss 0.25416467 - samples/sec: 95.62 - lr: 0.001000\n",
      "2022-05-28 07:50:46,554 epoch 9 - iter 96/125 - loss 0.25692703 - samples/sec: 98.12 - lr: 0.001000\n",
      "2022-05-28 07:50:47,617 epoch 9 - iter 108/125 - loss 0.25517725 - samples/sec: 90.46 - lr: 0.001000\n",
      "2022-05-28 07:50:48,714 epoch 9 - iter 120/125 - loss 0.25246839 - samples/sec: 87.90 - lr: 0.001000\n",
      "2022-05-28 07:50:49,142 ----------------------------------------------------------------------------------------------------\n",
      "2022-05-28 07:50:49,143 EPOCH 9 done: loss 0.2575 - lr 0.001000\n"
     ]
    },
    {
     "name": "stderr",
     "output_type": "stream",
     "text": [
      "100%|██████████| 17/17 [00:01<00:00, 11.95it/s]"
     ]
    },
    {
     "name": "stdout",
     "output_type": "stream",
     "text": [
      "2022-05-28 07:50:50,573 Evaluating as a multi-label problem: True\n",
      "2022-05-28 07:50:50,596 DEV : loss 0.14184610545635223 - f1-score (micro avg)  0.4656\n",
      "2022-05-28 07:50:50,603 BAD EPOCHS (no improvement): 2\n",
      "2022-05-28 07:50:50,604 ----------------------------------------------------------------------------------------------------\n"
     ]
    },
    {
     "name": "stderr",
     "output_type": "stream",
     "text": [
      "\n"
     ]
    },
    {
     "name": "stdout",
     "output_type": "stream",
     "text": [
      "2022-05-28 07:50:51,774 epoch 10 - iter 12/125 - loss 0.26174350 - samples/sec: 82.27 - lr: 0.001000\n",
      "2022-05-28 07:50:52,756 epoch 10 - iter 24/125 - loss 0.28388573 - samples/sec: 97.85 - lr: 0.001000\n",
      "2022-05-28 07:50:53,720 epoch 10 - iter 36/125 - loss 0.28068834 - samples/sec: 99.75 - lr: 0.001000\n",
      "2022-05-28 07:50:54,695 epoch 10 - iter 48/125 - loss 0.26527990 - samples/sec: 98.55 - lr: 0.001000\n",
      "2022-05-28 07:50:55,706 epoch 10 - iter 60/125 - loss 0.25695972 - samples/sec: 95.13 - lr: 0.001000\n",
      "2022-05-28 07:50:56,701 epoch 10 - iter 72/125 - loss 0.25978994 - samples/sec: 96.65 - lr: 0.001000\n",
      "2022-05-28 07:50:57,730 epoch 10 - iter 84/125 - loss 0.25588978 - samples/sec: 93.39 - lr: 0.001000\n",
      "2022-05-28 07:50:58,755 epoch 10 - iter 96/125 - loss 0.25889887 - samples/sec: 93.80 - lr: 0.001000\n",
      "2022-05-28 07:50:59,776 epoch 10 - iter 108/125 - loss 0.26219055 - samples/sec: 94.17 - lr: 0.001000\n",
      "2022-05-28 07:51:00,823 epoch 10 - iter 120/125 - loss 0.25931779 - samples/sec: 91.81 - lr: 0.001000\n",
      "2022-05-28 07:51:01,231 ----------------------------------------------------------------------------------------------------\n",
      "2022-05-28 07:51:01,231 EPOCH 10 done: loss 0.2576 - lr 0.001000\n"
     ]
    },
    {
     "name": "stderr",
     "output_type": "stream",
     "text": [
      "100%|██████████| 17/17 [00:01<00:00, 11.90it/s]"
     ]
    },
    {
     "name": "stdout",
     "output_type": "stream",
     "text": [
      "2022-05-28 07:51:02,667 Evaluating as a multi-label problem: True\n",
      "2022-05-28 07:51:02,690 DEV : loss 0.15511421859264374 - f1-score (micro avg)  0.4656\n",
      "2022-05-28 07:51:02,698 BAD EPOCHS (no improvement): 3\n",
      "2022-05-28 07:51:02,700 ----------------------------------------------------------------------------------------------------\n"
     ]
    },
    {
     "name": "stderr",
     "output_type": "stream",
     "text": [
      "\n"
     ]
    },
    {
     "name": "stdout",
     "output_type": "stream",
     "text": [
      "2022-05-28 07:51:03,723 epoch 11 - iter 12/125 - loss 0.25782699 - samples/sec: 94.10 - lr: 0.001000\n",
      "2022-05-28 07:51:04,802 epoch 11 - iter 24/125 - loss 0.25049549 - samples/sec: 89.32 - lr: 0.001000\n",
      "2022-05-28 07:51:05,863 epoch 11 - iter 36/125 - loss 0.23532712 - samples/sec: 90.62 - lr: 0.001000\n",
      "2022-05-28 07:51:06,854 epoch 11 - iter 48/125 - loss 0.24255647 - samples/sec: 97.02 - lr: 0.001000\n",
      "2022-05-28 07:51:07,903 epoch 11 - iter 60/125 - loss 0.23716720 - samples/sec: 91.63 - lr: 0.001000\n",
      "2022-05-28 07:51:08,923 epoch 11 - iter 72/125 - loss 0.24425720 - samples/sec: 94.21 - lr: 0.001000\n",
      "2022-05-28 07:51:09,880 epoch 11 - iter 84/125 - loss 0.24821954 - samples/sec: 100.52 - lr: 0.001000\n",
      "2022-05-28 07:51:10,855 epoch 11 - iter 96/125 - loss 0.23731035 - samples/sec: 98.62 - lr: 0.001000\n",
      "2022-05-28 07:51:11,971 epoch 11 - iter 108/125 - loss 0.24011376 - samples/sec: 86.13 - lr: 0.001000\n",
      "2022-05-28 07:51:13,004 epoch 11 - iter 120/125 - loss 0.24371670 - samples/sec: 93.01 - lr: 0.001000\n",
      "2022-05-28 07:51:13,424 ----------------------------------------------------------------------------------------------------\n",
      "2022-05-28 07:51:13,425 EPOCH 11 done: loss 0.2433 - lr 0.001000\n"
     ]
    },
    {
     "name": "stderr",
     "output_type": "stream",
     "text": [
      "100%|██████████| 17/17 [00:01<00:00, 11.88it/s]"
     ]
    },
    {
     "name": "stdout",
     "output_type": "stream",
     "text": [
      "2022-05-28 07:51:14,861 Evaluating as a multi-label problem: True\n",
      "2022-05-28 07:51:14,882 DEV : loss 0.11914335191249847 - f1-score (micro avg)  0.4656\n",
      "2022-05-28 07:51:14,890 Epoch    11: reducing learning rate of group 0 to 5.0000e-04.\n",
      "2022-05-28 07:51:14,891 BAD EPOCHS (no improvement): 4\n",
      "2022-05-28 07:51:14,892 ----------------------------------------------------------------------------------------------------\n"
     ]
    },
    {
     "name": "stderr",
     "output_type": "stream",
     "text": [
      "\n"
     ]
    },
    {
     "name": "stdout",
     "output_type": "stream",
     "text": [
      "2022-05-28 07:51:15,952 epoch 12 - iter 12/125 - loss 0.23648122 - samples/sec: 90.80 - lr: 0.000500\n",
      "2022-05-28 07:51:16,905 epoch 12 - iter 24/125 - loss 0.25685921 - samples/sec: 100.88 - lr: 0.000500\n",
      "2022-05-28 07:51:17,905 epoch 12 - iter 36/125 - loss 0.25342470 - samples/sec: 96.13 - lr: 0.000500\n",
      "2022-05-28 07:51:18,893 epoch 12 - iter 48/125 - loss 0.25331114 - samples/sec: 97.30 - lr: 0.000500\n",
      "2022-05-28 07:51:19,966 epoch 12 - iter 60/125 - loss 0.25344676 - samples/sec: 89.61 - lr: 0.000500\n",
      "2022-05-28 07:51:21,013 epoch 12 - iter 72/125 - loss 0.24768257 - samples/sec: 91.86 - lr: 0.000500\n",
      "2022-05-28 07:51:22,056 epoch 12 - iter 84/125 - loss 0.23815000 - samples/sec: 92.16 - lr: 0.000500\n",
      "2022-05-28 07:51:23,023 epoch 12 - iter 96/125 - loss 0.23968276 - samples/sec: 99.43 - lr: 0.000500\n",
      "2022-05-28 07:51:24,098 epoch 12 - iter 108/125 - loss 0.23725059 - samples/sec: 89.41 - lr: 0.000500\n",
      "2022-05-28 07:51:25,124 epoch 12 - iter 120/125 - loss 0.23539924 - samples/sec: 93.74 - lr: 0.000500\n",
      "2022-05-28 07:51:25,526 ----------------------------------------------------------------------------------------------------\n",
      "2022-05-28 07:51:25,527 EPOCH 12 done: loss 0.2318 - lr 0.000500\n"
     ]
    },
    {
     "name": "stderr",
     "output_type": "stream",
     "text": [
      "100%|██████████| 17/17 [00:01<00:00, 11.85it/s]"
     ]
    },
    {
     "name": "stdout",
     "output_type": "stream",
     "text": [
      "2022-05-28 07:51:26,968 Evaluating as a multi-label problem: True\n",
      "2022-05-28 07:51:26,988 DEV : loss 0.12418109178543091 - f1-score (micro avg)  0.4656\n",
      "2022-05-28 07:51:26,996 BAD EPOCHS (no improvement): 1\n",
      "2022-05-28 07:51:26,997 ----------------------------------------------------------------------------------------------------\n"
     ]
    },
    {
     "name": "stderr",
     "output_type": "stream",
     "text": [
      "\n"
     ]
    },
    {
     "name": "stdout",
     "output_type": "stream",
     "text": [
      "2022-05-28 07:51:27,981 epoch 13 - iter 12/125 - loss 0.28535433 - samples/sec: 97.90 - lr: 0.000500\n",
      "2022-05-28 07:51:28,967 epoch 13 - iter 24/125 - loss 0.25524592 - samples/sec: 97.55 - lr: 0.000500\n",
      "2022-05-28 07:51:29,960 epoch 13 - iter 36/125 - loss 0.25948097 - samples/sec: 96.79 - lr: 0.000500\n",
      "2022-05-28 07:51:31,286 epoch 13 - iter 48/125 - loss 0.24476896 - samples/sec: 72.47 - lr: 0.000500\n",
      "2022-05-28 07:51:32,410 epoch 13 - iter 60/125 - loss 0.24484832 - samples/sec: 85.68 - lr: 0.000500\n",
      "2022-05-28 07:51:33,476 epoch 13 - iter 72/125 - loss 0.23001258 - samples/sec: 90.18 - lr: 0.000500\n",
      "2022-05-28 07:51:34,454 epoch 13 - iter 84/125 - loss 0.23271192 - samples/sec: 98.36 - lr: 0.000500\n",
      "2022-05-28 07:51:35,444 epoch 13 - iter 96/125 - loss 0.23948931 - samples/sec: 97.12 - lr: 0.000500\n",
      "2022-05-28 07:51:36,516 epoch 13 - iter 108/125 - loss 0.23526750 - samples/sec: 89.64 - lr: 0.000500\n",
      "2022-05-28 07:51:37,553 epoch 13 - iter 120/125 - loss 0.23955986 - samples/sec: 92.78 - lr: 0.000500\n",
      "2022-05-28 07:51:37,920 ----------------------------------------------------------------------------------------------------\n",
      "2022-05-28 07:51:37,921 EPOCH 13 done: loss 0.2408 - lr 0.000500\n"
     ]
    },
    {
     "name": "stderr",
     "output_type": "stream",
     "text": [
      "100%|██████████| 17/17 [00:01<00:00, 11.91it/s]"
     ]
    },
    {
     "name": "stdout",
     "output_type": "stream",
     "text": [
      "2022-05-28 07:51:39,354 Evaluating as a multi-label problem: True\n",
      "2022-05-28 07:51:39,374 DEV : loss 0.11777763068675995 - f1-score (micro avg)  0.4656\n",
      "2022-05-28 07:51:39,381 BAD EPOCHS (no improvement): 2\n",
      "2022-05-28 07:51:39,382 ----------------------------------------------------------------------------------------------------\n"
     ]
    },
    {
     "name": "stderr",
     "output_type": "stream",
     "text": [
      "\n"
     ]
    },
    {
     "name": "stdout",
     "output_type": "stream",
     "text": [
      "2022-05-28 07:51:40,396 epoch 14 - iter 12/125 - loss 0.17897158 - samples/sec: 94.88 - lr: 0.000500\n",
      "2022-05-28 07:51:41,403 epoch 14 - iter 24/125 - loss 0.18958097 - samples/sec: 95.48 - lr: 0.000500\n",
      "2022-05-28 07:51:42,556 epoch 14 - iter 36/125 - loss 0.17940925 - samples/sec: 83.37 - lr: 0.000500\n",
      "2022-05-28 07:51:43,508 epoch 14 - iter 48/125 - loss 0.18816879 - samples/sec: 101.06 - lr: 0.000500\n",
      "2022-05-28 07:51:44,502 epoch 14 - iter 60/125 - loss 0.19645010 - samples/sec: 96.67 - lr: 0.000500\n",
      "2022-05-28 07:51:45,551 epoch 14 - iter 72/125 - loss 0.20299751 - samples/sec: 91.62 - lr: 0.000500\n",
      "2022-05-28 07:51:46,531 epoch 14 - iter 84/125 - loss 0.21935171 - samples/sec: 98.09 - lr: 0.000500\n",
      "2022-05-28 07:51:47,549 epoch 14 - iter 96/125 - loss 0.22909943 - samples/sec: 94.45 - lr: 0.000500\n",
      "2022-05-28 07:51:48,541 epoch 14 - iter 108/125 - loss 0.22751912 - samples/sec: 97.00 - lr: 0.000500\n",
      "2022-05-28 07:51:49,603 epoch 14 - iter 120/125 - loss 0.22977735 - samples/sec: 90.49 - lr: 0.000500\n",
      "2022-05-28 07:51:49,962 ----------------------------------------------------------------------------------------------------\n",
      "2022-05-28 07:51:49,963 EPOCH 14 done: loss 0.2340 - lr 0.000500\n"
     ]
    },
    {
     "name": "stderr",
     "output_type": "stream",
     "text": [
      "100%|██████████| 17/17 [00:01<00:00, 11.90it/s]"
     ]
    },
    {
     "name": "stdout",
     "output_type": "stream",
     "text": [
      "2022-05-28 07:51:51,397 Evaluating as a multi-label problem: True\n",
      "2022-05-28 07:51:51,419 DEV : loss 0.1207590326666832 - f1-score (micro avg)  0.4656\n",
      "2022-05-28 07:51:51,428 BAD EPOCHS (no improvement): 3\n",
      "2022-05-28 07:51:51,430 ----------------------------------------------------------------------------------------------------\n"
     ]
    },
    {
     "name": "stderr",
     "output_type": "stream",
     "text": [
      "\n"
     ]
    },
    {
     "name": "stdout",
     "output_type": "stream",
     "text": [
      "2022-05-28 07:51:52,383 epoch 15 - iter 12/125 - loss 0.21515468 - samples/sec: 101.02 - lr: 0.000500\n",
      "2022-05-28 07:51:53,451 epoch 15 - iter 24/125 - loss 0.24712484 - samples/sec: 90.00 - lr: 0.000500\n",
      "2022-05-28 07:51:54,517 epoch 15 - iter 36/125 - loss 0.25714261 - samples/sec: 90.35 - lr: 0.000500\n",
      "2022-05-28 07:51:55,444 epoch 15 - iter 48/125 - loss 0.24889840 - samples/sec: 103.75 - lr: 0.000500\n",
      "2022-05-28 07:51:56,593 epoch 15 - iter 60/125 - loss 0.24852061 - samples/sec: 83.73 - lr: 0.000500\n",
      "2022-05-28 07:51:57,591 epoch 15 - iter 72/125 - loss 0.24980636 - samples/sec: 96.34 - lr: 0.000500\n",
      "2022-05-28 07:51:58,694 epoch 15 - iter 84/125 - loss 0.25088007 - samples/sec: 87.12 - lr: 0.000500\n",
      "2022-05-28 07:51:59,704 epoch 15 - iter 96/125 - loss 0.25312626 - samples/sec: 95.15 - lr: 0.000500\n",
      "2022-05-28 07:52:00,744 epoch 15 - iter 108/125 - loss 0.24596267 - samples/sec: 92.51 - lr: 0.000500\n",
      "2022-05-28 07:52:01,759 epoch 15 - iter 120/125 - loss 0.24766482 - samples/sec: 94.73 - lr: 0.000500\n",
      "2022-05-28 07:52:02,152 ----------------------------------------------------------------------------------------------------\n",
      "2022-05-28 07:52:02,153 EPOCH 15 done: loss 0.2499 - lr 0.000500\n"
     ]
    },
    {
     "name": "stderr",
     "output_type": "stream",
     "text": [
      "100%|██████████| 17/17 [00:01<00:00, 11.95it/s]"
     ]
    },
    {
     "name": "stdout",
     "output_type": "stream",
     "text": [
      "2022-05-28 07:52:03,582 Evaluating as a multi-label problem: True\n",
      "2022-05-28 07:52:03,603 DEV : loss 0.14881159365177155 - f1-score (micro avg)  0.4656\n",
      "2022-05-28 07:52:03,610 Epoch    15: reducing learning rate of group 0 to 2.5000e-04.\n",
      "2022-05-28 07:52:03,611 BAD EPOCHS (no improvement): 4\n",
      "2022-05-28 07:52:03,611 ----------------------------------------------------------------------------------------------------\n"
     ]
    },
    {
     "name": "stderr",
     "output_type": "stream",
     "text": [
      "\n"
     ]
    },
    {
     "name": "stdout",
     "output_type": "stream",
     "text": [
      "2022-05-28 07:52:04,608 epoch 16 - iter 12/125 - loss 0.25012056 - samples/sec: 96.57 - lr: 0.000250\n",
      "2022-05-28 07:52:05,621 epoch 16 - iter 24/125 - loss 0.21555764 - samples/sec: 94.92 - lr: 0.000250\n",
      "2022-05-28 07:52:06,646 epoch 16 - iter 36/125 - loss 0.21697380 - samples/sec: 93.84 - lr: 0.000250\n",
      "2022-05-28 07:52:07,612 epoch 16 - iter 48/125 - loss 0.21338443 - samples/sec: 99.55 - lr: 0.000250\n",
      "2022-05-28 07:52:08,695 epoch 16 - iter 60/125 - loss 0.22218723 - samples/sec: 88.70 - lr: 0.000250\n",
      "2022-05-28 07:52:09,704 epoch 16 - iter 72/125 - loss 0.22286764 - samples/sec: 95.28 - lr: 0.000250\n",
      "2022-05-28 07:52:10,792 epoch 16 - iter 84/125 - loss 0.23241582 - samples/sec: 88.64 - lr: 0.000250\n",
      "2022-05-28 07:52:11,788 epoch 16 - iter 96/125 - loss 0.23266191 - samples/sec: 96.51 - lr: 0.000250\n",
      "2022-05-28 07:52:12,790 epoch 16 - iter 108/125 - loss 0.24336714 - samples/sec: 95.89 - lr: 0.000250\n",
      "2022-05-28 07:52:13,840 epoch 16 - iter 120/125 - loss 0.24168951 - samples/sec: 91.61 - lr: 0.000250\n",
      "2022-05-28 07:52:14,239 ----------------------------------------------------------------------------------------------------\n",
      "2022-05-28 07:52:14,240 EPOCH 16 done: loss 0.2404 - lr 0.000250\n"
     ]
    },
    {
     "name": "stderr",
     "output_type": "stream",
     "text": [
      "100%|██████████| 17/17 [00:01<00:00, 11.77it/s]"
     ]
    },
    {
     "name": "stdout",
     "output_type": "stream",
     "text": [
      "2022-05-28 07:52:15,690 Evaluating as a multi-label problem: True\n",
      "2022-05-28 07:52:15,711 DEV : loss 0.12485641241073608 - f1-score (micro avg)  0.4656\n",
      "2022-05-28 07:52:15,718 BAD EPOCHS (no improvement): 1\n",
      "2022-05-28 07:52:15,719 ----------------------------------------------------------------------------------------------------\n"
     ]
    },
    {
     "name": "stderr",
     "output_type": "stream",
     "text": [
      "\n"
     ]
    },
    {
     "name": "stdout",
     "output_type": "stream",
     "text": [
      "2022-05-28 07:52:16,713 epoch 17 - iter 12/125 - loss 0.19806232 - samples/sec: 96.77 - lr: 0.000250\n",
      "2022-05-28 07:52:17,801 epoch 17 - iter 24/125 - loss 0.22225462 - samples/sec: 88.32 - lr: 0.000250\n",
      "2022-05-28 07:52:18,786 epoch 17 - iter 36/125 - loss 0.22564652 - samples/sec: 97.69 - lr: 0.000250\n",
      "2022-05-28 07:52:19,820 epoch 17 - iter 48/125 - loss 0.22798310 - samples/sec: 92.93 - lr: 0.000250\n",
      "2022-05-28 07:52:20,863 epoch 17 - iter 60/125 - loss 0.23027782 - samples/sec: 92.27 - lr: 0.000250\n",
      "2022-05-28 07:52:21,894 epoch 17 - iter 72/125 - loss 0.23197573 - samples/sec: 93.24 - lr: 0.000250\n",
      "2022-05-28 07:52:22,831 epoch 17 - iter 84/125 - loss 0.23549537 - samples/sec: 102.56 - lr: 0.000250\n",
      "2022-05-28 07:52:23,888 epoch 17 - iter 96/125 - loss 0.22800055 - samples/sec: 90.95 - lr: 0.000250\n",
      "2022-05-28 07:52:24,860 epoch 17 - iter 108/125 - loss 0.23132553 - samples/sec: 98.98 - lr: 0.000250\n",
      "2022-05-28 07:52:25,881 epoch 17 - iter 120/125 - loss 0.23223346 - samples/sec: 94.13 - lr: 0.000250\n",
      "2022-05-28 07:52:26,374 ----------------------------------------------------------------------------------------------------\n",
      "2022-05-28 07:52:26,380 EPOCH 17 done: loss 0.2307 - lr 0.000250\n"
     ]
    },
    {
     "name": "stderr",
     "output_type": "stream",
     "text": [
      "100%|██████████| 17/17 [00:01<00:00, 11.79it/s]"
     ]
    },
    {
     "name": "stdout",
     "output_type": "stream",
     "text": [
      "2022-05-28 07:52:27,828 Evaluating as a multi-label problem: True\n",
      "2022-05-28 07:52:27,852 DEV : loss 0.1201748326420784 - f1-score (micro avg)  0.4656\n",
      "2022-05-28 07:52:27,858 BAD EPOCHS (no improvement): 2\n",
      "2022-05-28 07:52:27,859 ----------------------------------------------------------------------------------------------------\n"
     ]
    },
    {
     "name": "stderr",
     "output_type": "stream",
     "text": [
      "\n"
     ]
    },
    {
     "name": "stdout",
     "output_type": "stream",
     "text": [
      "2022-05-28 07:52:28,885 epoch 18 - iter 12/125 - loss 0.31103390 - samples/sec: 93.75 - lr: 0.000250\n",
      "2022-05-28 07:52:29,900 epoch 18 - iter 24/125 - loss 0.25797064 - samples/sec: 94.67 - lr: 0.000250\n",
      "2022-05-28 07:52:30,874 epoch 18 - iter 36/125 - loss 0.22480153 - samples/sec: 98.80 - lr: 0.000250\n",
      "2022-05-28 07:52:31,945 epoch 18 - iter 48/125 - loss 0.21700087 - samples/sec: 89.71 - lr: 0.000250\n",
      "2022-05-28 07:52:32,893 epoch 18 - iter 60/125 - loss 0.23270463 - samples/sec: 101.40 - lr: 0.000250\n",
      "2022-05-28 07:52:34,017 epoch 18 - iter 72/125 - loss 0.23467039 - samples/sec: 85.55 - lr: 0.000250\n",
      "2022-05-28 07:52:34,998 epoch 18 - iter 84/125 - loss 0.23271551 - samples/sec: 97.98 - lr: 0.000250\n",
      "2022-05-28 07:52:36,020 epoch 18 - iter 96/125 - loss 0.23224672 - samples/sec: 94.09 - lr: 0.000250\n",
      "2022-05-28 07:52:37,032 epoch 18 - iter 108/125 - loss 0.23089642 - samples/sec: 95.01 - lr: 0.000250\n",
      "2022-05-28 07:52:38,075 epoch 18 - iter 120/125 - loss 0.23212126 - samples/sec: 92.16 - lr: 0.000250\n",
      "2022-05-28 07:52:38,482 ----------------------------------------------------------------------------------------------------\n",
      "2022-05-28 07:52:38,483 EPOCH 18 done: loss 0.2329 - lr 0.000250\n"
     ]
    },
    {
     "name": "stderr",
     "output_type": "stream",
     "text": [
      "100%|██████████| 17/17 [00:01<00:00, 11.86it/s]"
     ]
    },
    {
     "name": "stdout",
     "output_type": "stream",
     "text": [
      "2022-05-28 07:52:39,922 Evaluating as a multi-label problem: True\n",
      "2022-05-28 07:52:39,944 DEV : loss 0.12580524384975433 - f1-score (micro avg)  0.4656\n",
      "2022-05-28 07:52:39,952 BAD EPOCHS (no improvement): 3\n",
      "2022-05-28 07:52:39,953 ----------------------------------------------------------------------------------------------------\n"
     ]
    },
    {
     "name": "stderr",
     "output_type": "stream",
     "text": [
      "\n"
     ]
    },
    {
     "name": "stdout",
     "output_type": "stream",
     "text": [
      "2022-05-28 07:52:40,925 epoch 19 - iter 12/125 - loss 0.21644647 - samples/sec: 99.00 - lr: 0.000250\n",
      "2022-05-28 07:52:41,927 epoch 19 - iter 24/125 - loss 0.21377573 - samples/sec: 96.02 - lr: 0.000250\n",
      "2022-05-28 07:52:42,946 epoch 19 - iter 36/125 - loss 0.22009376 - samples/sec: 94.38 - lr: 0.000250\n",
      "2022-05-28 07:52:44,087 epoch 19 - iter 48/125 - loss 0.21458156 - samples/sec: 84.26 - lr: 0.000250\n",
      "2022-05-28 07:52:45,072 epoch 19 - iter 60/125 - loss 0.21707955 - samples/sec: 97.59 - lr: 0.000250\n",
      "2022-05-28 07:52:46,128 epoch 19 - iter 72/125 - loss 0.22502988 - samples/sec: 91.08 - lr: 0.000250\n",
      "2022-05-28 07:52:47,175 epoch 19 - iter 84/125 - loss 0.22626201 - samples/sec: 91.78 - lr: 0.000250\n",
      "2022-05-28 07:52:48,168 epoch 19 - iter 96/125 - loss 0.22322349 - samples/sec: 96.85 - lr: 0.000250\n",
      "2022-05-28 07:52:49,214 epoch 19 - iter 108/125 - loss 0.22732111 - samples/sec: 92.22 - lr: 0.000250\n",
      "2022-05-28 07:52:50,120 epoch 19 - iter 120/125 - loss 0.22625202 - samples/sec: 106.05 - lr: 0.000250\n",
      "2022-05-28 07:52:50,558 ----------------------------------------------------------------------------------------------------\n",
      "2022-05-28 07:52:50,559 EPOCH 19 done: loss 0.2280 - lr 0.000250\n"
     ]
    },
    {
     "name": "stderr",
     "output_type": "stream",
     "text": [
      "100%|██████████| 17/17 [00:01<00:00, 11.90it/s]"
     ]
    },
    {
     "name": "stdout",
     "output_type": "stream",
     "text": [
      "2022-05-28 07:52:51,993 Evaluating as a multi-label problem: True\n",
      "2022-05-28 07:52:52,015 DEV : loss 0.11542245000600815 - f1-score (micro avg)  0.4656\n",
      "2022-05-28 07:52:52,022 BAD EPOCHS (no improvement): 0\n",
      "2022-05-28 07:52:52,023 ----------------------------------------------------------------------------------------------------\n"
     ]
    },
    {
     "name": "stderr",
     "output_type": "stream",
     "text": [
      "\n"
     ]
    },
    {
     "name": "stdout",
     "output_type": "stream",
     "text": [
      "2022-05-28 07:52:53,089 epoch 20 - iter 12/125 - loss 0.26253619 - samples/sec: 90.18 - lr: 0.000250\n",
      "2022-05-28 07:52:54,071 epoch 20 - iter 24/125 - loss 0.25264785 - samples/sec: 97.88 - lr: 0.000250\n",
      "2022-05-28 07:52:55,175 epoch 20 - iter 36/125 - loss 0.23910506 - samples/sec: 87.10 - lr: 0.000250\n",
      "2022-05-28 07:52:56,154 epoch 20 - iter 48/125 - loss 0.22652141 - samples/sec: 98.18 - lr: 0.000250\n",
      "2022-05-28 07:52:57,097 epoch 20 - iter 60/125 - loss 0.21584942 - samples/sec: 102.00 - lr: 0.000250\n",
      "2022-05-28 07:52:58,140 epoch 20 - iter 72/125 - loss 0.22342820 - samples/sec: 92.20 - lr: 0.000250\n",
      "2022-05-28 07:52:59,128 epoch 20 - iter 84/125 - loss 0.22550246 - samples/sec: 97.30 - lr: 0.000250\n",
      "2022-05-28 07:53:00,197 epoch 20 - iter 96/125 - loss 0.22054998 - samples/sec: 89.93 - lr: 0.000250\n",
      "2022-05-28 07:53:01,258 epoch 20 - iter 108/125 - loss 0.22338864 - samples/sec: 90.58 - lr: 0.000250\n",
      "2022-05-28 07:53:02,242 epoch 20 - iter 120/125 - loss 0.21669362 - samples/sec: 97.78 - lr: 0.000250\n",
      "2022-05-28 07:53:02,646 ----------------------------------------------------------------------------------------------------\n",
      "2022-05-28 07:53:02,647 EPOCH 20 done: loss 0.2219 - lr 0.000250\n"
     ]
    },
    {
     "name": "stderr",
     "output_type": "stream",
     "text": [
      "100%|██████████| 17/17 [00:01<00:00, 11.93it/s]"
     ]
    },
    {
     "name": "stdout",
     "output_type": "stream",
     "text": [
      "2022-05-28 07:53:04,079 Evaluating as a multi-label problem: True\n",
      "2022-05-28 07:53:04,102 DEV : loss 0.14691464602947235 - f1-score (micro avg)  0.4656\n",
      "2022-05-28 07:53:04,110 BAD EPOCHS (no improvement): 1\n"
     ]
    },
    {
     "name": "stderr",
     "output_type": "stream",
     "text": [
      "\n"
     ]
    },
    {
     "name": "stdout",
     "output_type": "stream",
     "text": [
      "2022-05-28 07:53:04,507 ----------------------------------------------------------------------------------------------------\n",
      "2022-05-28 07:53:04,508 loading file /kaggle/working/riposte_class/best-model.pt\n"
     ]
    },
    {
     "name": "stderr",
     "output_type": "stream",
     "text": [
      "100%|██████████| 17/17 [00:01<00:00, 13.01it/s]"
     ]
    },
    {
     "name": "stdout",
     "output_type": "stream",
     "text": [
      "2022-05-28 07:53:06,658 Evaluating as a multi-label problem: True\n",
      "2022-05-28 07:53:06,681 0.6741\t0.2935\t0.409\t0.1111\n",
      "2022-05-28 07:53:06,681 \n",
      "Results:\n",
      "- F-score (micro) 0.409\n",
      "- F-score (macro) 0.1611\n",
      "- Accuracy 0.1111\n",
      "\n",
      "By class:\n",
      "                      precision    recall  f1-score   support\n",
      "\n",
      "           <begging>     0.6741    1.0000    0.8053        91\n",
      "             <hasty>     0.0000    0.0000    0.0000        86\n",
      "<questionable_cause>     0.0000    0.0000    0.0000        66\n",
      "       <red_herring>     0.0000    0.0000    0.0000        54\n",
      "              <none>     0.0000    0.0000    0.0000        13\n",
      "\n",
      "           micro avg     0.6741    0.2935    0.4090       310\n",
      "           macro avg     0.1348    0.2000    0.1611       310\n",
      "        weighted avg     0.1979    0.2935    0.2364       310\n",
      "         samples avg     0.6741    0.3222    0.4141       310\n",
      "\n",
      "2022-05-28 07:53:06,684 ----------------------------------------------------------------------------------------------------\n",
      "CPU times: user 4min 4s, sys: 1.44 s, total: 4min 5s\n",
      "Wall time: 4min 6s\n"
     ]
    },
    {
     "name": "stderr",
     "output_type": "stream",
     "text": [
      "\n"
     ]
    },
    {
     "data": {
      "text/plain": [
       "{'test_score': 0.4089887640449438,\n",
       " 'dev_score_history': [0.46563192904656325,\n",
       "  0.46563192904656325,\n",
       "  0.46563192904656325,\n",
       "  0.46563192904656325,\n",
       "  0.46563192904656325,\n",
       "  0.46563192904656325,\n",
       "  0.46563192904656325,\n",
       "  0.46563192904656325,\n",
       "  0.46563192904656325,\n",
       "  0.46563192904656325,\n",
       "  0.46563192904656325,\n",
       "  0.46563192904656325,\n",
       "  0.46563192904656325,\n",
       "  0.46563192904656325,\n",
       "  0.46563192904656325,\n",
       "  0.46563192904656325,\n",
       "  0.46563192904656325,\n",
       "  0.46563192904656325,\n",
       "  0.46563192904656325,\n",
       "  0.46563192904656325],\n",
       " 'train_loss_history': [0.4875393140393573,\n",
       "  0.38061148117672094,\n",
       "  0.3322275674774184,\n",
       "  0.30981784677869445,\n",
       "  0.3215925958757107,\n",
       "  0.289875996825812,\n",
       "  0.2757028749397209,\n",
       "  0.2645746679516049,\n",
       "  0.25753599604418326,\n",
       "  0.25758558440136836,\n",
       "  0.24327660160692963,\n",
       "  0.2317896805353112,\n",
       "  0.24076905035906965,\n",
       "  0.23403283921970022,\n",
       "  0.24990769943317492,\n",
       "  0.24043904937005736,\n",
       "  0.23074584442365156,\n",
       "  0.2329445461611132,\n",
       "  0.22797785653127683,\n",
       "  0.22194503288011294],\n",
       " 'dev_loss_history': [0.20571310818195343,\n",
       "  0.1925327181816101,\n",
       "  0.17083603143692017,\n",
       "  0.13965269923210144,\n",
       "  0.17154286801815033,\n",
       "  0.13565702736377716,\n",
       "  0.11697835475206375,\n",
       "  0.1335631012916565,\n",
       "  0.14184610545635223,\n",
       "  0.15511421859264374,\n",
       "  0.11914335191249847,\n",
       "  0.12418109178543091,\n",
       "  0.11777763068675995,\n",
       "  0.1207590326666832,\n",
       "  0.14881159365177155,\n",
       "  0.12485641241073608,\n",
       "  0.1201748326420784,\n",
       "  0.12580524384975433,\n",
       "  0.11542245000600815,\n",
       "  0.14691464602947235]}"
      ]
     },
     "execution_count": 15,
     "metadata": {},
     "output_type": "execute_result"
    }
   ],
   "source": [
    "%%time\n",
    "# Start training\n",
    "trainer.train(\n",
    "    f'{save_dir}/riposte_class',\n",
    "    learning_rate=LEARNING_RATE,\n",
    "    mini_batch_size=BATCH_SIZE,\n",
    "    max_epochs=EPOCHS,\n",
    "    # monitor_test=True,\n",
    ")"
   ]
  },
  {
   "cell_type": "markdown",
   "id": "23d5000c",
   "metadata": {
    "papermill": {
     "duration": 0.279735,
     "end_time": "2022-05-28T07:53:07.247590",
     "exception": false,
     "start_time": "2022-05-28T07:53:06.967855",
     "status": "completed"
    },
    "tags": []
   },
   "source": [
    "## Plot Training Results"
   ]
  },
  {
   "cell_type": "code",
   "execution_count": 16,
   "id": "ccb01275",
   "metadata": {
    "execution": {
     "iopub.execute_input": "2022-05-28T07:53:07.794071Z",
     "iopub.status.busy": "2022-05-28T07:53:07.793157Z",
     "iopub.status.idle": "2022-05-28T07:53:09.149649Z",
     "shell.execute_reply": "2022-05-28T07:53:09.148938Z",
     "shell.execute_reply.started": "2022-05-28T07:46:55.054547Z"
    },
    "papermill": {
     "duration": 1.631903,
     "end_time": "2022-05-28T07:53:09.149782",
     "exception": false,
     "start_time": "2022-05-28T07:53:07.517879",
     "status": "completed"
    },
    "tags": []
   },
   "outputs": [
    {
     "name": "stdout",
     "output_type": "stream",
     "text": [
      "2022-05-28 07:53:07,791 ----------------------------------------------------------------------------------------------------\n",
      "2022-05-28 07:53:07,792 WARNING: No LOSS found for test split in this data.\n",
      "2022-05-28 07:53:07,793 Are you sure you want to plot LOSS and not another value?\n",
      "2022-05-28 07:53:07,794 ----------------------------------------------------------------------------------------------------\n",
      "2022-05-28 07:53:07,815 ----------------------------------------------------------------------------------------------------\n",
      "2022-05-28 07:53:07,816 WARNING: No F1 found for test split in this data.\n",
      "2022-05-28 07:53:07,816 Are you sure you want to plot F1 and not another value?\n",
      "2022-05-28 07:53:07,818 ----------------------------------------------------------------------------------------------------\n",
      "2022-05-28 07:53:08,929 Loss and F1 plots are saved in /kaggle/working/riposte_class/training.png\n"
     ]
    },
    {
     "data": {
      "image/png": "[encoded data removed]",
      "text/plain": [
       "<Figure size 1080x720 with 2 Axes>"
      ]
     },
     "metadata": {
      "needs_background": "light"
     },
     "output_type": "display_data"
    }
   ],
   "source": [
    "import matplotlib.pyplot as plt\n",
    "from flair.visual.training_curves import Plotter\n",
    "\n",
    "plotter = Plotter()\n",
    "plotter.plot_training_curves(f'{save_dir}/riposte_class/loss.tsv')"
   ]
  }
 ],
 "metadata": {
  "kernelspec": {
   "display_name": "Python 3",
   "language": "python",
   "name": "python3"
  },
  "language_info": {
   "codemirror_mode": {
    "name": "ipython",
    "version": 3
   },
   "file_extension": ".py",
   "mimetype": "text/x-python",
   "name": "python",
   "nbconvert_exporter": "python",
   "pygments_lexer": "ipython3",
   "version": "3.7.12"
  },
  "papermill": {
   "default_parameters": {},
   "duration": 355.551454,
   "end_time": "2022-05-28T07:53:12.509522",
   "environment_variables": {},
   "exception": null,
   "input_path": "__notebook__.ipynb",
   "output_path": "__notebook__.ipynb",
   "parameters": {},
   "start_time": "2022-05-28T07:47:16.958068",
   "version": "2.3.3"
  }
 },
 "nbformat": 4,
 "nbformat_minor": 5
}
