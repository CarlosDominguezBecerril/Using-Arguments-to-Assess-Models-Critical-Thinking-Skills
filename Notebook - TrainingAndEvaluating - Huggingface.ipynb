{
 "cells": [
  {
   "cell_type": "markdown",
   "id": "a788307d",
   "metadata": {
    "id": "a3c56e67",
    "papermill": {
     "duration": 0.030155,
     "end_time": "2022-05-23T16:39:22.290168",
     "exception": false,
     "start_time": "2022-05-23T16:39:22.260013",
     "status": "completed"
    },
    "tags": []
   },
   "source": [
    "### Global variables\n",
    "\n",
    "To get the list of model checkpoints available: https://huggingface.co/models?sort=downloads\n",
    "\n",
    "[Recommended values](https://github.com/google-research/bert#bert):\n",
    "\n",
    "* epochs: 5\n",
    "* batch-sizes: 8, 16, 32, 64, 128\n",
    "* learning-rates: 3e-4, 1e-4, 5e-5, 3e-5"
   ]
  },
  {
   "cell_type": "code",
   "execution_count": 1,
   "id": "ce97e130",
   "metadata": {
    "execution": {
     "iopub.execute_input": "2022-05-23T16:39:22.350175Z",
     "iopub.status.busy": "2022-05-23T16:39:22.349758Z",
     "iopub.status.idle": "2022-05-23T16:39:22.360469Z",
     "shell.execute_reply": "2022-05-23T16:39:22.359832Z"
    },
    "id": "ddabca1b",
    "papermill": {
     "duration": 0.043162,
     "end_time": "2022-05-23T16:39:22.362393",
     "exception": false,
     "start_time": "2022-05-23T16:39:22.319231",
     "status": "completed"
    },
    "tags": []
   },
   "outputs": [],
   "source": [
    "BATCH_SIZE = 8\n",
    "LEARNING_RATE = 1e-4\n",
    "EPOCHS = 5\n",
    "BINARY_CLASS = False\n",
    "CHECKPOINT = 'xlm-roberta-base'"
   ]
  },
  {
   "cell_type": "markdown",
   "id": "9a1d740b",
   "metadata": {
    "papermill": {
     "duration": 0.030737,
     "end_time": "2022-05-23T16:39:22.422309",
     "exception": false,
     "start_time": "2022-05-23T16:39:22.391572",
     "status": "completed"
    },
    "tags": []
   },
   "source": [
    "### Set Main Paths"
   ]
  },
  {
   "cell_type": "code",
   "execution_count": 2,
   "id": "00c09a6d",
   "metadata": {
    "execution": {
     "iopub.execute_input": "2022-05-23T16:39:22.482064Z",
     "iopub.status.busy": "2022-05-23T16:39:22.481806Z",
     "iopub.status.idle": "2022-05-23T16:39:22.488431Z",
     "shell.execute_reply": "2022-05-23T16:39:22.487728Z"
    },
    "id": "qMsbdQi7AG5e",
    "papermill": {
     "duration": 0.039227,
     "end_time": "2022-05-23T16:39:22.490282",
     "exception": false,
     "start_time": "2022-05-23T16:39:22.451055",
     "status": "completed"
    },
    "tags": []
   },
   "outputs": [],
   "source": [
    "import os\n",
    "\n",
    "try:\n",
    "    from google.colab import drive\n",
    "    drive.mount('/content/drive')\n",
    "except:\n",
    "    pass\n",
    "\n",
    "if os.path.isdir('/content/drive'): # Google Drive\n",
    "    save_dir = '/content/drive/MyDrive/models'\n",
    "    platform = 'colab'\n",
    "elif os.path.isdir('kaggle/working'): # Kaggle\n",
    "    save_dir = 'kaggle/working'\n",
    "    platform = 'kaggle'\n",
    "else: # Others\n",
    "    save_dir = './'\n",
    "    platform = 'other'\n",
    "\n",
    "corpus_folder = '../input/riposte/cpca/sampled/'"
   ]
  },
  {
   "cell_type": "markdown",
   "id": "7b1e97e0",
   "metadata": {
    "id": "792b3b26",
    "papermill": {
     "duration": 0.028586,
     "end_time": "2022-05-23T16:39:22.548323",
     "exception": false,
     "start_time": "2022-05-23T16:39:22.519737",
     "status": "completed"
    },
    "tags": []
   },
   "source": [
    "### Libraries"
   ]
  },
  {
   "cell_type": "code",
   "execution_count": 3,
   "id": "f454a52d",
   "metadata": {
    "execution": {
     "iopub.execute_input": "2022-05-23T16:39:22.608621Z",
     "iopub.status.busy": "2022-05-23T16:39:22.608373Z",
     "iopub.status.idle": "2022-05-23T16:39:28.956571Z",
     "shell.execute_reply": "2022-05-23T16:39:28.955879Z"
    },
    "id": "190f9e9c",
    "papermill": {
     "duration": 6.380918,
     "end_time": "2022-05-23T16:39:28.958625",
     "exception": false,
     "start_time": "2022-05-23T16:39:22.577707",
     "status": "completed"
    },
    "tags": []
   },
   "outputs": [],
   "source": [
    "import torch\n",
    "from torch.utils.data import Dataset, DataLoader\n",
    "from torch import nn\n",
    "from torch.optim import Adam, AdamW\n",
    "\n",
    "from transformers import AutoTokenizer, AutoModel, get_scheduler, AutoModelForSequenceClassification\n",
    "\n",
    "import pandas as pd\n",
    "\n",
    "from collections import defaultdict\n",
    "\n",
    "from tqdm import tqdm\n",
    "\n",
    "import matplotlib.pyplot as plt\n",
    "\n",
    "import numpy as np\n",
    "\n",
    "import os\n",
    "\n",
    "from sklearn.metrics import accuracy_score, precision_score, recall_score, f1_score"
   ]
  },
  {
   "cell_type": "markdown",
   "id": "8f332025",
   "metadata": {
    "id": "f93cbac5",
    "papermill": {
     "duration": 0.028641,
     "end_time": "2022-05-23T16:39:29.016526",
     "exception": false,
     "start_time": "2022-05-23T16:39:28.987885",
     "status": "completed"
    },
    "tags": []
   },
   "source": [
    "### Check if GPU available"
   ]
  },
  {
   "cell_type": "code",
   "execution_count": 4,
   "id": "a406ea07",
   "metadata": {
    "execution": {
     "iopub.execute_input": "2022-05-23T16:39:29.076243Z",
     "iopub.status.busy": "2022-05-23T16:39:29.076011Z",
     "iopub.status.idle": "2022-05-23T16:39:29.129611Z",
     "shell.execute_reply": "2022-05-23T16:39:29.128922Z"
    },
    "id": "aafc4518",
    "outputId": "7ae6b950-26e3-475c-ad4e-fa91d15b6025",
    "papermill": {
     "duration": 0.086008,
     "end_time": "2022-05-23T16:39:29.132221",
     "exception": false,
     "start_time": "2022-05-23T16:39:29.046213",
     "status": "completed"
    },
    "tags": []
   },
   "outputs": [
    {
     "data": {
      "text/plain": [
       "True"
      ]
     },
     "execution_count": 4,
     "metadata": {},
     "output_type": "execute_result"
    }
   ],
   "source": [
    "torch.cuda.is_available()"
   ]
  },
  {
   "cell_type": "code",
   "execution_count": 5,
   "id": "a5e31ea3",
   "metadata": {
    "execution": {
     "iopub.execute_input": "2022-05-23T16:39:29.191547Z",
     "iopub.status.busy": "2022-05-23T16:39:29.191337Z",
     "iopub.status.idle": "2022-05-23T16:39:29.909162Z",
     "shell.execute_reply": "2022-05-23T16:39:29.908338Z"
    },
    "id": "aad61245",
    "outputId": "ab169660-7d5d-4a84-d9e8-ac3b9a53906d",
    "papermill": {
     "duration": 0.749406,
     "end_time": "2022-05-23T16:39:29.911430",
     "exception": false,
     "start_time": "2022-05-23T16:39:29.162024",
     "status": "completed"
    },
    "tags": []
   },
   "outputs": [
    {
     "name": "stdout",
     "output_type": "stream",
     "text": [
      "Mon May 23 16:39:29 2022       \r\n",
      "+-----------------------------------------------------------------------------+\r\n",
      "| NVIDIA-SMI 470.82.01    Driver Version: 470.82.01    CUDA Version: 11.4     |\r\n",
      "|-------------------------------+----------------------+----------------------+\r\n",
      "| GPU  Name        Persistence-M| Bus-Id        Disp.A | Volatile Uncorr. ECC |\r\n",
      "| Fan  Temp  Perf  Pwr:Usage/Cap|         Memory-Usage | GPU-Util  Compute M. |\r\n",
      "|                               |                      |               MIG M. |\r\n",
      "|===============================+======================+======================|\r\n",
      "|   0  Tesla P100-PCIE...  Off  | 00000000:00:04.0 Off |                    0 |\r\n",
      "| N/A   32C    P0    26W / 250W |      2MiB / 16280MiB |      0%      Default |\r\n",
      "|                               |                      |                  N/A |\r\n",
      "+-------------------------------+----------------------+----------------------+\r\n",
      "                                                                               \r\n",
      "+-----------------------------------------------------------------------------+\r\n",
      "| Processes:                                                                  |\r\n",
      "|  GPU   GI   CI        PID   Type   Process name                  GPU Memory |\r\n",
      "|        ID   ID                                                   Usage      |\r\n",
      "|=============================================================================|\r\n",
      "|  No running processes found                                                 |\r\n",
      "+-----------------------------------------------------------------------------+\r\n"
     ]
    }
   ],
   "source": [
    "if torch.cuda.is_available():\n",
    "    !nvidia-smi"
   ]
  },
  {
   "cell_type": "markdown",
   "id": "f727bbda",
   "metadata": {
    "id": "7b84c27a",
    "papermill": {
     "duration": 0.030651,
     "end_time": "2022-05-23T16:39:29.972353",
     "exception": false,
     "start_time": "2022-05-23T16:39:29.941702",
     "status": "completed"
    },
    "tags": []
   },
   "source": [
    "### Check dataset"
   ]
  },
  {
   "cell_type": "code",
   "execution_count": 6,
   "id": "f5e7365e",
   "metadata": {
    "execution": {
     "iopub.execute_input": "2022-05-23T16:39:30.034069Z",
     "iopub.status.busy": "2022-05-23T16:39:30.033421Z",
     "iopub.status.idle": "2022-05-23T16:39:30.067322Z",
     "shell.execute_reply": "2022-05-23T16:39:30.066658Z"
    },
    "id": "033deb03",
    "outputId": "698df490-ea4d-49ca-ed63-616a24fc6bbd",
    "papermill": {
     "duration": 0.066231,
     "end_time": "2022-05-23T16:39:30.069019",
     "exception": false,
     "start_time": "2022-05-23T16:39:30.002788",
     "status": "completed"
    },
    "tags": []
   },
   "outputs": [
    {
     "data": {
      "text/html": [
       "<div>\n",
       "<style scoped>\n",
       "    .dataframe tbody tr th:only-of-type {\n",
       "        vertical-align: middle;\n",
       "    }\n",
       "\n",
       "    .dataframe tbody tr th {\n",
       "        vertical-align: top;\n",
       "    }\n",
       "\n",
       "    .dataframe thead th {\n",
       "        text-align: right;\n",
       "    }\n",
       "</style>\n",
       "<table border=\"1\" class=\"dataframe\">\n",
       "  <thead>\n",
       "    <tr style=\"text-align: right;\">\n",
       "      <th></th>\n",
       "      <th>topic</th>\n",
       "      <th>claim</th>\n",
       "      <th>premise</th>\n",
       "      <th>&lt;begging&gt;</th>\n",
       "      <th>&lt;hasty&gt;</th>\n",
       "      <th>&lt;none&gt;</th>\n",
       "      <th>&lt;questionable_cause&gt;</th>\n",
       "      <th>&lt;red_herring&gt;</th>\n",
       "      <th>types</th>\n",
       "    </tr>\n",
       "  </thead>\n",
       "  <tbody>\n",
       "    <tr>\n",
       "      <th>0</th>\n",
       "      <td>Are Family Vacations Worth It?</td>\n",
       "      <td>Parents should make vacation with kids</td>\n",
       "      <td>Family vacations create lifelong memories.</td>\n",
       "      <td>1</td>\n",
       "      <td>1</td>\n",
       "      <td>0</td>\n",
       "      <td>0</td>\n",
       "      <td>0</td>\n",
       "      <td>&lt;begging&gt;,&lt;hasty&gt;</td>\n",
       "    </tr>\n",
       "    <tr>\n",
       "      <th>1</th>\n",
       "      <td>Will Electric Cars Finally Succeed?</td>\n",
       "      <td>Electric cars will succeed</td>\n",
       "      <td>The cost efficiency of electric cars will make...</td>\n",
       "      <td>1</td>\n",
       "      <td>1</td>\n",
       "      <td>0</td>\n",
       "      <td>0</td>\n",
       "      <td>0</td>\n",
       "      <td>&lt;begging&gt;,&lt;hasty&gt;</td>\n",
       "    </tr>\n",
       "    <tr>\n",
       "      <th>2</th>\n",
       "      <td>Are Court Stenographers Necessary?</td>\n",
       "      <td>Court stenographers are necessary</td>\n",
       "      <td>Somebody still needs to transcribe audio recor...</td>\n",
       "      <td>1</td>\n",
       "      <td>1</td>\n",
       "      <td>0</td>\n",
       "      <td>0</td>\n",
       "      <td>0</td>\n",
       "      <td>&lt;begging&gt;,&lt;hasty&gt;</td>\n",
       "    </tr>\n",
       "    <tr>\n",
       "      <th>3</th>\n",
       "      <td>Are Casinos Too Much of a Gamble?</td>\n",
       "      <td>Casinos are too much of a gamble</td>\n",
       "      <td>If casinos are not a destination resort then t...</td>\n",
       "      <td>1</td>\n",
       "      <td>1</td>\n",
       "      <td>0</td>\n",
       "      <td>1</td>\n",
       "      <td>0</td>\n",
       "      <td>&lt;begging&gt;,&lt;hasty&gt;,&lt;questionable_cause&gt;</td>\n",
       "    </tr>\n",
       "    <tr>\n",
       "      <th>4</th>\n",
       "      <td>Has Support for Israel Hurt U.S. Credibility?</td>\n",
       "      <td>Supporting Israel hurts</td>\n",
       "      <td>The US sides blindly with Isreal despite what ...</td>\n",
       "      <td>0</td>\n",
       "      <td>1</td>\n",
       "      <td>0</td>\n",
       "      <td>0</td>\n",
       "      <td>0</td>\n",
       "      <td>&lt;hasty&gt;</td>\n",
       "    </tr>\n",
       "  </tbody>\n",
       "</table>\n",
       "</div>"
      ],
      "text/plain": [
       "                                           topic  \\\n",
       "0                 Are Family Vacations Worth It?   \n",
       "1            Will Electric Cars Finally Succeed?   \n",
       "2             Are Court Stenographers Necessary?   \n",
       "3              Are Casinos Too Much of a Gamble?   \n",
       "4  Has Support for Israel Hurt U.S. Credibility?   \n",
       "\n",
       "                                    claim  \\\n",
       "0  Parents should make vacation with kids   \n",
       "1              Electric cars will succeed   \n",
       "2       Court stenographers are necessary   \n",
       "3        Casinos are too much of a gamble   \n",
       "4                 Supporting Israel hurts   \n",
       "\n",
       "                                             premise  <begging>  <hasty>  \\\n",
       "0         Family vacations create lifelong memories.          1        1   \n",
       "1  The cost efficiency of electric cars will make...          1        1   \n",
       "2  Somebody still needs to transcribe audio recor...          1        1   \n",
       "3  If casinos are not a destination resort then t...          1        1   \n",
       "4  The US sides blindly with Isreal despite what ...          0        1   \n",
       "\n",
       "   <none>  <questionable_cause>  <red_herring>  \\\n",
       "0       0                     0              0   \n",
       "1       0                     0              0   \n",
       "2       0                     0              0   \n",
       "3       0                     1              0   \n",
       "4       0                     0              0   \n",
       "\n",
       "                                    types  \n",
       "0                       <begging>,<hasty>  \n",
       "1                       <begging>,<hasty>  \n",
       "2                       <begging>,<hasty>  \n",
       "3  <begging>,<hasty>,<questionable_cause>  \n",
       "4                                 <hasty>  "
      ]
     },
     "execution_count": 6,
     "metadata": {},
     "output_type": "execute_result"
    }
   ],
   "source": [
    "df = pd.read_csv(corpus_folder + \"dev_multi.csv\", sep=\"\\t\")\n",
    "df.head()"
   ]
  },
  {
   "cell_type": "markdown",
   "id": "42960bd9",
   "metadata": {
    "id": "ba091f55",
    "papermill": {
     "duration": 0.029429,
     "end_time": "2022-05-23T16:39:30.128511",
     "exception": false,
     "start_time": "2022-05-23T16:39:30.099082",
     "status": "completed"
    },
    "tags": []
   },
   "source": [
    "### Dataset"
   ]
  },
  {
   "cell_type": "code",
   "execution_count": 7,
   "id": "8fc3af2b",
   "metadata": {
    "execution": {
     "iopub.execute_input": "2022-05-23T16:39:30.188871Z",
     "iopub.status.busy": "2022-05-23T16:39:30.188664Z",
     "iopub.status.idle": "2022-05-23T16:39:30.205670Z",
     "shell.execute_reply": "2022-05-23T16:39:30.204917Z"
    },
    "id": "9b6b9375",
    "papermill": {
     "duration": 0.049083,
     "end_time": "2022-05-23T16:39:30.207479",
     "exception": false,
     "start_time": "2022-05-23T16:39:30.158396",
     "status": "completed"
    },
    "tags": []
   },
   "outputs": [],
   "source": [
    "class Riposte(Dataset):\n",
    "    def __init__(self, dataset_path, name=\"\", label2idx=None, idx2label=None):\n",
    "        \n",
    "        # Give a name to the dataset\n",
    "        if name:\n",
    "            print(\"Creating\", name, \"dataset\")\n",
    "        self.name = name\n",
    "        \n",
    "        # Create the BERT tokenizer\n",
    "        self.tokenizer = AutoTokenizer.from_pretrained(CHECKPOINT)\n",
    "        \n",
    "        # Read the dataset\n",
    "        self.dataset_path = dataset_path\n",
    "        df = pd.read_csv(self.dataset_path, sep=\"\\t\")\n",
    "        \n",
    "        # Variables to store the information\n",
    "        self.argument_ids, self.information = [], defaultdict(lambda: defaultdict(str))\n",
    "        \n",
    "        # If we want binary types: Fallacy true/false\n",
    "        if BINARY_CLASS:\n",
    "            df.loc[df['types'] != '<none>', ['types']] = '<fallacy>' \n",
    "        \n",
    "        # Create a new label2idx and idx2label or use some predifined ones.\n",
    "        if label2idx is not None and idx2label is not None:\n",
    "            print(\"Using predifined label2idx and idx2label\")\n",
    "            self.label2idx, self.idx2label = label2idx, idx2label\n",
    "        else:\n",
    "            self.label2idx, self.idx2label = defaultdict(int), defaultdict(str)\n",
    "            self.label2idx['<unk>'], self.idx2label[0] = 0, '<unk>'\n",
    "            \n",
    "            for label_type in df['types'].unique():\n",
    "                self.label2idx[label_type.lower()] = len(self.label2idx)\n",
    "                self.idx2label[self.label2idx[label_type.lower()]] = label_type\n",
    "        \n",
    "        # Read the dataset and store the information in dictionaries for fast access\n",
    "        for row_id, row_info in df.iterrows():\n",
    "            self.argument_ids.append(row_id)\n",
    "            if 'topic' in row_info:\n",
    "                self.information[row_id]['topic'] = str(row_info['topic']).lower()\n",
    "            self.information[row_id]['claim'] = str(row_info['claim']).lower()\n",
    "            self.information[row_id]['premise'] = str(row_info['premise']).lower()\n",
    "            type_info = str(row_info['types']).lower()\n",
    "            self.information[row_id]['type'] = self.label2idx[type_info] if type_info in self.label2idx else self.label2idx['<unk>']\n",
    "            self.information[row_id]['labels'] = [int(row_info['<begging>']), int(row_info['<hasty>']), int(row_info['<questionable_cause>']), int(row_info['<red_herring>'])]\n",
    "            self.information[row_id]['<begging>'] = int(row_info['<begging>'])\n",
    "            self.information[row_id]['<hasty>'] = int(row_info['<hasty>'])\n",
    "            self.information[row_id]['<questionable_cause>'] = int(row_info['<questionable_cause>'])\n",
    "            self.information[row_id]['<red_herring> \t'] = int(row_info['<red_herring>'])\n",
    "            \n",
    "    \n",
    "    def __len__(self):\n",
    "        return len(self.argument_ids)\n",
    "    \n",
    "    def __getitem__(self, idx):\n",
    "        # Create one example for training\n",
    "        \n",
    "        # Obtain the argument id\n",
    "        argument_id = self.argument_ids[idx]\n",
    "        \n",
    "        # Get the claim and the counter-argument\n",
    "        claim = self.information[argument_id]['claim']\n",
    "        premise = self.information[argument_id]['premise']\n",
    "        \n",
    "        # Use the Bert tokenizer with the claim and the carg and obtain the label type\n",
    "        text = self.tokenizer(claim, premise, padding='max_length', max_length=256, truncation=True, return_tensors=\"pt\")\n",
    "        # label_type = self.information[argument_id]['type']\n",
    "        labels = torch.LongTensor(self.information[argument_id]['labels'])\n",
    "        \n",
    "        return text, labels"
   ]
  },
  {
   "cell_type": "code",
   "execution_count": 8,
   "id": "7581c84e",
   "metadata": {
    "execution": {
     "iopub.execute_input": "2022-05-23T16:39:30.268196Z",
     "iopub.status.busy": "2022-05-23T16:39:30.267941Z",
     "iopub.status.idle": "2022-05-23T16:40:06.919165Z",
     "shell.execute_reply": "2022-05-23T16:40:06.918417Z"
    },
    "id": "2c759604",
    "papermill": {
     "duration": 36.716804,
     "end_time": "2022-05-23T16:40:06.953681",
     "exception": false,
     "start_time": "2022-05-23T16:39:30.236877",
     "status": "completed"
    },
    "tags": []
   },
   "outputs": [
    {
     "name": "stdout",
     "output_type": "stream",
     "text": [
      "Creating training dataset\n"
     ]
    },
    {
     "data": {
      "application/vnd.jupyter.widget-view+json": {
       "model_id": "1ffbd58b766f44b2b42498739d359b31",
       "version_major": 2,
       "version_minor": 0
      },
      "text/plain": [
       "Downloading:   0%|          | 0.00/615 [00:00<?, ?B/s]"
      ]
     },
     "metadata": {},
     "output_type": "display_data"
    },
    {
     "data": {
      "application/vnd.jupyter.widget-view+json": {
       "model_id": "bfa0132087d741e4be0ef08f61323c12",
       "version_major": 2,
       "version_minor": 0
      },
      "text/plain": [
       "Downloading:   0%|          | 0.00/4.83M [00:00<?, ?B/s]"
      ]
     },
     "metadata": {},
     "output_type": "display_data"
    },
    {
     "data": {
      "application/vnd.jupyter.widget-view+json": {
       "model_id": "23bb264b29834ad3a778d09201178f5a",
       "version_major": 2,
       "version_minor": 0
      },
      "text/plain": [
       "Downloading:   0%|          | 0.00/8.68M [00:00<?, ?B/s]"
      ]
     },
     "metadata": {},
     "output_type": "display_data"
    },
    {
     "name": "stdout",
     "output_type": "stream",
     "text": [
      "Creating development dataset\n",
      "Using predifined label2idx and idx2label\n",
      "Creating testing dataset\n",
      "Using predifined label2idx and idx2label\n"
     ]
    }
   ],
   "source": [
    "# Create the datasets\n",
    "train_ds = Riposte(corpus_folder + \"train_multi.csv\", name=\"training\")\n",
    "dev_ds = Riposte(corpus_folder + \"dev_multi.csv\", name=\"development\", label2idx=train_ds.label2idx, idx2label=train_ds.idx2label)\n",
    "test_ds = Riposte(corpus_folder + \"test_multi.csv\", name=\"testing\", label2idx=train_ds.label2idx, idx2label=train_ds.idx2label)"
   ]
  },
  {
   "cell_type": "code",
   "execution_count": 9,
   "id": "e377aab1",
   "metadata": {
    "execution": {
     "iopub.execute_input": "2022-05-23T16:40:07.020364Z",
     "iopub.status.busy": "2022-05-23T16:40:07.020127Z",
     "iopub.status.idle": "2022-05-23T16:40:07.026135Z",
     "shell.execute_reply": "2022-05-23T16:40:07.025443Z"
    },
    "id": "15bb4bb3",
    "outputId": "f5544852-907a-4635-b169-4b72cabba05e",
    "papermill": {
     "duration": 0.041948,
     "end_time": "2022-05-23T16:40:07.027746",
     "exception": false,
     "start_time": "2022-05-23T16:40:06.985798",
     "status": "completed"
    },
    "tags": []
   },
   "outputs": [
    {
     "data": {
      "text/plain": [
       "(defaultdict(int,\n",
       "             {'<unk>': 0,\n",
       "              '<begging>': 1,\n",
       "              '<red_herring>,<questionable_cause>': 2,\n",
       "              '<red_herring>,<hasty>,<questionable_cause>': 3,\n",
       "              '<red_herring>,<begging>,<hasty>,<questionable_cause>': 4,\n",
       "              '<red_herring>,<hasty>': 5,\n",
       "              '<begging>,<hasty>': 6,\n",
       "              '<hasty>,<questionable_cause>': 7,\n",
       "              '<red_herring>,<begging>,<hasty>': 8,\n",
       "              '<begging>,<questionable_cause>': 9,\n",
       "              '<hasty>': 10,\n",
       "              '<begging>,<hasty>,<questionable_cause>': 11,\n",
       "              '<none>': 12,\n",
       "              '<red_herring>': 13,\n",
       "              '<red_herring>,<begging>': 14,\n",
       "              '<red_herring>,<begging>,<questionable_cause>': 15,\n",
       "              '<questionable_cause>': 16}),\n",
       " 17)"
      ]
     },
     "execution_count": 9,
     "metadata": {},
     "output_type": "execute_result"
    }
   ],
   "source": [
    "train_ds.label2idx, len(train_ds.label2idx)"
   ]
  },
  {
   "cell_type": "code",
   "execution_count": 10,
   "id": "16082c88",
   "metadata": {
    "execution": {
     "iopub.execute_input": "2022-05-23T16:40:07.096605Z",
     "iopub.status.busy": "2022-05-23T16:40:07.095925Z",
     "iopub.status.idle": "2022-05-23T16:40:07.128372Z",
     "shell.execute_reply": "2022-05-23T16:40:07.127729Z"
    },
    "id": "09bd5402",
    "outputId": "eff92512-b553-44f8-9a7b-86bd0f175471",
    "papermill": {
     "duration": 0.068801,
     "end_time": "2022-05-23T16:40:07.129998",
     "exception": false,
     "start_time": "2022-05-23T16:40:07.061197",
     "status": "completed"
    },
    "scrolled": true,
    "tags": []
   },
   "outputs": [
    {
     "data": {
      "text/plain": [
       "({'input_ids': tensor([[     0,   8174,      7,    621,   5792,   5045,    111,     10,    914,\n",
       "           40099,      2,      2,   8174,      7,   1221,  22304,   1286, 130815,\n",
       "            1295,   3395,    388,    214,   2363,   6897,  14880,   5180,   2685,\n",
       "               5,      2,      1,      1,      1,      1,      1,      1,      1,\n",
       "               1,      1,      1,      1,      1,      1,      1,      1,      1,\n",
       "               1,      1,      1,      1,      1,      1,      1,      1,      1,\n",
       "               1,      1,      1,      1,      1,      1,      1,      1,      1,\n",
       "               1,      1,      1,      1,      1,      1,      1,      1,      1,\n",
       "               1,      1,      1,      1,      1,      1,      1,      1,      1,\n",
       "               1,      1,      1,      1,      1,      1,      1,      1,      1,\n",
       "               1,      1,      1,      1,      1,      1,      1,      1,      1,\n",
       "               1,      1,      1,      1,      1,      1,      1,      1,      1,\n",
       "               1,      1,      1,      1,      1,      1,      1,      1,      1,\n",
       "               1,      1,      1,      1,      1,      1,      1,      1,      1,\n",
       "               1,      1,      1,      1,      1,      1,      1,      1,      1,\n",
       "               1,      1,      1,      1,      1,      1,      1,      1,      1,\n",
       "               1,      1,      1,      1,      1,      1,      1,      1,      1,\n",
       "               1,      1,      1,      1,      1,      1,      1,      1,      1,\n",
       "               1,      1,      1,      1,      1,      1,      1,      1,      1,\n",
       "               1,      1,      1,      1,      1,      1,      1,      1,      1,\n",
       "               1,      1,      1,      1,      1,      1,      1,      1,      1,\n",
       "               1,      1,      1,      1,      1,      1,      1,      1,      1,\n",
       "               1,      1,      1,      1,      1,      1,      1,      1,      1,\n",
       "               1,      1,      1,      1,      1,      1,      1,      1,      1,\n",
       "               1,      1,      1,      1,      1,      1,      1,      1,      1,\n",
       "               1,      1,      1,      1,      1,      1,      1,      1,      1,\n",
       "               1,      1,      1,      1,      1,      1,      1,      1,      1,\n",
       "               1,      1,      1,      1,      1,      1,      1,      1,      1,\n",
       "               1,      1,      1,      1]]), 'attention_mask': tensor([[1, 1, 1, 1, 1, 1, 1, 1, 1, 1, 1, 1, 1, 1, 1, 1, 1, 1, 1, 1, 1, 1, 1, 1,\n",
       "          1, 1, 1, 1, 1, 0, 0, 0, 0, 0, 0, 0, 0, 0, 0, 0, 0, 0, 0, 0, 0, 0, 0, 0,\n",
       "          0, 0, 0, 0, 0, 0, 0, 0, 0, 0, 0, 0, 0, 0, 0, 0, 0, 0, 0, 0, 0, 0, 0, 0,\n",
       "          0, 0, 0, 0, 0, 0, 0, 0, 0, 0, 0, 0, 0, 0, 0, 0, 0, 0, 0, 0, 0, 0, 0, 0,\n",
       "          0, 0, 0, 0, 0, 0, 0, 0, 0, 0, 0, 0, 0, 0, 0, 0, 0, 0, 0, 0, 0, 0, 0, 0,\n",
       "          0, 0, 0, 0, 0, 0, 0, 0, 0, 0, 0, 0, 0, 0, 0, 0, 0, 0, 0, 0, 0, 0, 0, 0,\n",
       "          0, 0, 0, 0, 0, 0, 0, 0, 0, 0, 0, 0, 0, 0, 0, 0, 0, 0, 0, 0, 0, 0, 0, 0,\n",
       "          0, 0, 0, 0, 0, 0, 0, 0, 0, 0, 0, 0, 0, 0, 0, 0, 0, 0, 0, 0, 0, 0, 0, 0,\n",
       "          0, 0, 0, 0, 0, 0, 0, 0, 0, 0, 0, 0, 0, 0, 0, 0, 0, 0, 0, 0, 0, 0, 0, 0,\n",
       "          0, 0, 0, 0, 0, 0, 0, 0, 0, 0, 0, 0, 0, 0, 0, 0, 0, 0, 0, 0, 0, 0, 0, 0,\n",
       "          0, 0, 0, 0, 0, 0, 0, 0, 0, 0, 0, 0, 0, 0, 0, 0]])},\n",
       " tensor([1, 0, 0, 0]))"
      ]
     },
     "execution_count": 10,
     "metadata": {},
     "output_type": "execute_result"
    }
   ],
   "source": [
    "train_ds[8]"
   ]
  },
  {
   "cell_type": "code",
   "execution_count": 11,
   "id": "79382383",
   "metadata": {
    "execution": {
     "iopub.execute_input": "2022-05-23T16:40:07.196400Z",
     "iopub.status.busy": "2022-05-23T16:40:07.195891Z",
     "iopub.status.idle": "2022-05-23T16:40:07.200121Z",
     "shell.execute_reply": "2022-05-23T16:40:07.199422Z"
    },
    "id": "f0170525",
    "papermill": {
     "duration": 0.039003,
     "end_time": "2022-05-23T16:40:07.201805",
     "exception": false,
     "start_time": "2022-05-23T16:40:07.162802",
     "status": "completed"
    },
    "tags": []
   },
   "outputs": [],
   "source": [
    "# Create the dataloaders. These create the bathes, shuffles the data and so on for each dataset\n",
    "train_dl = DataLoader(train_ds, BATCH_SIZE, shuffle=True)\n",
    "dev_dl = DataLoader(dev_ds, BATCH_SIZE) \n",
    "test_dl = DataLoader(test_ds, BATCH_SIZE) "
   ]
  },
  {
   "cell_type": "markdown",
   "id": "0290f0e0",
   "metadata": {
    "id": "3e55d17a",
    "papermill": {
     "duration": 0.032663,
     "end_time": "2022-05-23T16:40:07.267351",
     "exception": false,
     "start_time": "2022-05-23T16:40:07.234688",
     "status": "completed"
    },
    "tags": []
   },
   "source": [
    "### Model"
   ]
  },
  {
   "cell_type": "code",
   "execution_count": 12,
   "id": "061fa7d6",
   "metadata": {
    "execution": {
     "iopub.execute_input": "2022-05-23T16:40:07.335119Z",
     "iopub.status.busy": "2022-05-23T16:40:07.334764Z",
     "iopub.status.idle": "2022-05-23T16:40:07.340815Z",
     "shell.execute_reply": "2022-05-23T16:40:07.340152Z"
    },
    "id": "e619fc67",
    "papermill": {
     "duration": 0.042056,
     "end_time": "2022-05-23T16:40:07.342512",
     "exception": false,
     "start_time": "2022-05-23T16:40:07.300456",
     "status": "completed"
    },
    "tags": []
   },
   "outputs": [],
   "source": [
    "class AutoClassifier(nn.Module):\n",
    "\n",
    "    def __init__(self, dropout=0.2, n_classes=4):\n",
    "\n",
    "        super(AutoClassifier, self).__init__()\n",
    "        \n",
    "        # Create the bert model\n",
    "        self.model = AutoModel.from_pretrained(CHECKPOINT)\n",
    "        self.dropout = nn.Dropout(dropout)\n",
    "        \n",
    "        # Create the classification layer\n",
    "        self.linear = nn.Linear(768, n_classes)\n",
    "\n",
    "    def forward(self, input_id, mask):\n",
    "        input_id = input_id.squeeze(1)\n",
    "        _, pooled_output = self.model(input_ids=input_id, attention_mask=mask, return_dict=False)\n",
    "        dropout_output = self.dropout(pooled_output)\n",
    "        linear_output = self.linear(dropout_output)\n",
    "\n",
    "        return linear_output"
   ]
  },
  {
   "cell_type": "code",
   "execution_count": 13,
   "id": "bbd3fe30",
   "metadata": {
    "execution": {
     "iopub.execute_input": "2022-05-23T16:40:07.408387Z",
     "iopub.status.busy": "2022-05-23T16:40:07.408202Z",
     "iopub.status.idle": "2022-05-23T16:41:54.706240Z",
     "shell.execute_reply": "2022-05-23T16:41:54.705547Z"
    },
    "papermill": {
     "duration": 107.33285,
     "end_time": "2022-05-23T16:41:54.708077",
     "exception": false,
     "start_time": "2022-05-23T16:40:07.375227",
     "status": "completed"
    },
    "tags": []
   },
   "outputs": [
    {
     "data": {
      "application/vnd.jupyter.widget-view+json": {
       "model_id": "0418f8f6fae84511b54c07520905c85f",
       "version_major": 2,
       "version_minor": 0
      },
      "text/plain": [
       "Downloading:   0%|          | 0.00/1.04G [00:00<?, ?B/s]"
      ]
     },
     "metadata": {},
     "output_type": "display_data"
    },
    {
     "name": "stderr",
     "output_type": "stream",
     "text": [
      "Some weights of the model checkpoint at xlm-roberta-base were not used when initializing XLMRobertaModel: ['lm_head.layer_norm.weight', 'lm_head.dense.weight', 'lm_head.dense.bias', 'lm_head.bias', 'lm_head.layer_norm.bias', 'lm_head.decoder.weight']\n",
      "- This IS expected if you are initializing XLMRobertaModel from the checkpoint of a model trained on another task or with another architecture (e.g. initializing a BertForSequenceClassification model from a BertForPreTraining model).\n",
      "- This IS NOT expected if you are initializing XLMRobertaModel from the checkpoint of a model that you expect to be exactly identical (initializing a BertForSequenceClassification model from a BertForSequenceClassification model).\n"
     ]
    }
   ],
   "source": [
    "# Create the model\n",
    "model = AutoClassifier()\n",
    "# Create the loss\n",
    "loss = nn.BCEWithLogitsLoss()"
   ]
  },
  {
   "cell_type": "markdown",
   "id": "6e0bca3c",
   "metadata": {
    "id": "07a22526",
    "papermill": {
     "duration": 0.032929,
     "end_time": "2022-05-23T16:41:54.774418",
     "exception": false,
     "start_time": "2022-05-23T16:41:54.741489",
     "status": "completed"
    },
    "tags": []
   },
   "source": [
    "### Move to GPU"
   ]
  },
  {
   "cell_type": "code",
   "execution_count": 14,
   "id": "91d54bc8",
   "metadata": {
    "execution": {
     "iopub.execute_input": "2022-05-23T16:41:54.842229Z",
     "iopub.status.busy": "2022-05-23T16:41:54.841759Z",
     "iopub.status.idle": "2022-05-23T16:41:54.850232Z",
     "shell.execute_reply": "2022-05-23T16:41:54.849528Z"
    },
    "id": "cf9ae79f",
    "papermill": {
     "duration": 0.044171,
     "end_time": "2022-05-23T16:41:54.851915",
     "exception": false,
     "start_time": "2022-05-23T16:41:54.807744",
     "status": "completed"
    },
    "tags": []
   },
   "outputs": [],
   "source": [
    "def get_default_device():\n",
    "    \"\"\"Pick GPU if available, else CPU\"\"\"\n",
    "    if torch.cuda.is_available():\n",
    "        return torch.device('cuda')\n",
    "    else:\n",
    "        return torch.device('cpu')\n",
    "\n",
    "def to_device(data, device):\n",
    "    \"\"\"Move tensor(s) to chosen device\"\"\"\n",
    "    if isinstance(data, (list, tuple)):\n",
    "        return [to_device(x, device) for x in data]\n",
    "    return data.to(device, non_blocking=True)\n",
    "\n",
    "\n",
    "class DeviceDataLoader():\n",
    "    \"\"\"Wrap a dataloader to move data to a device\"\"\"\n",
    "    def __init__(self, dl, device):\n",
    "        self.dl = dl\n",
    "        self.device = device\n",
    "        \n",
    "    def __iter__(self):\n",
    "        \"\"\"Yield a batch of data after moving it to device\"\"\"\n",
    "        for b in self.dl: \n",
    "            yield to_device(b, self.device)\n",
    "\n",
    "    def __len__(self):\n",
    "        \"\"\"Number of batches\"\"\"\n",
    "        return len(self.dl)"
   ]
  },
  {
   "cell_type": "code",
   "execution_count": 15,
   "id": "487c7be6",
   "metadata": {
    "execution": {
     "iopub.execute_input": "2022-05-23T16:41:54.919276Z",
     "iopub.status.busy": "2022-05-23T16:41:54.918614Z",
     "iopub.status.idle": "2022-05-23T16:41:54.925549Z",
     "shell.execute_reply": "2022-05-23T16:41:54.924903Z"
    },
    "id": "358cfacf",
    "outputId": "29c87f3c-9425-4cff-e768-4f9412e77bf7",
    "papermill": {
     "duration": 0.04259,
     "end_time": "2022-05-23T16:41:54.927281",
     "exception": false,
     "start_time": "2022-05-23T16:41:54.884691",
     "status": "completed"
    },
    "tags": []
   },
   "outputs": [
    {
     "name": "stdout",
     "output_type": "stream",
     "text": [
      "cuda\n"
     ]
    }
   ],
   "source": [
    "# Obtain the device\n",
    "device = get_default_device()\n",
    "print(device)"
   ]
  },
  {
   "cell_type": "code",
   "execution_count": 16,
   "id": "fb1360da",
   "metadata": {
    "execution": {
     "iopub.execute_input": "2022-05-23T16:41:54.995139Z",
     "iopub.status.busy": "2022-05-23T16:41:54.994924Z",
     "iopub.status.idle": "2022-05-23T16:41:59.708997Z",
     "shell.execute_reply": "2022-05-23T16:41:59.708249Z"
    },
    "id": "95ebf1db",
    "outputId": "1eae8f3e-23cb-40b6-8503-4ba58008ff4d",
    "papermill": {
     "duration": 4.750336,
     "end_time": "2022-05-23T16:41:59.711060",
     "exception": false,
     "start_time": "2022-05-23T16:41:54.960724",
     "status": "completed"
    },
    "tags": []
   },
   "outputs": [],
   "source": [
    "# Move the model to GPU (if there is one)\n",
    "model = to_device(model, device)"
   ]
  },
  {
   "cell_type": "code",
   "execution_count": 17,
   "id": "c7b5c8ad",
   "metadata": {
    "execution": {
     "iopub.execute_input": "2022-05-23T16:41:59.781519Z",
     "iopub.status.busy": "2022-05-23T16:41:59.781293Z",
     "iopub.status.idle": "2022-05-23T16:41:59.786123Z",
     "shell.execute_reply": "2022-05-23T16:41:59.785471Z"
    },
    "id": "462d9abf",
    "papermill": {
     "duration": 0.041359,
     "end_time": "2022-05-23T16:41:59.787819",
     "exception": false,
     "start_time": "2022-05-23T16:41:59.746460",
     "status": "completed"
    },
    "tags": []
   },
   "outputs": [],
   "source": [
    "# Move the loss to GPU (if there is one)\n",
    "loss = to_device(loss, device)"
   ]
  },
  {
   "cell_type": "markdown",
   "id": "4f7e4784",
   "metadata": {
    "id": "7e1b6cc6",
    "papermill": {
     "duration": 0.032862,
     "end_time": "2022-05-23T16:41:59.854041",
     "exception": false,
     "start_time": "2022-05-23T16:41:59.821179",
     "status": "completed"
    },
    "tags": []
   },
   "source": [
    "### Train"
   ]
  },
  {
   "cell_type": "code",
   "execution_count": 18,
   "id": "22e9fd3c",
   "metadata": {
    "execution": {
     "iopub.execute_input": "2022-05-23T16:41:59.922233Z",
     "iopub.status.busy": "2022-05-23T16:41:59.921992Z",
     "iopub.status.idle": "2022-05-23T16:41:59.946259Z",
     "shell.execute_reply": "2022-05-23T16:41:59.945584Z"
    },
    "id": "991c6282",
    "papermill": {
     "duration": 0.060441,
     "end_time": "2022-05-23T16:41:59.947877",
     "exception": false,
     "start_time": "2022-05-23T16:41:59.887436",
     "status": "completed"
    },
    "tags": []
   },
   "outputs": [],
   "source": [
    "def train(model, train_dl, dev_dl, loss, optimizer, epochs):\n",
    "    \n",
    "    # Store the accuracies, losses and the best epoch in development\n",
    "    history = {\"accuracy_train\": [], \"precision_train\": [], \"recall_train\": [], \"f1_score_train\": [], \"loss_train\": [], \n",
    "               \"accuracy_dev\": [], \"precision_dev\": [], \"recall_dev\": [], \"f1_score_dev\": [], \"loss_dev\":[]}\n",
    "    best_epoch, best_acc = 0, 0\n",
    "    \n",
    "    # Create the scheduler\n",
    "    num_training_steps = epochs * len(train_dl)\n",
    "    lr_scheduler = get_scheduler(name=\"linear\", optimizer=optimizer, num_warmup_steps=0, num_training_steps=num_training_steps)\n",
    "    \n",
    "    train_size, dev_size = len(train_dl) * BATCH_SIZE, len(dev_dl) * BATCH_SIZE\n",
    "\n",
    "    # Training loop\n",
    "    for epoch in range(epochs):\n",
    "        \n",
    "        print(\"Starting epoch\", epoch+1)\n",
    "        \n",
    "        print(\"Training\")\n",
    "        model.train()\n",
    "        \n",
    "        total_acc_train, total_loss_train = 0, 0\n",
    "        y_gold, y_pred = np.array([]), np.array([])\n",
    "        \n",
    "        # Check each batch\n",
    "        for batch in tqdm(train_dl):\n",
    "            text, label = batch\n",
    "            \n",
    "            # move the inputs and the expected label to GPU (if there is one)\n",
    "            text_input_ids = text['input_ids'].to(device)\n",
    "            text_attention_mask = text['attention_mask'].to(device)\n",
    "            \n",
    "            labels = label.to(device, dtype=torch.float)\n",
    "            \n",
    "            # Apply the model\n",
    "            output = model(text_input_ids, text_attention_mask)\n",
    "            \n",
    "            # get the loss\n",
    "            batch_loss = loss(output, labels)\n",
    "            \n",
    "            outputs = torch.sigmoid(output.detach())\n",
    "            outputs = outputs >= 0.5\n",
    "            \n",
    "            total_loss_train += batch_loss.item()\n",
    "            \n",
    "            y_gold = np.concatenate((y_gold, label.numpy().flatten()))\n",
    "            y_pred = np.concatenate((y_pred, outputs.cpu().int().numpy().flatten()))\n",
    "            \n",
    "            \n",
    "            model.zero_grad()\n",
    "            \n",
    "            batch_loss.backward()\n",
    "            \n",
    "            optimizer.step()\n",
    "            \n",
    "            lr_scheduler.step()\n",
    "            \n",
    "\n",
    "        accuracy, precision, recall, f1 = accuracy_score(y_pred, y_gold), precision_score(y_pred, y_gold, average='weighted'), recall_score(y_pred, y_gold, average='weighted'), f1_score(y_pred, y_gold, average='weighted')\n",
    "\n",
    "        # Print information about the training\n",
    "        print(f\"Accuracy (Train): {accuracy}. Precision (Train): {precision}. Recall (Train):{recall}. F1-score (Train): {f1}. Loss (Train): {total_loss_train}\")\n",
    "        history['accuracy_train'].append(accuracy)\n",
    "        history['precision_train'].append(precision)\n",
    "        history['recall_train'].append(recall)\n",
    "        history['f1_score_train'].append(f1)\n",
    "        history['loss_train'].append(total_loss_train)\n",
    "        \n",
    "        # Calculate the accuracy and loss for development\n",
    "        accuracy_dev, precision_dev, recall_dev, f1_score_dev, total_loss_dev = evaluate(model, dev_dl)\n",
    "        \n",
    "        # If this new epoch is better store the information\n",
    "        if accuracy_dev > best_acc:\n",
    "            print(\"Best new epoch:\", epoch + 1)\n",
    "            best_acc = accuracy_dev\n",
    "            best_epoch = epoch + 1\n",
    "        \n",
    "        # Print information about the training\n",
    "        print(f\"Accuracy (Dev): {accuracy_dev}. Precision (Dev): {precision_dev}. Recall (Dev):{recall_dev}. F1-score (Dev): {f1_score_dev}. Loss (Dev): {total_loss_dev}\")\n",
    "        history['accuracy_dev'].append(accuracy_dev)\n",
    "        history['precision_dev'].append(precision_dev)\n",
    "        history['recall_dev'].append(recall_dev)\n",
    "        history['f1_score_dev'].append(f1_score_dev)\n",
    "        history['loss_dev'].append(total_loss_dev)\n",
    "        \n",
    "        # Store the epoch\n",
    "        if not os.path.exists(f\"{save_dir}/checkpoints/\"):\n",
    "            os.mkdir(f\"{save_dir}/checkpoints/\")\n",
    "            \n",
    "        torch.save(model.state_dict(), f\"{save_dir}/checkpoints/\" + str(epoch+1) + \".pth\")\n",
    "        print(\"Ending epoch\", epoch+1, \"\\n\")\n",
    "        \n",
    "    return history, best_epoch\n",
    "\n",
    "@torch.no_grad()\n",
    "def evaluate(model, val_dl):\n",
    "    # Function to evaluate the model\n",
    "    \n",
    "    print(\"Testing\")\n",
    "    \n",
    "    model.eval()\n",
    "    \n",
    "    total_acc_val, total_loss_val = 0, 0\n",
    "    y_gold, y_pred = np.array([]), np.array([])\n",
    "    # Check each batch\n",
    "    for batch in tqdm(val_dl):\n",
    "        text, label = batch\n",
    "        \n",
    "        # move the inputs and the expected label to GPU (if there is one)\n",
    "        text_input_ids = text['input_ids'].to(device)\n",
    "        text_attention_mask = text['attention_mask'].to(device)\n",
    "        labels = label.to(device, dtype=torch.float)\n",
    "        \n",
    "        # Apply the model\n",
    "        output = model(text_input_ids, text_attention_mask)\n",
    "        \n",
    "        # get the loss\n",
    "        batch_loss = loss(output, labels)\n",
    "        \n",
    "        outputs = torch.sigmoid(output.detach())\n",
    "        outputs = outputs >= 0.5\n",
    "        \n",
    "        total_loss_val += batch_loss.item()\n",
    "        \n",
    "        y_gold = np.concatenate((y_gold, label.numpy().flatten()))\n",
    "        y_pred = np.concatenate((y_pred, outputs.cpu().int().numpy().flatten()))\n",
    "    \n",
    "   \n",
    "    accuracy, precision, recall, f1 = accuracy_score(y_pred, y_gold), precision_score(y_pred, y_gold, average='weighted'), recall_score(y_pred, y_gold, average='weighted'), f1_score(y_pred, y_gold, average='weighted')\n",
    "\n",
    "    return accuracy, precision, recall, f1, total_loss_val"
   ]
  },
  {
   "cell_type": "code",
   "execution_count": 19,
   "id": "d78cda20",
   "metadata": {
    "execution": {
     "iopub.execute_input": "2022-05-23T16:42:00.015983Z",
     "iopub.status.busy": "2022-05-23T16:42:00.015376Z",
     "iopub.status.idle": "2022-05-23T16:44:58.601000Z",
     "shell.execute_reply": "2022-05-23T16:44:58.600236Z"
    },
    "id": "6a4270d4",
    "outputId": "9c41140b-c44b-4a00-ed35-f9f25c49bff3",
    "papermill": {
     "duration": 178.622435,
     "end_time": "2022-05-23T16:44:58.603381",
     "exception": false,
     "start_time": "2022-05-23T16:41:59.980946",
     "status": "completed"
    },
    "tags": []
   },
   "outputs": [
    {
     "name": "stdout",
     "output_type": "stream",
     "text": [
      "Starting epoch 1\n",
      "Training\n"
     ]
    },
    {
     "name": "stderr",
     "output_type": "stream",
     "text": [
      "100%|██████████| 125/125 [00:32<00:00,  3.85it/s]\n"
     ]
    },
    {
     "name": "stdout",
     "output_type": "stream",
     "text": [
      "Accuracy (Train): 0.6188688688688688. Precision (Train): 0.6268592991768627. Recall (Train):0.6188688688688688. F1-score (Train): 0.6217493383871071. Loss (Train): 82.01876050233841\n",
      "Testing\n"
     ]
    },
    {
     "name": "stderr",
     "output_type": "stream",
     "text": [
      "100%|██████████| 17/17 [00:01<00:00, 13.91it/s]\n"
     ]
    },
    {
     "name": "stdout",
     "output_type": "stream",
     "text": [
      "Best new epoch: 1\n",
      "Accuracy (Dev): 0.6314814814814815. Precision (Dev): 0.7106208781917591. Recall (Dev):0.6314814814814815. F1-score (Dev): 0.6546083934673813. Loss (Dev): 10.783296644687653\n",
      "Ending epoch 1 \n",
      "\n",
      "Starting epoch 2\n",
      "Training\n"
     ]
    },
    {
     "name": "stderr",
     "output_type": "stream",
     "text": [
      "100%|██████████| 125/125 [00:31<00:00,  3.94it/s]\n"
     ]
    },
    {
     "name": "stdout",
     "output_type": "stream",
     "text": [
      "Accuracy (Train): 0.6268768768768769. Precision (Train): 0.6307438193640403. Recall (Train):0.6268768768768768. F1-score (Train): 0.6283981349859546. Loss (Train): 81.40973353385925\n",
      "Testing\n"
     ]
    },
    {
     "name": "stderr",
     "output_type": "stream",
     "text": [
      "100%|██████████| 17/17 [00:01<00:00, 14.23it/s]\n"
     ]
    },
    {
     "name": "stdout",
     "output_type": "stream",
     "text": [
      "Accuracy (Dev): 0.6314814814814815. Precision (Dev): 0.7106208781917591. Recall (Dev):0.6314814814814815. F1-score (Dev): 0.6546083934673813. Loss (Dev): 10.791839301586151\n",
      "Ending epoch 2 \n",
      "\n",
      "Starting epoch 3\n",
      "Training\n"
     ]
    },
    {
     "name": "stderr",
     "output_type": "stream",
     "text": [
      "100%|██████████| 125/125 [00:31<00:00,  3.94it/s]\n"
     ]
    },
    {
     "name": "stdout",
     "output_type": "stream",
     "text": [
      "Accuracy (Train): 0.6238738738738738. Precision (Train): 0.6270740208146521. Recall (Train):0.6238738738738738. F1-score (Train): 0.6251674546431278. Loss (Train): 81.17745637893677\n",
      "Testing\n"
     ]
    },
    {
     "name": "stderr",
     "output_type": "stream",
     "text": [
      "100%|██████████| 17/17 [00:01<00:00, 14.17it/s]\n"
     ]
    },
    {
     "name": "stdout",
     "output_type": "stream",
     "text": [
      "Best new epoch: 3\n",
      "Accuracy (Dev): 0.6444444444444445. Precision (Dev): 0.6483850966687335. Recall (Dev):0.6444444444444445. F1-score (Dev): 0.6420680512593903. Loss (Dev): 10.756057858467102\n",
      "Ending epoch 3 \n",
      "\n",
      "Starting epoch 4\n",
      "Training\n"
     ]
    },
    {
     "name": "stderr",
     "output_type": "stream",
     "text": [
      "100%|██████████| 125/125 [00:31<00:00,  3.94it/s]\n"
     ]
    },
    {
     "name": "stdout",
     "output_type": "stream",
     "text": [
      "Accuracy (Train): 0.6241241241241241. Precision (Train): 0.6262205328721628. Recall (Train):0.6241241241241242. F1-score (Train): 0.6250134973413289. Loss (Train): 81.19888281822205\n",
      "Testing\n"
     ]
    },
    {
     "name": "stderr",
     "output_type": "stream",
     "text": [
      "100%|██████████| 17/17 [00:01<00:00, 14.22it/s]\n"
     ]
    },
    {
     "name": "stdout",
     "output_type": "stream",
     "text": [
      "Accuracy (Dev): 0.6444444444444445. Precision (Dev): 0.6483850966687335. Recall (Dev):0.6444444444444445. F1-score (Dev): 0.6420680512593903. Loss (Dev): 10.751505076885223\n",
      "Ending epoch 4 \n",
      "\n",
      "Starting epoch 5\n",
      "Training\n"
     ]
    },
    {
     "name": "stderr",
     "output_type": "stream",
     "text": [
      "100%|██████████| 125/125 [00:31<00:00,  3.94it/s]\n"
     ]
    },
    {
     "name": "stdout",
     "output_type": "stream",
     "text": [
      "Accuracy (Train): 0.6256256256256256. Precision (Train): 0.62446434508748. Recall (Train):0.6256256256256256. F1-score (Train): 0.6245868747180507. Loss (Train): 81.0800347328186\n",
      "Testing\n"
     ]
    },
    {
     "name": "stderr",
     "output_type": "stream",
     "text": [
      "100%|██████████| 17/17 [00:01<00:00, 14.21it/s]\n"
     ]
    },
    {
     "name": "stdout",
     "output_type": "stream",
     "text": [
      "Accuracy (Dev): 0.6444444444444445. Precision (Dev): 0.6483850966687335. Recall (Dev):0.6444444444444445. F1-score (Dev): 0.6420680512593903. Loss (Dev): 10.757009148597717\n",
      "Ending epoch 5 \n",
      "\n"
     ]
    }
   ],
   "source": [
    "history, best_epoch = train(model, train_dl, dev_dl, loss, AdamW(model.parameters(), lr=LEARNING_RATE, eps=1e-8), EPOCHS)"
   ]
  },
  {
   "cell_type": "markdown",
   "id": "819357d9",
   "metadata": {
    "id": "d77473cc",
    "papermill": {
     "duration": 0.246221,
     "end_time": "2022-05-23T16:44:59.097837",
     "exception": false,
     "start_time": "2022-05-23T16:44:58.851616",
     "status": "completed"
    },
    "tags": []
   },
   "source": [
    "### Plot Losses"
   ]
  },
  {
   "cell_type": "code",
   "execution_count": 20,
   "id": "b67f16e3",
   "metadata": {
    "execution": {
     "iopub.execute_input": "2022-05-23T16:44:59.594590Z",
     "iopub.status.busy": "2022-05-23T16:44:59.594320Z",
     "iopub.status.idle": "2022-05-23T16:44:59.824417Z",
     "shell.execute_reply": "2022-05-23T16:44:59.823705Z"
    },
    "id": "f21bd9d9",
    "papermill": {
     "duration": 0.481481,
     "end_time": "2022-05-23T16:44:59.826226",
     "exception": false,
     "start_time": "2022-05-23T16:44:59.344745",
     "status": "completed"
    },
    "tags": []
   },
   "outputs": [
    {
     "data": {
      "image/png": "[encoded data removed]",
      "text/plain": [
       "<Figure size 432x288 with 1 Axes>"
      ]
     },
     "metadata": {
      "needs_background": "light"
     },
     "output_type": "display_data"
    }
   ],
   "source": [
    "plt.plot(history['accuracy_train'], label=\"Accuracy train\")\n",
    "plt.plot(history['accuracy_dev'], label=\"Accuracy dev\")\n",
    "plt.plot(history['precision_train'], label=\"Precision train\")\n",
    "plt.plot(history['precision_dev'], label=\"Precision dev\")\n",
    "plt.plot(history['recall_train'], label=\"Recall train\")\n",
    "plt.plot(history['recall_dev'], label=\"Recall dev\")\n",
    "plt.plot(history['f1_score_train'], label=\"F1-score train\")\n",
    "plt.plot(history['f1_score_dev'], label=\"F1-score dev\")\n",
    "plt.title(\"Evolution of the metrics\")\n",
    "plt.xticks(np.arange(EPOCHS), np.arange(1, EPOCHS+1))\n",
    "plt.xlabel(\"Epoch\")\n",
    "plt.ylabel(\"Rate\")\n",
    "plt.legend()\n",
    "plt.show()"
   ]
  },
  {
   "cell_type": "code",
   "execution_count": 21,
   "id": "7d55fc84",
   "metadata": {
    "execution": {
     "iopub.execute_input": "2022-05-23T16:45:00.330119Z",
     "iopub.status.busy": "2022-05-23T16:45:00.329837Z",
     "iopub.status.idle": "2022-05-23T16:45:00.507373Z",
     "shell.execute_reply": "2022-05-23T16:45:00.506689Z"
    },
    "id": "4886ace5",
    "papermill": {
     "duration": 0.431349,
     "end_time": "2022-05-23T16:45:00.509228",
     "exception": false,
     "start_time": "2022-05-23T16:45:00.077879",
     "status": "completed"
    },
    "tags": []
   },
   "outputs": [
    {
     "data": {
      "image/png": "[encoded data removed]",
      "text/plain": [
       "<Figure size 432x288 with 1 Axes>"
      ]
     },
     "metadata": {
      "needs_background": "light"
     },
     "output_type": "display_data"
    }
   ],
   "source": [
    "plt.plot(history['loss_train'], label=\"Loss train\")\n",
    "plt.plot(history['loss_dev'], label=\"Loss dev\")\n",
    "plt.title(\"Evolution of the loss\")\n",
    "plt.xticks(np.arange(EPOCHS), np.arange(1, EPOCHS+1))\n",
    "plt.xlabel(\"Epoch\")\n",
    "plt.ylabel(\"loss\")\n",
    "plt.legend()\n",
    "plt.show()"
   ]
  },
  {
   "cell_type": "markdown",
   "id": "5d4177ca",
   "metadata": {
    "id": "bd590476",
    "papermill": {
     "duration": 0.761051,
     "end_time": "2022-05-23T16:45:01.520650",
     "exception": false,
     "start_time": "2022-05-23T16:45:00.759599",
     "status": "completed"
    },
    "tags": []
   },
   "source": [
    "### Check Testing Dataset"
   ]
  },
  {
   "cell_type": "markdown",
   "id": "e8b76fde",
   "metadata": {
    "id": "b215be26",
    "papermill": {
     "duration": 0.250202,
     "end_time": "2022-05-23T16:45:02.022578",
     "exception": false,
     "start_time": "2022-05-23T16:45:01.772376",
     "status": "completed"
    },
    "tags": []
   },
   "source": [
    "Use the epoch that gives the best results in the development dataset."
   ]
  },
  {
   "cell_type": "code",
   "execution_count": 22,
   "id": "9f86c386",
   "metadata": {
    "execution": {
     "iopub.execute_input": "2022-05-23T16:45:02.526250Z",
     "iopub.status.busy": "2022-05-23T16:45:02.525981Z",
     "iopub.status.idle": "2022-05-23T16:45:02.530717Z",
     "shell.execute_reply": "2022-05-23T16:45:02.529924Z"
    },
    "id": "reT57Qg9GPDU",
    "papermill": {
     "duration": 0.261325,
     "end_time": "2022-05-23T16:45:02.533114",
     "exception": false,
     "start_time": "2022-05-23T16:45:02.271789",
     "status": "completed"
    },
    "tags": []
   },
   "outputs": [
    {
     "name": "stdout",
     "output_type": "stream",
     "text": [
      "Best epoch: 3\n"
     ]
    }
   ],
   "source": [
    "print(\"Best epoch:\", best_epoch)"
   ]
  },
  {
   "cell_type": "code",
   "execution_count": 23,
   "id": "a3763168",
   "metadata": {
    "execution": {
     "iopub.execute_input": "2022-05-23T16:45:03.095913Z",
     "iopub.status.busy": "2022-05-23T16:45:03.095634Z",
     "iopub.status.idle": "2022-05-23T16:45:04.018663Z",
     "shell.execute_reply": "2022-05-23T16:45:04.017891Z"
    },
    "id": "d843d669",
    "papermill": {
     "duration": 1.197409,
     "end_time": "2022-05-23T16:45:04.021692",
     "exception": false,
     "start_time": "2022-05-23T16:45:02.824283",
     "status": "completed"
    },
    "tags": []
   },
   "outputs": [
    {
     "data": {
      "text/plain": [
       "<All keys matched successfully>"
      ]
     },
     "execution_count": 23,
     "metadata": {},
     "output_type": "execute_result"
    }
   ],
   "source": [
    "model.load_state_dict(torch.load(f\"{save_dir}/checkpoints/\" + str(best_epoch) + \".pth\"))               "
   ]
  },
  {
   "cell_type": "code",
   "execution_count": 24,
   "id": "5f3a8a8d",
   "metadata": {
    "execution": {
     "iopub.execute_input": "2022-05-23T16:45:04.766829Z",
     "iopub.status.busy": "2022-05-23T16:45:04.766585Z",
     "iopub.status.idle": "2022-05-23T16:45:06.015388Z",
     "shell.execute_reply": "2022-05-23T16:45:06.014081Z"
    },
    "id": "38539e31",
    "papermill": {
     "duration": 1.503235,
     "end_time": "2022-05-23T16:45:06.017305",
     "exception": false,
     "start_time": "2022-05-23T16:45:04.514070",
     "status": "completed"
    },
    "tags": []
   },
   "outputs": [
    {
     "name": "stdout",
     "output_type": "stream",
     "text": [
      "Testing\n"
     ]
    },
    {
     "name": "stderr",
     "output_type": "stream",
     "text": [
      "100%|██████████| 17/17 [00:01<00:00, 13.76it/s]\n"
     ]
    }
   ],
   "source": [
    "accuracy, precision, recall, f1, total_loss_val= evaluate(model, test_dl)"
   ]
  },
  {
   "cell_type": "code",
   "execution_count": 25,
   "id": "7f7cbfdd",
   "metadata": {
    "execution": {
     "iopub.execute_input": "2022-05-23T16:45:09.675709Z",
     "iopub.status.busy": "2022-05-23T16:45:09.674784Z",
     "iopub.status.idle": "2022-05-23T16:45:09.681866Z",
     "shell.execute_reply": "2022-05-23T16:45:09.680576Z"
    },
    "id": "XPNpByuqCDIx",
    "papermill": {
     "duration": 3.390334,
     "end_time": "2022-05-23T16:45:09.683677",
     "exception": false,
     "start_time": "2022-05-23T16:45:06.293343",
     "status": "completed"
    },
    "tags": []
   },
   "outputs": [
    {
     "name": "stdout",
     "output_type": "stream",
     "text": [
      "Accuracy (Test): 0.6055555555555555 Precision (Test): 0.6066217732884399. Recall (Test):0.6055555555555555. F1-score (Test): 0.6045669729880256\n"
     ]
    }
   ],
   "source": [
    "print(f\"Accuracy (Test): {accuracy} Precision (Test): {precision}. Recall (Test):{recall}. F1-score (Test): {f1}\")"
   ]
  },
  {
   "cell_type": "code",
   "execution_count": null,
   "id": "dbaaebd0",
   "metadata": {
    "papermill": {
     "duration": 0.254143,
     "end_time": "2022-05-23T16:45:10.195984",
     "exception": false,
     "start_time": "2022-05-23T16:45:09.941841",
     "status": "completed"
    },
    "tags": []
   },
   "outputs": [],
   "source": []
  }
 ],
 "metadata": {
  "kernelspec": {
   "display_name": "Python 3",
   "language": "python",
   "name": "python3"
  },
  "language_info": {
   "codemirror_mode": {
    "name": "ipython",
    "version": 3
   },
   "file_extension": ".py",
   "mimetype": "text/x-python",
   "name": "python",
   "nbconvert_exporter": "python",
   "pygments_lexer": "ipython3",
   "version": "3.7.12"
  },
  "papermill": {
   "default_parameters": {},
   "duration": 359.644534,
   "end_time": "2022-05-23T16:45:13.672563",
   "environment_variables": {},
   "exception": null,
   "input_path": "__notebook__.ipynb",
   "output_path": "__notebook__.ipynb",
   "parameters": {},
   "start_time": "2022-05-23T16:39:14.028029",
   "version": "2.3.4"
  },
  "widgets": {
   "application/vnd.jupyter.widget-state+json": {
    "state": {
     "0418f8f6fae84511b54c07520905c85f": {
      "model_module": "@jupyter-widgets/controls",
      "model_module_version": "1.5.0",
      "model_name": "HBoxModel",
      "state": {
       "_dom_classes": [],
       "_model_module": "@jupyter-widgets/controls",
       "_model_module_version": "1.5.0",
       "_model_name": "HBoxModel",
       "_view_count": null,
       "_view_module": "@jupyter-widgets/controls",
       "_view_module_version": "1.5.0",
       "_view_name": "HBoxView",
       "box_style": "",
       "children": [
        "IPY_MODEL_d779f05c18924417a4d165c762646132",
        "IPY_MODEL_f4fa850519e14ae181c3dd550c2cdac5",
        "IPY_MODEL_3f06d7be6abc4296967de19f1a58e1f2"
       ],
       "layout": "IPY_MODEL_a368e3119f6e4a8b9c046b08e4cf2842"
      }
     },
     "08a516104aab404e88a5c8766e503722": {
      "model_module": "@jupyter-widgets/base",
      "model_module_version": "1.2.0",
      "model_name": "LayoutModel",
      "state": {
       "_model_module": "@jupyter-widgets/base",
       "_model_module_version": "1.2.0",
       "_model_name": "LayoutModel",
       "_view_count": null,
       "_view_module": "@jupyter-widgets/base",
       "_view_module_version": "1.2.0",
       "_view_name": "LayoutView",
       "align_content": null,
       "align_items": null,
       "align_self": null,
       "border": null,
       "bottom": null,
       "display": null,
       "flex": null,
       "flex_flow": null,
       "grid_area": null,
       "grid_auto_columns": null,
       "grid_auto_flow": null,
       "grid_auto_rows": null,
       "grid_column": null,
       "grid_gap": null,
       "grid_row": null,
       "grid_template_areas": null,
       "grid_template_columns": null,
       "grid_template_rows": null,
       "height": null,
       "justify_content": null,
       "justify_items": null,
       "left": null,
       "margin": null,
       "max_height": null,
       "max_width": null,
       "min_height": null,
       "min_width": null,
       "object_fit": null,
       "object_position": null,
       "order": null,
       "overflow": null,
       "overflow_x": null,
       "overflow_y": null,
       "padding": null,
       "right": null,
       "top": null,
       "visibility": null,
       "width": null
      }
     },
     "16a77a7e76794c38b60b432af28d608c": {
      "model_module": "@jupyter-widgets/controls",
      "model_module_version": "1.5.0",
      "model_name": "DescriptionStyleModel",
      "state": {
       "_model_module": "@jupyter-widgets/controls",
       "_model_module_version": "1.5.0",
       "_model_name": "DescriptionStyleModel",
       "_view_count": null,
       "_view_module": "@jupyter-widgets/base",
       "_view_module_version": "1.2.0",
       "_view_name": "StyleView",
       "description_width": ""
      }
     },
     "17688d0e2192434eae0aaee6b66ee8b4": {
      "model_module": "@jupyter-widgets/controls",
      "model_module_version": "1.5.0",
      "model_name": "DescriptionStyleModel",
      "state": {
       "_model_module": "@jupyter-widgets/controls",
       "_model_module_version": "1.5.0",
       "_model_name": "DescriptionStyleModel",
       "_view_count": null,
       "_view_module": "@jupyter-widgets/base",
       "_view_module_version": "1.2.0",
       "_view_name": "StyleView",
       "description_width": ""
      }
     },
     "18c2c955fd024f88a41f945ae50e535f": {
      "model_module": "@jupyter-widgets/controls",
      "model_module_version": "1.5.0",
      "model_name": "ProgressStyleModel",
      "state": {
       "_model_module": "@jupyter-widgets/controls",
       "_model_module_version": "1.5.0",
       "_model_name": "ProgressStyleModel",
       "_view_count": null,
       "_view_module": "@jupyter-widgets/base",
       "_view_module_version": "1.2.0",
       "_view_name": "StyleView",
       "bar_color": null,
       "description_width": ""
      }
     },
     "1ffbd58b766f44b2b42498739d359b31": {
      "model_module": "@jupyter-widgets/controls",
      "model_module_version": "1.5.0",
      "model_name": "HBoxModel",
      "state": {
       "_dom_classes": [],
       "_model_module": "@jupyter-widgets/controls",
       "_model_module_version": "1.5.0",
       "_model_name": "HBoxModel",
       "_view_count": null,
       "_view_module": "@jupyter-widgets/controls",
       "_view_module_version": "1.5.0",
       "_view_name": "HBoxView",
       "box_style": "",
       "children": [
        "IPY_MODEL_3126bd2358f3405b9c27a93c80d5c976",
        "IPY_MODEL_eac25bc7b3744d1d8ddc0cfae125aeb9",
        "IPY_MODEL_5e947d76c0b345a6952989e8c5838875"
       ],
       "layout": "IPY_MODEL_3d737fdcf6634539b4794d6ade55c782"
      }
     },
     "2133e43191c945db9303b48a2d64e474": {
      "model_module": "@jupyter-widgets/base",
      "model_module_version": "1.2.0",
      "model_name": "LayoutModel",
      "state": {
       "_model_module": "@jupyter-widgets/base",
       "_model_module_version": "1.2.0",
       "_model_name": "LayoutModel",
       "_view_count": null,
       "_view_module": "@jupyter-widgets/base",
       "_view_module_version": "1.2.0",
       "_view_name": "LayoutView",
       "align_content": null,
       "align_items": null,
       "align_self": null,
       "border": null,
       "bottom": null,
       "display": null,
       "flex": null,
       "flex_flow": null,
       "grid_area": null,
       "grid_auto_columns": null,
       "grid_auto_flow": null,
       "grid_auto_rows": null,
       "grid_column": null,
       "grid_gap": null,
       "grid_row": null,
       "grid_template_areas": null,
       "grid_template_columns": null,
       "grid_template_rows": null,
       "height": null,
       "justify_content": null,
       "justify_items": null,
       "left": null,
       "margin": null,
       "max_height": null,
       "max_width": null,
       "min_height": null,
       "min_width": null,
       "object_fit": null,
       "object_position": null,
       "order": null,
       "overflow": null,
       "overflow_x": null,
       "overflow_y": null,
       "padding": null,
       "right": null,
       "top": null,
       "visibility": null,
       "width": null
      }
     },
     "23bb264b29834ad3a778d09201178f5a": {
      "model_module": "@jupyter-widgets/controls",
      "model_module_version": "1.5.0",
      "model_name": "HBoxModel",
      "state": {
       "_dom_classes": [],
       "_model_module": "@jupyter-widgets/controls",
       "_model_module_version": "1.5.0",
       "_model_name": "HBoxModel",
       "_view_count": null,
       "_view_module": "@jupyter-widgets/controls",
       "_view_module_version": "1.5.0",
       "_view_name": "HBoxView",
       "box_style": "",
       "children": [
        "IPY_MODEL_6d342515131c4f7e9462e18cc097c6cf",
        "IPY_MODEL_872c032db5164c7fa7a33a7c8cf739db",
        "IPY_MODEL_8cb56d0cd7924c1db9dc178789a95503"
       ],
       "layout": "IPY_MODEL_3b874d978a604af199d2063e9427e05c"
      }
     },
     "2b0df09cd12447df9c353733547aa0f0": {
      "model_module": "@jupyter-widgets/controls",
      "model_module_version": "1.5.0",
      "model_name": "HTMLModel",
      "state": {
       "_dom_classes": [],
       "_model_module": "@jupyter-widgets/controls",
       "_model_module_version": "1.5.0",
       "_model_name": "HTMLModel",
       "_view_count": null,
       "_view_module": "@jupyter-widgets/controls",
       "_view_module_version": "1.5.0",
       "_view_name": "HTMLView",
       "description": "",
       "description_tooltip": null,
       "layout": "IPY_MODEL_af30722e186a4789be09a04b4b5757c0",
       "placeholder": "​",
       "style": "IPY_MODEL_7291498f634e4e84a6f5635ef5f191bb",
       "value": "Downloading: 100%"
      }
     },
     "2e0d04afb3954b78b9679dc6cb2fc264": {
      "model_module": "@jupyter-widgets/controls",
      "model_module_version": "1.5.0",
      "model_name": "DescriptionStyleModel",
      "state": {
       "_model_module": "@jupyter-widgets/controls",
       "_model_module_version": "1.5.0",
       "_model_name": "DescriptionStyleModel",
       "_view_count": null,
       "_view_module": "@jupyter-widgets/base",
       "_view_module_version": "1.2.0",
       "_view_name": "StyleView",
       "description_width": ""
      }
     },
     "3126bd2358f3405b9c27a93c80d5c976": {
      "model_module": "@jupyter-widgets/controls",
      "model_module_version": "1.5.0",
      "model_name": "HTMLModel",
      "state": {
       "_dom_classes": [],
       "_model_module": "@jupyter-widgets/controls",
       "_model_module_version": "1.5.0",
       "_model_name": "HTMLModel",
       "_view_count": null,
       "_view_module": "@jupyter-widgets/controls",
       "_view_module_version": "1.5.0",
       "_view_name": "HTMLView",
       "description": "",
       "description_tooltip": null,
       "layout": "IPY_MODEL_bbed5f686c6f4c309e5cf14d320d8d11",
       "placeholder": "​",
       "style": "IPY_MODEL_7fb011dc9e65485789fed5420470f6c0",
       "value": "Downloading: 100%"
      }
     },
     "3b874d978a604af199d2063e9427e05c": {
      "model_module": "@jupyter-widgets/base",
      "model_module_version": "1.2.0",
      "model_name": "LayoutModel",
      "state": {
       "_model_module": "@jupyter-widgets/base",
       "_model_module_version": "1.2.0",
       "_model_name": "LayoutModel",
       "_view_count": null,
       "_view_module": "@jupyter-widgets/base",
       "_view_module_version": "1.2.0",
       "_view_name": "LayoutView",
       "align_content": null,
       "align_items": null,
       "align_self": null,
       "border": null,
       "bottom": null,
       "display": null,
       "flex": null,
       "flex_flow": null,
       "grid_area": null,
       "grid_auto_columns": null,
       "grid_auto_flow": null,
       "grid_auto_rows": null,
       "grid_column": null,
       "grid_gap": null,
       "grid_row": null,
       "grid_template_areas": null,
       "grid_template_columns": null,
       "grid_template_rows": null,
       "height": null,
       "justify_content": null,
       "justify_items": null,
       "left": null,
       "margin": null,
       "max_height": null,
       "max_width": null,
       "min_height": null,
       "min_width": null,
       "object_fit": null,
       "object_position": null,
       "order": null,
       "overflow": null,
       "overflow_x": null,
       "overflow_y": null,
       "padding": null,
       "right": null,
       "top": null,
       "visibility": null,
       "width": null
      }
     },
     "3d737fdcf6634539b4794d6ade55c782": {
      "model_module": "@jupyter-widgets/base",
      "model_module_version": "1.2.0",
      "model_name": "LayoutModel",
      "state": {
       "_model_module": "@jupyter-widgets/base",
       "_model_module_version": "1.2.0",
       "_model_name": "LayoutModel",
       "_view_count": null,
       "_view_module": "@jupyter-widgets/base",
       "_view_module_version": "1.2.0",
       "_view_name": "LayoutView",
       "align_content": null,
       "align_items": null,
       "align_self": null,
       "border": null,
       "bottom": null,
       "display": null,
       "flex": null,
       "flex_flow": null,
       "grid_area": null,
       "grid_auto_columns": null,
       "grid_auto_flow": null,
       "grid_auto_rows": null,
       "grid_column": null,
       "grid_gap": null,
       "grid_row": null,
       "grid_template_areas": null,
       "grid_template_columns": null,
       "grid_template_rows": null,
       "height": null,
       "justify_content": null,
       "justify_items": null,
       "left": null,
       "margin": null,
       "max_height": null,
       "max_width": null,
       "min_height": null,
       "min_width": null,
       "object_fit": null,
       "object_position": null,
       "order": null,
       "overflow": null,
       "overflow_x": null,
       "overflow_y": null,
       "padding": null,
       "right": null,
       "top": null,
       "visibility": null,
       "width": null
      }
     },
     "3f06d7be6abc4296967de19f1a58e1f2": {
      "model_module": "@jupyter-widgets/controls",
      "model_module_version": "1.5.0",
      "model_name": "HTMLModel",
      "state": {
       "_dom_classes": [],
       "_model_module": "@jupyter-widgets/controls",
       "_model_module_version": "1.5.0",
       "_model_name": "HTMLModel",
       "_view_count": null,
       "_view_module": "@jupyter-widgets/controls",
       "_view_module_version": "1.5.0",
       "_view_name": "HTMLView",
       "description": "",
       "description_tooltip": null,
       "layout": "IPY_MODEL_b2e2a91eb9e4413bac5d72dbdd4f5dd2",
       "placeholder": "​",
       "style": "IPY_MODEL_2e0d04afb3954b78b9679dc6cb2fc264",
       "value": " 1.04G/1.04G [01:40&lt;00:00, 11.6MB/s]"
      }
     },
     "449551ee07754c2781733da8a8b24228": {
      "model_module": "@jupyter-widgets/controls",
      "model_module_version": "1.5.0",
      "model_name": "DescriptionStyleModel",
      "state": {
       "_model_module": "@jupyter-widgets/controls",
       "_model_module_version": "1.5.0",
       "_model_name": "DescriptionStyleModel",
       "_view_count": null,
       "_view_module": "@jupyter-widgets/base",
       "_view_module_version": "1.2.0",
       "_view_name": "StyleView",
       "description_width": ""
      }
     },
     "538f5679a7a94fdf8e246c4e0382b7cd": {
      "model_module": "@jupyter-widgets/base",
      "model_module_version": "1.2.0",
      "model_name": "LayoutModel",
      "state": {
       "_model_module": "@jupyter-widgets/base",
       "_model_module_version": "1.2.0",
       "_model_name": "LayoutModel",
       "_view_count": null,
       "_view_module": "@jupyter-widgets/base",
       "_view_module_version": "1.2.0",
       "_view_name": "LayoutView",
       "align_content": null,
       "align_items": null,
       "align_self": null,
       "border": null,
       "bottom": null,
       "display": null,
       "flex": null,
       "flex_flow": null,
       "grid_area": null,
       "grid_auto_columns": null,
       "grid_auto_flow": null,
       "grid_auto_rows": null,
       "grid_column": null,
       "grid_gap": null,
       "grid_row": null,
       "grid_template_areas": null,
       "grid_template_columns": null,
       "grid_template_rows": null,
       "height": null,
       "justify_content": null,
       "justify_items": null,
       "left": null,
       "margin": null,
       "max_height": null,
       "max_width": null,
       "min_height": null,
       "min_width": null,
       "object_fit": null,
       "object_position": null,
       "order": null,
       "overflow": null,
       "overflow_x": null,
       "overflow_y": null,
       "padding": null,
       "right": null,
       "top": null,
       "visibility": null,
       "width": null
      }
     },
     "54a7d9b85dc54d58aded41358804326a": {
      "model_module": "@jupyter-widgets/controls",
      "model_module_version": "1.5.0",
      "model_name": "ProgressStyleModel",
      "state": {
       "_model_module": "@jupyter-widgets/controls",
       "_model_module_version": "1.5.0",
       "_model_name": "ProgressStyleModel",
       "_view_count": null,
       "_view_module": "@jupyter-widgets/base",
       "_view_module_version": "1.2.0",
       "_view_name": "StyleView",
       "bar_color": null,
       "description_width": ""
      }
     },
     "5e947d76c0b345a6952989e8c5838875": {
      "model_module": "@jupyter-widgets/controls",
      "model_module_version": "1.5.0",
      "model_name": "HTMLModel",
      "state": {
       "_dom_classes": [],
       "_model_module": "@jupyter-widgets/controls",
       "_model_module_version": "1.5.0",
       "_model_name": "HTMLModel",
       "_view_count": null,
       "_view_module": "@jupyter-widgets/controls",
       "_view_module_version": "1.5.0",
       "_view_name": "HTMLView",
       "description": "",
       "description_tooltip": null,
       "layout": "IPY_MODEL_9beef504d1794647b88c9e555fca18f2",
       "placeholder": "​",
       "style": "IPY_MODEL_c3bfcba07ebe4450bd980c7a9958a842",
       "value": " 615/615 [00:00&lt;00:00, 22.9kB/s]"
      }
     },
     "614b0dde49a747abbf416015320b2804": {
      "model_module": "@jupyter-widgets/base",
      "model_module_version": "1.2.0",
      "model_name": "LayoutModel",
      "state": {
       "_model_module": "@jupyter-widgets/base",
       "_model_module_version": "1.2.0",
       "_model_name": "LayoutModel",
       "_view_count": null,
       "_view_module": "@jupyter-widgets/base",
       "_view_module_version": "1.2.0",
       "_view_name": "LayoutView",
       "align_content": null,
       "align_items": null,
       "align_self": null,
       "border": null,
       "bottom": null,
       "display": null,
       "flex": null,
       "flex_flow": null,
       "grid_area": null,
       "grid_auto_columns": null,
       "grid_auto_flow": null,
       "grid_auto_rows": null,
       "grid_column": null,
       "grid_gap": null,
       "grid_row": null,
       "grid_template_areas": null,
       "grid_template_columns": null,
       "grid_template_rows": null,
       "height": null,
       "justify_content": null,
       "justify_items": null,
       "left": null,
       "margin": null,
       "max_height": null,
       "max_width": null,
       "min_height": null,
       "min_width": null,
       "object_fit": null,
       "object_position": null,
       "order": null,
       "overflow": null,
       "overflow_x": null,
       "overflow_y": null,
       "padding": null,
       "right": null,
       "top": null,
       "visibility": null,
       "width": null
      }
     },
     "6d342515131c4f7e9462e18cc097c6cf": {
      "model_module": "@jupyter-widgets/controls",
      "model_module_version": "1.5.0",
      "model_name": "HTMLModel",
      "state": {
       "_dom_classes": [],
       "_model_module": "@jupyter-widgets/controls",
       "_model_module_version": "1.5.0",
       "_model_name": "HTMLModel",
       "_view_count": null,
       "_view_module": "@jupyter-widgets/controls",
       "_view_module_version": "1.5.0",
       "_view_name": "HTMLView",
       "description": "",
       "description_tooltip": null,
       "layout": "IPY_MODEL_d608912b18284da19f23b6aaa2648aef",
       "placeholder": "​",
       "style": "IPY_MODEL_16a77a7e76794c38b60b432af28d608c",
       "value": "Downloading: 100%"
      }
     },
     "7291498f634e4e84a6f5635ef5f191bb": {
      "model_module": "@jupyter-widgets/controls",
      "model_module_version": "1.5.0",
      "model_name": "DescriptionStyleModel",
      "state": {
       "_model_module": "@jupyter-widgets/controls",
       "_model_module_version": "1.5.0",
       "_model_name": "DescriptionStyleModel",
       "_view_count": null,
       "_view_module": "@jupyter-widgets/base",
       "_view_module_version": "1.2.0",
       "_view_name": "StyleView",
       "description_width": ""
      }
     },
     "7f0567eba3314cc8ac78a6fac1d5f633": {
      "model_module": "@jupyter-widgets/base",
      "model_module_version": "1.2.0",
      "model_name": "LayoutModel",
      "state": {
       "_model_module": "@jupyter-widgets/base",
       "_model_module_version": "1.2.0",
       "_model_name": "LayoutModel",
       "_view_count": null,
       "_view_module": "@jupyter-widgets/base",
       "_view_module_version": "1.2.0",
       "_view_name": "LayoutView",
       "align_content": null,
       "align_items": null,
       "align_self": null,
       "border": null,
       "bottom": null,
       "display": null,
       "flex": null,
       "flex_flow": null,
       "grid_area": null,
       "grid_auto_columns": null,
       "grid_auto_flow": null,
       "grid_auto_rows": null,
       "grid_column": null,
       "grid_gap": null,
       "grid_row": null,
       "grid_template_areas": null,
       "grid_template_columns": null,
       "grid_template_rows": null,
       "height": null,
       "justify_content": null,
       "justify_items": null,
       "left": null,
       "margin": null,
       "max_height": null,
       "max_width": null,
       "min_height": null,
       "min_width": null,
       "object_fit": null,
       "object_position": null,
       "order": null,
       "overflow": null,
       "overflow_x": null,
       "overflow_y": null,
       "padding": null,
       "right": null,
       "top": null,
       "visibility": null,
       "width": null
      }
     },
     "7fb011dc9e65485789fed5420470f6c0": {
      "model_module": "@jupyter-widgets/controls",
      "model_module_version": "1.5.0",
      "model_name": "DescriptionStyleModel",
      "state": {
       "_model_module": "@jupyter-widgets/controls",
       "_model_module_version": "1.5.0",
       "_model_name": "DescriptionStyleModel",
       "_view_count": null,
       "_view_module": "@jupyter-widgets/base",
       "_view_module_version": "1.2.0",
       "_view_name": "StyleView",
       "description_width": ""
      }
     },
     "872c032db5164c7fa7a33a7c8cf739db": {
      "model_module": "@jupyter-widgets/controls",
      "model_module_version": "1.5.0",
      "model_name": "FloatProgressModel",
      "state": {
       "_dom_classes": [],
       "_model_module": "@jupyter-widgets/controls",
       "_model_module_version": "1.5.0",
       "_model_name": "FloatProgressModel",
       "_view_count": null,
       "_view_module": "@jupyter-widgets/controls",
       "_view_module_version": "1.5.0",
       "_view_name": "ProgressView",
       "bar_style": "success",
       "description": "",
       "description_tooltip": null,
       "layout": "IPY_MODEL_08a516104aab404e88a5c8766e503722",
       "max": 9096718.0,
       "min": 0.0,
       "orientation": "horizontal",
       "style": "IPY_MODEL_54a7d9b85dc54d58aded41358804326a",
       "value": 9096718.0
      }
     },
     "893df90e19dd474a95cb7a2f0945e357": {
      "model_module": "@jupyter-widgets/base",
      "model_module_version": "1.2.0",
      "model_name": "LayoutModel",
      "state": {
       "_model_module": "@jupyter-widgets/base",
       "_model_module_version": "1.2.0",
       "_model_name": "LayoutModel",
       "_view_count": null,
       "_view_module": "@jupyter-widgets/base",
       "_view_module_version": "1.2.0",
       "_view_name": "LayoutView",
       "align_content": null,
       "align_items": null,
       "align_self": null,
       "border": null,
       "bottom": null,
       "display": null,
       "flex": null,
       "flex_flow": null,
       "grid_area": null,
       "grid_auto_columns": null,
       "grid_auto_flow": null,
       "grid_auto_rows": null,
       "grid_column": null,
       "grid_gap": null,
       "grid_row": null,
       "grid_template_areas": null,
       "grid_template_columns": null,
       "grid_template_rows": null,
       "height": null,
       "justify_content": null,
       "justify_items": null,
       "left": null,
       "margin": null,
       "max_height": null,
       "max_width": null,
       "min_height": null,
       "min_width": null,
       "object_fit": null,
       "object_position": null,
       "order": null,
       "overflow": null,
       "overflow_x": null,
       "overflow_y": null,
       "padding": null,
       "right": null,
       "top": null,
       "visibility": null,
       "width": null
      }
     },
     "8cb56d0cd7924c1db9dc178789a95503": {
      "model_module": "@jupyter-widgets/controls",
      "model_module_version": "1.5.0",
      "model_name": "HTMLModel",
      "state": {
       "_dom_classes": [],
       "_model_module": "@jupyter-widgets/controls",
       "_model_module_version": "1.5.0",
       "_model_name": "HTMLModel",
       "_view_count": null,
       "_view_module": "@jupyter-widgets/controls",
       "_view_module_version": "1.5.0",
       "_view_name": "HTMLView",
       "description": "",
       "description_tooltip": null,
       "layout": "IPY_MODEL_538f5679a7a94fdf8e246c4e0382b7cd",
       "placeholder": "​",
       "style": "IPY_MODEL_449551ee07754c2781733da8a8b24228",
       "value": " 8.68M/8.68M [00:01&lt;00:00, 8.21MB/s]"
      }
     },
     "8e8c9c42848140d889c0548ee431eb4b": {
      "model_module": "@jupyter-widgets/base",
      "model_module_version": "1.2.0",
      "model_name": "LayoutModel",
      "state": {
       "_model_module": "@jupyter-widgets/base",
       "_model_module_version": "1.2.0",
       "_model_name": "LayoutModel",
       "_view_count": null,
       "_view_module": "@jupyter-widgets/base",
       "_view_module_version": "1.2.0",
       "_view_name": "LayoutView",
       "align_content": null,
       "align_items": null,
       "align_self": null,
       "border": null,
       "bottom": null,
       "display": null,
       "flex": null,
       "flex_flow": null,
       "grid_area": null,
       "grid_auto_columns": null,
       "grid_auto_flow": null,
       "grid_auto_rows": null,
       "grid_column": null,
       "grid_gap": null,
       "grid_row": null,
       "grid_template_areas": null,
       "grid_template_columns": null,
       "grid_template_rows": null,
       "height": null,
       "justify_content": null,
       "justify_items": null,
       "left": null,
       "margin": null,
       "max_height": null,
       "max_width": null,
       "min_height": null,
       "min_width": null,
       "object_fit": null,
       "object_position": null,
       "order": null,
       "overflow": null,
       "overflow_x": null,
       "overflow_y": null,
       "padding": null,
       "right": null,
       "top": null,
       "visibility": null,
       "width": null
      }
     },
     "9beef504d1794647b88c9e555fca18f2": {
      "model_module": "@jupyter-widgets/base",
      "model_module_version": "1.2.0",
      "model_name": "LayoutModel",
      "state": {
       "_model_module": "@jupyter-widgets/base",
       "_model_module_version": "1.2.0",
       "_model_name": "LayoutModel",
       "_view_count": null,
       "_view_module": "@jupyter-widgets/base",
       "_view_module_version": "1.2.0",
       "_view_name": "LayoutView",
       "align_content": null,
       "align_items": null,
       "align_self": null,
       "border": null,
       "bottom": null,
       "display": null,
       "flex": null,
       "flex_flow": null,
       "grid_area": null,
       "grid_auto_columns": null,
       "grid_auto_flow": null,
       "grid_auto_rows": null,
       "grid_column": null,
       "grid_gap": null,
       "grid_row": null,
       "grid_template_areas": null,
       "grid_template_columns": null,
       "grid_template_rows": null,
       "height": null,
       "justify_content": null,
       "justify_items": null,
       "left": null,
       "margin": null,
       "max_height": null,
       "max_width": null,
       "min_height": null,
       "min_width": null,
       "object_fit": null,
       "object_position": null,
       "order": null,
       "overflow": null,
       "overflow_x": null,
       "overflow_y": null,
       "padding": null,
       "right": null,
       "top": null,
       "visibility": null,
       "width": null
      }
     },
     "9f069423e26c455e930ec624b364340c": {
      "model_module": "@jupyter-widgets/controls",
      "model_module_version": "1.5.0",
      "model_name": "ProgressStyleModel",
      "state": {
       "_model_module": "@jupyter-widgets/controls",
       "_model_module_version": "1.5.0",
       "_model_name": "ProgressStyleModel",
       "_view_count": null,
       "_view_module": "@jupyter-widgets/base",
       "_view_module_version": "1.2.0",
       "_view_name": "StyleView",
       "bar_color": null,
       "description_width": ""
      }
     },
     "a368e3119f6e4a8b9c046b08e4cf2842": {
      "model_module": "@jupyter-widgets/base",
      "model_module_version": "1.2.0",
      "model_name": "LayoutModel",
      "state": {
       "_model_module": "@jupyter-widgets/base",
       "_model_module_version": "1.2.0",
       "_model_name": "LayoutModel",
       "_view_count": null,
       "_view_module": "@jupyter-widgets/base",
       "_view_module_version": "1.2.0",
       "_view_name": "LayoutView",
       "align_content": null,
       "align_items": null,
       "align_self": null,
       "border": null,
       "bottom": null,
       "display": null,
       "flex": null,
       "flex_flow": null,
       "grid_area": null,
       "grid_auto_columns": null,
       "grid_auto_flow": null,
       "grid_auto_rows": null,
       "grid_column": null,
       "grid_gap": null,
       "grid_row": null,
       "grid_template_areas": null,
       "grid_template_columns": null,
       "grid_template_rows": null,
       "height": null,
       "justify_content": null,
       "justify_items": null,
       "left": null,
       "margin": null,
       "max_height": null,
       "max_width": null,
       "min_height": null,
       "min_width": null,
       "object_fit": null,
       "object_position": null,
       "order": null,
       "overflow": null,
       "overflow_x": null,
       "overflow_y": null,
       "padding": null,
       "right": null,
       "top": null,
       "visibility": null,
       "width": null
      }
     },
     "a3e7214709014c5c89fbaadab2f89dcd": {
      "model_module": "@jupyter-widgets/base",
      "model_module_version": "1.2.0",
      "model_name": "LayoutModel",
      "state": {
       "_model_module": "@jupyter-widgets/base",
       "_model_module_version": "1.2.0",
       "_model_name": "LayoutModel",
       "_view_count": null,
       "_view_module": "@jupyter-widgets/base",
       "_view_module_version": "1.2.0",
       "_view_name": "LayoutView",
       "align_content": null,
       "align_items": null,
       "align_self": null,
       "border": null,
       "bottom": null,
       "display": null,
       "flex": null,
       "flex_flow": null,
       "grid_area": null,
       "grid_auto_columns": null,
       "grid_auto_flow": null,
       "grid_auto_rows": null,
       "grid_column": null,
       "grid_gap": null,
       "grid_row": null,
       "grid_template_areas": null,
       "grid_template_columns": null,
       "grid_template_rows": null,
       "height": null,
       "justify_content": null,
       "justify_items": null,
       "left": null,
       "margin": null,
       "max_height": null,
       "max_width": null,
       "min_height": null,
       "min_width": null,
       "object_fit": null,
       "object_position": null,
       "order": null,
       "overflow": null,
       "overflow_x": null,
       "overflow_y": null,
       "padding": null,
       "right": null,
       "top": null,
       "visibility": null,
       "width": null
      }
     },
     "af30722e186a4789be09a04b4b5757c0": {
      "model_module": "@jupyter-widgets/base",
      "model_module_version": "1.2.0",
      "model_name": "LayoutModel",
      "state": {
       "_model_module": "@jupyter-widgets/base",
       "_model_module_version": "1.2.0",
       "_model_name": "LayoutModel",
       "_view_count": null,
       "_view_module": "@jupyter-widgets/base",
       "_view_module_version": "1.2.0",
       "_view_name": "LayoutView",
       "align_content": null,
       "align_items": null,
       "align_self": null,
       "border": null,
       "bottom": null,
       "display": null,
       "flex": null,
       "flex_flow": null,
       "grid_area": null,
       "grid_auto_columns": null,
       "grid_auto_flow": null,
       "grid_auto_rows": null,
       "grid_column": null,
       "grid_gap": null,
       "grid_row": null,
       "grid_template_areas": null,
       "grid_template_columns": null,
       "grid_template_rows": null,
       "height": null,
       "justify_content": null,
       "justify_items": null,
       "left": null,
       "margin": null,
       "max_height": null,
       "max_width": null,
       "min_height": null,
       "min_width": null,
       "object_fit": null,
       "object_position": null,
       "order": null,
       "overflow": null,
       "overflow_x": null,
       "overflow_y": null,
       "padding": null,
       "right": null,
       "top": null,
       "visibility": null,
       "width": null
      }
     },
     "b03e40d2640a4635bae67f849d13d373": {
      "model_module": "@jupyter-widgets/controls",
      "model_module_version": "1.5.0",
      "model_name": "FloatProgressModel",
      "state": {
       "_dom_classes": [],
       "_model_module": "@jupyter-widgets/controls",
       "_model_module_version": "1.5.0",
       "_model_name": "FloatProgressModel",
       "_view_count": null,
       "_view_module": "@jupyter-widgets/controls",
       "_view_module_version": "1.5.0",
       "_view_name": "ProgressView",
       "bar_style": "success",
       "description": "",
       "description_tooltip": null,
       "layout": "IPY_MODEL_8e8c9c42848140d889c0548ee431eb4b",
       "max": 5069051.0,
       "min": 0.0,
       "orientation": "horizontal",
       "style": "IPY_MODEL_18c2c955fd024f88a41f945ae50e535f",
       "value": 5069051.0
      }
     },
     "b2e2a91eb9e4413bac5d72dbdd4f5dd2": {
      "model_module": "@jupyter-widgets/base",
      "model_module_version": "1.2.0",
      "model_name": "LayoutModel",
      "state": {
       "_model_module": "@jupyter-widgets/base",
       "_model_module_version": "1.2.0",
       "_model_name": "LayoutModel",
       "_view_count": null,
       "_view_module": "@jupyter-widgets/base",
       "_view_module_version": "1.2.0",
       "_view_name": "LayoutView",
       "align_content": null,
       "align_items": null,
       "align_self": null,
       "border": null,
       "bottom": null,
       "display": null,
       "flex": null,
       "flex_flow": null,
       "grid_area": null,
       "grid_auto_columns": null,
       "grid_auto_flow": null,
       "grid_auto_rows": null,
       "grid_column": null,
       "grid_gap": null,
       "grid_row": null,
       "grid_template_areas": null,
       "grid_template_columns": null,
       "grid_template_rows": null,
       "height": null,
       "justify_content": null,
       "justify_items": null,
       "left": null,
       "margin": null,
       "max_height": null,
       "max_width": null,
       "min_height": null,
       "min_width": null,
       "object_fit": null,
       "object_position": null,
       "order": null,
       "overflow": null,
       "overflow_x": null,
       "overflow_y": null,
       "padding": null,
       "right": null,
       "top": null,
       "visibility": null,
       "width": null
      }
     },
     "bbed5f686c6f4c309e5cf14d320d8d11": {
      "model_module": "@jupyter-widgets/base",
      "model_module_version": "1.2.0",
      "model_name": "LayoutModel",
      "state": {
       "_model_module": "@jupyter-widgets/base",
       "_model_module_version": "1.2.0",
       "_model_name": "LayoutModel",
       "_view_count": null,
       "_view_module": "@jupyter-widgets/base",
       "_view_module_version": "1.2.0",
       "_view_name": "LayoutView",
       "align_content": null,
       "align_items": null,
       "align_self": null,
       "border": null,
       "bottom": null,
       "display": null,
       "flex": null,
       "flex_flow": null,
       "grid_area": null,
       "grid_auto_columns": null,
       "grid_auto_flow": null,
       "grid_auto_rows": null,
       "grid_column": null,
       "grid_gap": null,
       "grid_row": null,
       "grid_template_areas": null,
       "grid_template_columns": null,
       "grid_template_rows": null,
       "height": null,
       "justify_content": null,
       "justify_items": null,
       "left": null,
       "margin": null,
       "max_height": null,
       "max_width": null,
       "min_height": null,
       "min_width": null,
       "object_fit": null,
       "object_position": null,
       "order": null,
       "overflow": null,
       "overflow_x": null,
       "overflow_y": null,
       "padding": null,
       "right": null,
       "top": null,
       "visibility": null,
       "width": null
      }
     },
     "bfa0132087d741e4be0ef08f61323c12": {
      "model_module": "@jupyter-widgets/controls",
      "model_module_version": "1.5.0",
      "model_name": "HBoxModel",
      "state": {
       "_dom_classes": [],
       "_model_module": "@jupyter-widgets/controls",
       "_model_module_version": "1.5.0",
       "_model_name": "HBoxModel",
       "_view_count": null,
       "_view_module": "@jupyter-widgets/controls",
       "_view_module_version": "1.5.0",
       "_view_name": "HBoxView",
       "box_style": "",
       "children": [
        "IPY_MODEL_2b0df09cd12447df9c353733547aa0f0",
        "IPY_MODEL_b03e40d2640a4635bae67f849d13d373",
        "IPY_MODEL_c1d6d988893f4d74b9d2be531b3fb5b6"
       ],
       "layout": "IPY_MODEL_a3e7214709014c5c89fbaadab2f89dcd"
      }
     },
     "c1d6d988893f4d74b9d2be531b3fb5b6": {
      "model_module": "@jupyter-widgets/controls",
      "model_module_version": "1.5.0",
      "model_name": "HTMLModel",
      "state": {
       "_dom_classes": [],
       "_model_module": "@jupyter-widgets/controls",
       "_model_module_version": "1.5.0",
       "_model_name": "HTMLModel",
       "_view_count": null,
       "_view_module": "@jupyter-widgets/controls",
       "_view_module_version": "1.5.0",
       "_view_name": "HTMLView",
       "description": "",
       "description_tooltip": null,
       "layout": "IPY_MODEL_2133e43191c945db9303b48a2d64e474",
       "placeholder": "​",
       "style": "IPY_MODEL_ddbb50ad98334bb7a7665ff31d645237",
       "value": " 4.83M/4.83M [00:01&lt;00:00, 4.55MB/s]"
      }
     },
     "c3bfcba07ebe4450bd980c7a9958a842": {
      "model_module": "@jupyter-widgets/controls",
      "model_module_version": "1.5.0",
      "model_name": "DescriptionStyleModel",
      "state": {
       "_model_module": "@jupyter-widgets/controls",
       "_model_module_version": "1.5.0",
       "_model_name": "DescriptionStyleModel",
       "_view_count": null,
       "_view_module": "@jupyter-widgets/base",
       "_view_module_version": "1.2.0",
       "_view_name": "StyleView",
       "description_width": ""
      }
     },
     "d608912b18284da19f23b6aaa2648aef": {
      "model_module": "@jupyter-widgets/base",
      "model_module_version": "1.2.0",
      "model_name": "LayoutModel",
      "state": {
       "_model_module": "@jupyter-widgets/base",
       "_model_module_version": "1.2.0",
       "_model_name": "LayoutModel",
       "_view_count": null,
       "_view_module": "@jupyter-widgets/base",
       "_view_module_version": "1.2.0",
       "_view_name": "LayoutView",
       "align_content": null,
       "align_items": null,
       "align_self": null,
       "border": null,
       "bottom": null,
       "display": null,
       "flex": null,
       "flex_flow": null,
       "grid_area": null,
       "grid_auto_columns": null,
       "grid_auto_flow": null,
       "grid_auto_rows": null,
       "grid_column": null,
       "grid_gap": null,
       "grid_row": null,
       "grid_template_areas": null,
       "grid_template_columns": null,
       "grid_template_rows": null,
       "height": null,
       "justify_content": null,
       "justify_items": null,
       "left": null,
       "margin": null,
       "max_height": null,
       "max_width": null,
       "min_height": null,
       "min_width": null,
       "object_fit": null,
       "object_position": null,
       "order": null,
       "overflow": null,
       "overflow_x": null,
       "overflow_y": null,
       "padding": null,
       "right": null,
       "top": null,
       "visibility": null,
       "width": null
      }
     },
     "d779f05c18924417a4d165c762646132": {
      "model_module": "@jupyter-widgets/controls",
      "model_module_version": "1.5.0",
      "model_name": "HTMLModel",
      "state": {
       "_dom_classes": [],
       "_model_module": "@jupyter-widgets/controls",
       "_model_module_version": "1.5.0",
       "_model_name": "HTMLModel",
       "_view_count": null,
       "_view_module": "@jupyter-widgets/controls",
       "_view_module_version": "1.5.0",
       "_view_name": "HTMLView",
       "description": "",
       "description_tooltip": null,
       "layout": "IPY_MODEL_7f0567eba3314cc8ac78a6fac1d5f633",
       "placeholder": "​",
       "style": "IPY_MODEL_17688d0e2192434eae0aaee6b66ee8b4",
       "value": "Downloading: 100%"
      }
     },
     "d9b367129bb84784b92c068d268ef1ca": {
      "model_module": "@jupyter-widgets/controls",
      "model_module_version": "1.5.0",
      "model_name": "ProgressStyleModel",
      "state": {
       "_model_module": "@jupyter-widgets/controls",
       "_model_module_version": "1.5.0",
       "_model_name": "ProgressStyleModel",
       "_view_count": null,
       "_view_module": "@jupyter-widgets/base",
       "_view_module_version": "1.2.0",
       "_view_name": "StyleView",
       "bar_color": null,
       "description_width": ""
      }
     },
     "ddbb50ad98334bb7a7665ff31d645237": {
      "model_module": "@jupyter-widgets/controls",
      "model_module_version": "1.5.0",
      "model_name": "DescriptionStyleModel",
      "state": {
       "_model_module": "@jupyter-widgets/controls",
       "_model_module_version": "1.5.0",
       "_model_name": "DescriptionStyleModel",
       "_view_count": null,
       "_view_module": "@jupyter-widgets/base",
       "_view_module_version": "1.2.0",
       "_view_name": "StyleView",
       "description_width": ""
      }
     },
     "eac25bc7b3744d1d8ddc0cfae125aeb9": {
      "model_module": "@jupyter-widgets/controls",
      "model_module_version": "1.5.0",
      "model_name": "FloatProgressModel",
      "state": {
       "_dom_classes": [],
       "_model_module": "@jupyter-widgets/controls",
       "_model_module_version": "1.5.0",
       "_model_name": "FloatProgressModel",
       "_view_count": null,
       "_view_module": "@jupyter-widgets/controls",
       "_view_module_version": "1.5.0",
       "_view_name": "ProgressView",
       "bar_style": "success",
       "description": "",
       "description_tooltip": null,
       "layout": "IPY_MODEL_614b0dde49a747abbf416015320b2804",
       "max": 615.0,
       "min": 0.0,
       "orientation": "horizontal",
       "style": "IPY_MODEL_d9b367129bb84784b92c068d268ef1ca",
       "value": 615.0
      }
     },
     "f4fa850519e14ae181c3dd550c2cdac5": {
      "model_module": "@jupyter-widgets/controls",
      "model_module_version": "1.5.0",
      "model_name": "FloatProgressModel",
      "state": {
       "_dom_classes": [],
       "_model_module": "@jupyter-widgets/controls",
       "_model_module_version": "1.5.0",
       "_model_name": "FloatProgressModel",
       "_view_count": null,
       "_view_module": "@jupyter-widgets/controls",
       "_view_module_version": "1.5.0",
       "_view_name": "ProgressView",
       "bar_style": "success",
       "description": "",
       "description_tooltip": null,
       "layout": "IPY_MODEL_893df90e19dd474a95cb7a2f0945e357",
       "max": 1115590446.0,
       "min": 0.0,
       "orientation": "horizontal",
       "style": "IPY_MODEL_9f069423e26c455e930ec624b364340c",
       "value": 1115590446.0
      }
     }
    },
    "version_major": 2,
    "version_minor": 0
   }
  }
 },
 "nbformat": 4,
 "nbformat_minor": 5
}
